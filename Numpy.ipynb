{
  "nbformat": 4,
  "nbformat_minor": 0,
  "metadata": {
    "colab": {
      "name": "Numpy.ipynb",
      "provenance": [],
      "toc_visible": true,
      "authorship_tag": "ABX9TyPlLMPg5w+igi6yysuUuEki",
      "include_colab_link": true
    },
    "kernelspec": {
      "name": "python3",
      "display_name": "Python 3"
    },
    "language_info": {
      "name": "python"
    }
  },
  "cells": [
    {
      "cell_type": "markdown",
      "metadata": {
        "id": "view-in-github",
        "colab_type": "text"
      },
      "source": [
        "<a href=\"https://colab.research.google.com/github/ringgoagsya/latihan_python/blob/main/Numpy.ipynb\" target=\"_parent\"><img src=\"https://colab.research.google.com/assets/colab-badge.svg\" alt=\"Open In Colab\"/></a>"
      ]
    },
    {
      "cell_type": "markdown",
      "metadata": {
        "deletable": true,
        "editable": true,
        "id": "jraUJRsSFpm0"
      },
      "source": [
        "# Introduction to NumPy"
      ]
    },
    {
      "cell_type": "markdown",
      "metadata": {
        "deletable": true,
        "editable": true,
        "id": "XmYxs8DzFpm0"
      },
      "source": [
        "Untuk mengimport numpy dan mengecek versi numpy yang digunakan dapat dengan kodingan dibawah"
      ]
    },
    {
      "cell_type": "code",
      "metadata": {
        "deletable": true,
        "editable": true,
        "id": "G0uNpmDRFpm1",
        "colab": {
          "base_uri": "https://localhost:8080/",
          "height": 35
        },
        "outputId": "4c78cd33-065d-4b58-97c3-039d35e6dbba"
      },
      "source": [
        "import numpy\n",
        "numpy.__version__"
      ],
      "execution_count": null,
      "outputs": [
        {
          "output_type": "execute_result",
          "data": {
            "application/vnd.google.colaboratory.intrinsic+json": {
              "type": "string"
            },
            "text/plain": [
              "'1.19.5'"
            ]
          },
          "metadata": {
            "tags": []
          },
          "execution_count": 1
        }
      ]
    },
    {
      "cell_type": "markdown",
      "metadata": {
        "deletable": true,
        "editable": true,
        "id": "jIq5-KObFpm3"
      },
      "source": [
        "terlihat dari output diatas kita menggunakan numpy versi 1.19.5. ini dapat berbeda di setiap device yang digunakan, sehubungan kita menggunakan google collab maka akan sama."
      ]
    },
    {
      "cell_type": "code",
      "metadata": {
        "deletable": true,
        "editable": true,
        "id": "FJs7qdakFpm3"
      },
      "source": [
        "import numpy as np"
      ],
      "execution_count": null,
      "outputs": []
    },
    {
      "cell_type": "markdown",
      "metadata": {
        "deletable": true,
        "editable": true,
        "id": "JOOBVH8HFpm3"
      },
      "source": [
        "kita juga bisa meginport numpy dengan alias (as) untuk mempersingkat penulisan kodingan nantikknya menjadi np. yang biasanya numpy.array() menjadi np.array(). Simple kan :)"
      ]
    },
    {
      "cell_type": "markdown",
      "metadata": {
        "deletable": true,
        "editable": true,
        "id": "15HNxuRpFpm3"
      },
      "source": [
        "## Reminder about Built In Documentation\n"
      ]
    },
    {
      "cell_type": "markdown",
      "metadata": {
        "id": "ItW6_1kdJDum"
      },
      "source": [
        "untuk menampilkan semua konten namespace numpy, Anda dapat mengetik in"
      ]
    },
    {
      "cell_type": "code",
      "metadata": {
        "colab": {
          "base_uri": "https://localhost:8080/",
          "height": 129
        },
        "id": "iWkH-tr4Iq1l",
        "outputId": "84921457-5b1d-4963-d2a9-795c7e812dd2"
      },
      "source": [
        "np.<TAB>"
      ],
      "execution_count": null,
      "outputs": [
        {
          "output_type": "error",
          "ename": "SyntaxError",
          "evalue": "ignored",
          "traceback": [
            "\u001b[0;36m  File \u001b[0;32m\"<ipython-input-3-cafe7d82c7d0>\"\u001b[0;36m, line \u001b[0;32m1\u001b[0m\n\u001b[0;31m    np.<TAB>\u001b[0m\n\u001b[0m       ^\u001b[0m\n\u001b[0;31mSyntaxError\u001b[0m\u001b[0;31m:\u001b[0m invalid syntax\n"
          ]
        }
      ]
    },
    {
      "cell_type": "markdown",
      "metadata": {
        "id": "47S78NnIJExb"
      },
      "source": [
        "untuk menampilkan about atau documentasi dari numpy bisa dengan mengetik kodingan dibawah ini"
      ]
    },
    {
      "cell_type": "code",
      "metadata": {
        "id": "MORFIqfMIxlB"
      },
      "source": [
        "np?"
      ],
      "execution_count": null,
      "outputs": []
    },
    {
      "cell_type": "markdown",
      "metadata": {
        "id": "wR4tjG6TFwta"
      },
      "source": [
        "# Understanding Data Types in Python"
      ]
    },
    {
      "cell_type": "markdown",
      "metadata": {
        "id": "SUbakBuzNvaS"
      },
      "source": [
        "Bagian ini menjelaskan dan membandingkan bagaimana array menggunakan Python itu sendiri, dan bagaimana pula dengan numpy.\n",
        "\n",
        "Dalam kodingan C biasa seperti dibawah ini\n",
        "\n",
        "```C\n",
        "/* C code */\n",
        "int result = 0;\n",
        "for(int i=0; i<100; i++){\n",
        "    result += i;\n",
        "}\n",
        "```\n",
        "\n",
        "Sementara di Python, operasi yang setara dan singkat dapat ditulis seperti dibawah ini"
      ]
    },
    {
      "cell_type": "code",
      "metadata": {
        "id": "5YVOhgTLOfHo"
      },
      "source": [
        "# Python code\n",
        "result = 0\n",
        "for i in range(100):\n",
        "    result += i"
      ],
      "execution_count": null,
      "outputs": []
    },
    {
      "cell_type": "markdown",
      "metadata": {
        "id": "qlYZARUtQRb-"
      },
      "source": [
        "Dalam python tidak perlu mengidentifikasi tipe data yang digunakan karena python sudah bisa mengenali secara otomatis."
      ]
    },
    {
      "cell_type": "code",
      "metadata": {
        "id": "4iYS1_7iQPOX"
      },
      "source": [
        "# Python code\n",
        "x = 4\n",
        "x = \"four\""
      ],
      "execution_count": null,
      "outputs": []
    },
    {
      "cell_type": "markdown",
      "metadata": {
        "id": "7zjDmHzhQZWp"
      },
      "source": [
        "sedangkan dalam C kita perlu menginisialisasi tipe datanya jika kita input tidak sesuai dengan tipe datanya maka akan eror seperti contoh di bawah ini:\n",
        "\n",
        "```C\n",
        "/* C code */\n",
        "int x = 4;\n",
        "x = \"four\";  // FAILS\n",
        "```\n",
        "\n",
        "itulah yang membuat python lebih simple dan fleksibel dengan keadaan hiyaa :)"
      ]
    },
    {
      "cell_type": "markdown",
      "metadata": {
        "id": "mFzigEv2Fwtb"
      },
      "source": [
        "## A Python Integer Is More Than Just an Integer\n",
        "\n",
        "Integer di python tidak perlu di tuliskan seperti halnya bahasa C dibawah. sehingga python bisa mengidentifikasi nya sebagai objek\n",
        "\n",
        "```C\n",
        "struct _longobject {\n",
        "    long ob_refcnt;\n",
        "    PyTypeObject *ob_type;\n",
        "    size_t ob_size;\n",
        "    long ob_digit[1];\n",
        "};\n",
        "```\n",
        "\n",
        "Integer di Python 3.4 sebenarnya berisi empat bagian:\n",
        "\n",
        "1. ob_refcnt, jumlah referensi yang membantu Python menangani alokasi memori dan deallocation memori secara diam\"\n",
        "2. ob_type, yang mengkodekan tipe variabel\n",
        "3. ob_size, yang menentukan ukuran data\n",
        "ob_digit, yang berisi nilai integer aktual yang kita harapkan oleh variabel python\n",
        "\n",
        "Ini menunjukkan beberapa kelebihan dalam menyimpan integer dengan Python dibandingkan dengan integer dalam bahasa yang dikompilasi seperti C."
      ]
    },
    {
      "cell_type": "markdown",
      "metadata": {
        "id": "ZyXOMgQbFwtd"
      },
      "source": [
        "## A Python List Is More Than Just a List\n",
        "\n",
        "Berikut penulisan kodingan list pada python. bawaan python ya belum lagi dari numpy"
      ]
    },
    {
      "cell_type": "code",
      "metadata": {
        "id": "FhDjXuakFwtd",
        "colab": {
          "base_uri": "https://localhost:8080/"
        },
        "outputId": "1cef6102-1f5a-444c-d37a-dc969b2bc5f7"
      },
      "source": [
        "L = list(range(10))\n",
        "L"
      ],
      "execution_count": null,
      "outputs": [
        {
          "output_type": "execute_result",
          "data": {
            "text/plain": [
              "[0, 1, 2, 3, 4, 5, 6, 7, 8, 9]"
            ]
          },
          "metadata": {
            "tags": []
          },
          "execution_count": 11
        }
      ]
    },
    {
      "cell_type": "markdown",
      "metadata": {
        "id": "DXTrf0e6YjGK"
      },
      "source": [
        "di kodingan diatas kita list dengan range 10"
      ]
    },
    {
      "cell_type": "code",
      "metadata": {
        "id": "fgMcT3DIFwte",
        "colab": {
          "base_uri": "https://localhost:8080/"
        },
        "outputId": "d7eae649-b6e5-40a5-b145-6023b1922218"
      },
      "source": [
        "type(L[0])"
      ],
      "execution_count": null,
      "outputs": [
        {
          "output_type": "execute_result",
          "data": {
            "text/plain": [
              "int"
            ]
          },
          "metadata": {
            "tags": []
          },
          "execution_count": 12
        }
      ]
    },
    {
      "cell_type": "markdown",
      "metadata": {
        "id": "HMEcGkGSFwtf"
      },
      "source": [
        "untuk melihat type data dari list index ke-0 bisa dengan kodingan diatas dapat dilihat typenya yaitu int (integer)"
      ]
    },
    {
      "cell_type": "code",
      "metadata": {
        "id": "6OEtmekcFwtf",
        "colab": {
          "base_uri": "https://localhost:8080/"
        },
        "outputId": "be105ffd-c5ed-4064-999b-d91ce9406e43"
      },
      "source": [
        "L2 = [str(c) for c in L]\n",
        "L2"
      ],
      "execution_count": null,
      "outputs": [
        {
          "output_type": "execute_result",
          "data": {
            "text/plain": [
              "['0', '1', '2', '3', '4', '5', '6', '7', '8', '9']"
            ]
          },
          "metadata": {
            "tags": []
          },
          "execution_count": 13
        }
      ]
    },
    {
      "cell_type": "markdown",
      "metadata": {
        "id": "M9bdou6RY2RC"
      },
      "source": [
        "dengan fungsi str kita bisa memasukkan data list L tadi ke variabel c diatas. apa bila kita kita menginisialisasi sebagai string maka penandanya yaitu di output akan ditulis dalam tanda kutip"
      ]
    },
    {
      "cell_type": "code",
      "metadata": {
        "id": "gHK_zRW-Fwtf",
        "colab": {
          "base_uri": "https://localhost:8080/"
        },
        "outputId": "96725f41-c727-48a1-f1f3-5d0784df67e1"
      },
      "source": [
        "type(L2[0])"
      ],
      "execution_count": null,
      "outputs": [
        {
          "output_type": "execute_result",
          "data": {
            "text/plain": [
              "str"
            ]
          },
          "metadata": {
            "tags": []
          },
          "execution_count": 14
        }
      ]
    },
    {
      "cell_type": "markdown",
      "metadata": {
        "id": "pwwPeqJhZGTb"
      },
      "source": [
        "kan type datanya sudah berubah menjadi str(string)"
      ]
    },
    {
      "cell_type": "markdown",
      "metadata": {
        "id": "6JhzRONaFwtg"
      },
      "source": [
        "Karena pengkodean yang dinamis. Python dapat membuat daftar yang heterogen seperti dibawah ini :"
      ]
    },
    {
      "cell_type": "code",
      "metadata": {
        "id": "9xsnfHjwFwtg",
        "colab": {
          "base_uri": "https://localhost:8080/"
        },
        "outputId": "90d09549-a2a0-4066-c016-4fa46c328439"
      },
      "source": [
        "L3 = [True, \"2\", 3.0, 4]\n",
        "[type(item) for item in L3]"
      ],
      "execution_count": null,
      "outputs": [
        {
          "output_type": "execute_result",
          "data": {
            "text/plain": [
              "[bool, str, float, int]"
            ]
          },
          "metadata": {
            "tags": []
          },
          "execution_count": 15
        }
      ]
    },
    {
      "cell_type": "markdown",
      "metadata": {
        "id": "yYzl-FBQZWvb"
      },
      "source": [
        "untul type data L3[0] -> bool atau boolean yang mengembalikan nilai true atau false. L3[1] -> str atau string karena dalam penulisan didalam tanda kutip. L3[2] -> float dalam penginisialisasi berkoma, dan L3[3] -> int atau integer sebagai bil bulat"
      ]
    },
    {
      "cell_type": "markdown",
      "metadata": {
        "id": "-dF3bjItFwth"
      },
      "source": [
        "## Fixed-Type Arrays in Python\n",
        "\n",
        "Penjelasan tentang array bawaan (tersedia sejak Python versi 3.3). Kodingan digunakan untuk membuat array dengan tipe seragam seperti dibawah ini :"
      ]
    },
    {
      "cell_type": "code",
      "metadata": {
        "id": "V5RTRjvYFwth",
        "colab": {
          "base_uri": "https://localhost:8080/"
        },
        "outputId": "cbb8a1e9-a881-4530-ecaa-4760c1f39abf"
      },
      "source": [
        "import array\n",
        "L = list(range(10))\n",
        "A = array.array('i', L)\n",
        "A"
      ],
      "execution_count": null,
      "outputs": [
        {
          "output_type": "execute_result",
          "data": {
            "text/plain": [
              "array('i', [0, 1, 2, 3, 4, 5, 6, 7, 8, 9])"
            ]
          },
          "metadata": {
            "tags": []
          },
          "execution_count": 16
        }
      ]
    },
    {
      "cell_type": "markdown",
      "metadata": {
        "id": "jdJrBYVTFwth"
      },
      "source": [
        "'i' disini adalah kode tipe yang menunjukkan isinya adalah bilangan bulat."
      ]
    },
    {
      "cell_type": "code",
      "metadata": {
        "id": "8W1-vuHKFwti"
      },
      "source": [
        "import numpy as np"
      ],
      "execution_count": null,
      "outputs": []
    },
    {
      "cell_type": "markdown",
      "metadata": {
        "id": "97gDbIewatCB"
      },
      "source": [
        "kode diatas untuk mengimport library numpy dengan alias (as) np untuk mempersingkat pengkodean"
      ]
    },
    {
      "cell_type": "markdown",
      "metadata": {
        "id": "d09Nla3gFwti"
      },
      "source": [
        "## Creating Arrays from Python Lists\n",
        "\n",
        "penggunaan ``np.array`` untuk membuat array list dari library numpy :"
      ]
    },
    {
      "cell_type": "code",
      "metadata": {
        "id": "S5ba951JFwti",
        "colab": {
          "base_uri": "https://localhost:8080/"
        },
        "outputId": "401b1039-501b-47ef-8be2-39cc21049f42"
      },
      "source": [
        "# integer array:\n",
        "np.array([1, 4, 2, 5, 3])"
      ],
      "execution_count": null,
      "outputs": [
        {
          "output_type": "execute_result",
          "data": {
            "text/plain": [
              "array([1, 4, 2, 5, 3])"
            ]
          },
          "metadata": {
            "tags": []
          },
          "execution_count": 2
        }
      ]
    },
    {
      "cell_type": "markdown",
      "metadata": {
        "id": "3QKr_enSFwti"
      },
      "source": [
        "beda dengan list python biasa, Numpy dibatasi dengan array dengan tipe yang sama. Jika tidak cocok maka numpy akan meng upcast jika memungkinkan . contoh dibawah ono ada 1 angak float maka semuanya dijakian float sama si numpy:"
      ]
    },
    {
      "cell_type": "code",
      "metadata": {
        "id": "3fD-6H6HFwtj",
        "colab": {
          "base_uri": "https://localhost:8080/"
        },
        "outputId": "7c56c8e6-eb36-4243-c291-83d569a47c1d"
      },
      "source": [
        "np.array([3.14, 4, 2, 3])"
      ],
      "execution_count": null,
      "outputs": [
        {
          "output_type": "execute_result",
          "data": {
            "text/plain": [
              "array([3.14, 4.  , 2.  , 3.  ])"
            ]
          },
          "metadata": {
            "tags": []
          },
          "execution_count": 3
        }
      ]
    },
    {
      "cell_type": "markdown",
      "metadata": {
        "id": "XBaVoUAWFwtj"
      },
      "source": [
        "kita juga bisa mengatur tipe datanya dengan key ``dtype`` seperti d bawah ini:"
      ]
    },
    {
      "cell_type": "code",
      "metadata": {
        "id": "vnkvUUcnFwtj",
        "outputId": "e380b604-c368-49db-b31e-69edb79bdc60"
      },
      "source": [
        "np.array([1, 2, 3, 4], dtype='float32')"
      ],
      "execution_count": null,
      "outputs": [
        {
          "output_type": "execute_result",
          "data": {
            "text/plain": [
              "array([ 1.,  2.,  3.,  4.], dtype=float32)"
            ]
          },
          "metadata": {
            "tags": []
          },
          "execution_count": 10
        }
      ]
    },
    {
      "cell_type": "markdown",
      "metadata": {
        "id": "CDV_jaVeFwtj"
      },
      "source": [
        "salah sati cara menginisialisasi array multidimensi menggunakan list dari list wkwkw"
      ]
    },
    {
      "cell_type": "code",
      "metadata": {
        "id": "u8X_1nZGFwtj",
        "colab": {
          "base_uri": "https://localhost:8080/"
        },
        "outputId": "7c8ef4e1-bae4-42f2-d046-fb46996af5f8"
      },
      "source": [
        "# nested lists result in multi-dimensional arrays\n",
        "np.array([range(i, i + 3) for i in [2, 4, 6]])"
      ],
      "execution_count": null,
      "outputs": [
        {
          "output_type": "execute_result",
          "data": {
            "text/plain": [
              "array([[2, 3, 4],\n",
              "       [4, 5, 6],\n",
              "       [6, 7, 8]])"
            ]
          },
          "metadata": {
            "tags": []
          },
          "execution_count": 4
        }
      ]
    },
    {
      "cell_type": "markdown",
      "metadata": {
        "id": "LbL4j_dvFwtk"
      },
      "source": [
        "## Creating Arrays from Scratch\n",
        "\n",
        "membuat array berskala besar"
      ]
    },
    {
      "cell_type": "code",
      "metadata": {
        "id": "xtTlU1IdFwtk",
        "colab": {
          "base_uri": "https://localhost:8080/"
        },
        "outputId": "9dfd5c55-9b91-448a-a34c-5a952693117e"
      },
      "source": [
        "# Create a length-10 integer array filled with zeros\n",
        "np.zeros(10, dtype=int)"
      ],
      "execution_count": null,
      "outputs": [
        {
          "output_type": "execute_result",
          "data": {
            "text/plain": [
              "array([0, 0, 0, 0, 0, 0, 0, 0, 0, 0])"
            ]
          },
          "metadata": {
            "tags": []
          },
          "execution_count": 5
        }
      ]
    },
    {
      "cell_type": "markdown",
      "metadata": {
        "id": "r8_3xri_SAKm"
      },
      "source": [
        "dari kodigan  diatas untuk membuat array bernilai 0 dengan type data int"
      ]
    },
    {
      "cell_type": "code",
      "metadata": {
        "id": "KGkUizQpFwtk",
        "colab": {
          "base_uri": "https://localhost:8080/"
        },
        "outputId": "585abd12-5143-454c-c7b9-805b1bb224b1"
      },
      "source": [
        "# Create a 3x5 floating-point array filled with ones\n",
        "np.ones((3, 5), dtype=float)"
      ],
      "execution_count": null,
      "outputs": [
        {
          "output_type": "execute_result",
          "data": {
            "text/plain": [
              "array([[1., 1., 1., 1., 1.],\n",
              "       [1., 1., 1., 1., 1.],\n",
              "       [1., 1., 1., 1., 1.]])"
            ]
          },
          "metadata": {
            "tags": []
          },
          "execution_count": 6
        }
      ]
    },
    {
      "cell_type": "markdown",
      "metadata": {
        "id": "7RwBSpGeSHQj"
      },
      "source": [
        "kodingan diatas untuk membuat array bernilai 1 ukuran 3x5 dengan tipe data float"
      ]
    },
    {
      "cell_type": "code",
      "metadata": {
        "id": "Hq9GZSWPFwtl",
        "colab": {
          "base_uri": "https://localhost:8080/"
        },
        "outputId": "d0da0dc0-0135-4f7c-9d07-0e0e883e6912"
      },
      "source": [
        "# Create a 3x5 array filled with 3.14\n",
        "np.full((3, 5), 3.14)"
      ],
      "execution_count": null,
      "outputs": [
        {
          "output_type": "execute_result",
          "data": {
            "text/plain": [
              "array([[3.14, 3.14, 3.14, 3.14, 3.14],\n",
              "       [3.14, 3.14, 3.14, 3.14, 3.14],\n",
              "       [3.14, 3.14, 3.14, 3.14, 3.14]])"
            ]
          },
          "metadata": {
            "tags": []
          },
          "execution_count": 7
        }
      ]
    },
    {
      "cell_type": "markdown",
      "metadata": {
        "id": "HgyXJWrxSSuR"
      },
      "source": [
        "np.full untuk membuat array berapa kali berapa dengan inisialiasi angka lain"
      ]
    },
    {
      "cell_type": "code",
      "metadata": {
        "id": "iB2_LNJoFwtl",
        "colab": {
          "base_uri": "https://localhost:8080/"
        },
        "outputId": "4f9e03cf-6ea0-43ed-dad8-e11ae91e5c75"
      },
      "source": [
        "# Create an array filled with a linear sequence\n",
        "# Starting at 0, ending at 20, stepping by 2\n",
        "# (this is similar to the built-in range() function)\n",
        "np.arange(0, 20, 2)"
      ],
      "execution_count": null,
      "outputs": [
        {
          "output_type": "execute_result",
          "data": {
            "text/plain": [
              "array([ 0,  2,  4,  6,  8, 10, 12, 14, 16, 18])"
            ]
          },
          "metadata": {
            "tags": []
          },
          "execution_count": 8
        }
      ]
    },
    {
      "cell_type": "markdown",
      "metadata": {
        "id": "Y5XMuGELSe3N"
      },
      "source": [
        "membuat array dengan urutan linier dimulai dari 0 dan berakhir sebelum 20 dengan menambah 2 angka."
      ]
    },
    {
      "cell_type": "code",
      "metadata": {
        "id": "o0OKNnngFwtl",
        "colab": {
          "base_uri": "https://localhost:8080/"
        },
        "outputId": "3e135027-d9aa-415f-8007-7cd9b9910bf0"
      },
      "source": [
        "# Create an array of five values evenly spaced between 0 and 1\n",
        "np.linspace(0, 1, 5)"
      ],
      "execution_count": null,
      "outputs": [
        {
          "output_type": "execute_result",
          "data": {
            "text/plain": [
              "array([0.  , 0.25, 0.5 , 0.75, 1.  ])"
            ]
          },
          "metadata": {
            "tags": []
          },
          "execution_count": 9
        }
      ]
    },
    {
      "cell_type": "markdown",
      "metadata": {
        "id": "tlWKm4wGSqFv"
      },
      "source": [
        "membuat array dengan jarak yang sama antara 0 dan 1 sebanyak 5 data."
      ]
    },
    {
      "cell_type": "code",
      "metadata": {
        "id": "QwgYiXe7Fwtl",
        "colab": {
          "base_uri": "https://localhost:8080/"
        },
        "outputId": "8feb700f-2dbc-4215-90ac-cfb8e3037c9a"
      },
      "source": [
        "# Create a 3x3 array of uniformly distributed\n",
        "# random values between 0 and 1\n",
        "np.random.random((3, 3))"
      ],
      "execution_count": null,
      "outputs": [
        {
          "output_type": "execute_result",
          "data": {
            "text/plain": [
              "array([[0.50370207, 0.07412198, 0.59958168],\n",
              "       [0.75458175, 0.79084841, 0.83434284],\n",
              "       [0.62874081, 0.67623731, 0.12515995]])"
            ]
          },
          "metadata": {
            "tags": []
          },
          "execution_count": 10
        }
      ]
    },
    {
      "cell_type": "markdown",
      "metadata": {
        "id": "MG-Qjo8FS0DX"
      },
      "source": [
        "membuat array 3x3 dengan nilai random bisa dengan kodingn diatas"
      ]
    },
    {
      "cell_type": "code",
      "metadata": {
        "id": "WofaC1x8Fwtm",
        "colab": {
          "base_uri": "https://localhost:8080/"
        },
        "outputId": "23565d5f-37ee-4464-ffd0-d96e478fdc01"
      },
      "source": [
        "# Create a 3x3 array of normally distributed random values\n",
        "# with mean 0 and standard deviation 1\n",
        "np.random.normal(0, 1, (3, 3))"
      ],
      "execution_count": null,
      "outputs": [
        {
          "output_type": "execute_result",
          "data": {
            "text/plain": [
              "array([[-2.31494728,  0.39158822, -0.21010945],\n",
              "       [ 0.12347776,  1.29075796, -0.34006098],\n",
              "       [-0.5586614 ,  0.43623774, -0.5086171 ]])"
            ]
          },
          "metadata": {
            "tags": []
          },
          "execution_count": 11
        }
      ]
    },
    {
      "cell_type": "markdown",
      "metadata": {
        "id": "xpWwQewSS_HL"
      },
      "source": [
        "membuat array 3x3 dengan nilai random terdistribusi normal dimana kita se mean nya 0 dan standart deviasinya 1"
      ]
    },
    {
      "cell_type": "code",
      "metadata": {
        "id": "eE6qxQDAFwtm",
        "colab": {
          "base_uri": "https://localhost:8080/"
        },
        "outputId": "aab1d36d-900d-423c-c24b-1f0e9f611158"
      },
      "source": [
        "# Create a 3x3 array of random integers in the interval [0, 10)\n",
        "np.random.randint(0, 10, (3, 3))"
      ],
      "execution_count": null,
      "outputs": [
        {
          "output_type": "execute_result",
          "data": {
            "text/plain": [
              "array([[2, 4, 2],\n",
              "       [3, 0, 0],\n",
              "       [2, 0, 3]])"
            ]
          },
          "metadata": {
            "tags": []
          },
          "execution_count": 12
        }
      ]
    },
    {
      "cell_type": "markdown",
      "metadata": {
        "id": "uVY-o1pCTLor"
      },
      "source": [
        "np.random.randint(0, 10, (3, 3)) untuk membuat array 3x3 dengan random inteher dengan interval 0 sampai 10"
      ]
    },
    {
      "cell_type": "code",
      "metadata": {
        "id": "tfCTwFiSFwtm",
        "colab": {
          "base_uri": "https://localhost:8080/"
        },
        "outputId": "61b8c24e-3b5c-42cd-d39c-33e47b5dd4ed"
      },
      "source": [
        "# Create a 3x3 identity matrix\n",
        "np.eye(3)"
      ],
      "execution_count": null,
      "outputs": [
        {
          "output_type": "execute_result",
          "data": {
            "text/plain": [
              "array([[1., 0., 0.],\n",
              "       [0., 1., 0.],\n",
              "       [0., 0., 1.]])"
            ]
          },
          "metadata": {
            "tags": []
          },
          "execution_count": 13
        }
      ]
    },
    {
      "cell_type": "markdown",
      "metadata": {
        "id": "hgEdOZc8TUiq"
      },
      "source": [
        "np.eye untuk membuat matrik indentitas yaitu diagonal nya bernilai 1. adapun cara lain membuat matrik identitas yaitu :"
      ]
    },
    {
      "cell_type": "code",
      "metadata": {
        "colab": {
          "base_uri": "https://localhost:8080/"
        },
        "id": "AAwqsybOThIw",
        "outputId": "d7b498d6-adaa-4c86-e00d-d812c5a6b2f2"
      },
      "source": [
        "np.identity(3)"
      ],
      "execution_count": null,
      "outputs": [
        {
          "output_type": "execute_result",
          "data": {
            "text/plain": [
              "array([[1., 0., 0.],\n",
              "       [0., 1., 0.],\n",
              "       [0., 0., 1.]])"
            ]
          },
          "metadata": {
            "tags": []
          },
          "execution_count": 14
        }
      ]
    },
    {
      "cell_type": "markdown",
      "metadata": {
        "id": "bbEQ537eTk76"
      },
      "source": [
        "menggunakan np.identity juga bisa membuat matrix identitas"
      ]
    },
    {
      "cell_type": "code",
      "metadata": {
        "id": "i9pLwiLVFwtm",
        "colab": {
          "base_uri": "https://localhost:8080/"
        },
        "outputId": "a1dfcadc-dbe2-4af1-da2e-570118ef0d10"
      },
      "source": [
        "# Create an uninitialized array of three integers\n",
        "# The values will be whatever happens to already exist at that memory location\n",
        "np.empty(3)"
      ],
      "execution_count": null,
      "outputs": [
        {
          "output_type": "execute_result",
          "data": {
            "text/plain": [
              "array([1., 1., 1.])"
            ]
          },
          "metadata": {
            "tags": []
          },
          "execution_count": 15
        }
      ]
    },
    {
      "cell_type": "markdown",
      "metadata": {
        "id": "GKJHuYhzT23g"
      },
      "source": [
        "membuat array tiga bilangan bulat yang tidak diinisialisasi\n",
        "Nilai akan menjadi apa pun yang terjadi sudah ada di lokasi memori itu"
      ]
    },
    {
      "cell_type": "markdown",
      "metadata": {
        "id": "WxqX6hyzFwtn"
      },
      "source": [
        "## NumPy Standard Data Types\n",
        "\n",
        "Array NumPy berisi nilai dari satu tipe, jadi penting untuk memiliki pengetahuan mendetail tentang tipe tersebut dan batasannya"
      ]
    },
    {
      "cell_type": "code",
      "metadata": {
        "colab": {
          "base_uri": "https://localhost:8080/"
        },
        "id": "Zr0N0oqUUG4u",
        "outputId": "b00e946f-343d-4f3b-e33c-39ff053cf4d2"
      },
      "source": [
        "np.zeros(10, dtype='int16')"
      ],
      "execution_count": null,
      "outputs": [
        {
          "output_type": "execute_result",
          "data": {
            "text/plain": [
              "array([0, 0, 0, 0, 0, 0, 0, 0, 0, 0], dtype=int16)"
            ]
          },
          "metadata": {
            "tags": []
          },
          "execution_count": 16
        }
      ]
    },
    {
      "cell_type": "markdown",
      "metadata": {
        "id": "rzWPFeGMUf_j"
      },
      "source": [
        "dari diatas bisa kita inisialisasi tipe data dengan dtype=''. atau bisa juga dtype=np.int16 seperti dibawha ini"
      ]
    },
    {
      "cell_type": "code",
      "metadata": {
        "colab": {
          "base_uri": "https://localhost:8080/"
        },
        "id": "z3tulAYDULAd",
        "outputId": "b11cd79f-0771-417c-9bcf-ae4f7f01b03f"
      },
      "source": [
        "np.zeros(10, dtype=np.int16)"
      ],
      "execution_count": null,
      "outputs": [
        {
          "output_type": "execute_result",
          "data": {
            "text/plain": [
              "array([0, 0, 0, 0, 0, 0, 0, 0, 0, 0], dtype=int16)"
            ]
          },
          "metadata": {
            "tags": []
          },
          "execution_count": 17
        }
      ]
    },
    {
      "cell_type": "markdown",
      "metadata": {
        "id": "3Doie6I2UvyH"
      },
      "source": [
        "Atau bisa juga dilihat type data pada np. atau python"
      ]
    },
    {
      "cell_type": "markdown",
      "metadata": {
        "id": "LswMLns-Fwtn"
      },
      "source": [
        "| Data type\t    | Description |\n",
        "|---------------|-------------|\n",
        "| ``bool_``     | Boolean (True or False) stored as a byte |\n",
        "| ``int_``      | Default integer type (same as C ``long``; normally either ``int64`` or ``int32``)| \n",
        "| ``intc``      | Identical to C ``int`` (normally ``int32`` or ``int64``)| \n",
        "| ``intp``      | Integer used for indexing (same as C ``ssize_t``; normally either ``int32`` or ``int64``)| \n",
        "| ``int8``      | Byte (-128 to 127)| \n",
        "| ``int16``     | Integer (-32768 to 32767)|\n",
        "| ``int32``     | Integer (-2147483648 to 2147483647)|\n",
        "| ``int64``     | Integer (-9223372036854775808 to 9223372036854775807)| \n",
        "| ``uint8``     | Unsigned integer (0 to 255)| \n",
        "| ``uint16``    | Unsigned integer (0 to 65535)| \n",
        "| ``uint32``    | Unsigned integer (0 to 4294967295)| \n",
        "| ``uint64``    | Unsigned integer (0 to 18446744073709551615)| \n",
        "| ``float_``    | Shorthand for ``float64``.| \n",
        "| ``float16``   | Half precision float: sign bit, 5 bits exponent, 10 bits mantissa| \n",
        "| ``float32``   | Single precision float: sign bit, 8 bits exponent, 23 bits mantissa| \n",
        "| ``float64``   | Double precision float: sign bit, 11 bits exponent, 52 bits mantissa| \n",
        "| ``complex_``  | Shorthand for ``complex128``.| \n",
        "| ``complex64`` | Complex number, represented by two 32-bit floats| \n",
        "| ``complex128``| Complex number, represented by two 64-bit floats| "
      ]
    },
    {
      "cell_type": "markdown",
      "metadata": {
        "id": "4NaWZkTIJuR0"
      },
      "source": [
        "# The Basics of NumPy Arrays"
      ]
    },
    {
      "cell_type": "markdown",
      "metadata": {
        "id": "hbpA8pjAJuR1"
      },
      "source": [
        "Manipulasi data dengan Python hampir identik dengan manipulasi array NumPy\n",
        "\n",
        "pada materi ini akan dibahas beberapa kategori manipulasi array dasar di sini:\n",
        "\n",
        "Atribut array: Menentukan ukuran, bentuk, konsumsi memori, dan tipe data array\n",
        "Pengindeksan array: Mendapatkan dan mengatur nilai elemen array individu\n",
        "Mengiris array: Mendapatkan dan mengatur subarray yang lebih kecil dalam array yang lebih besar\n",
        "Pembentukan ulang larik: Mengubah bentuk larik tertentu\n",
        "Menggabungkan dan memisahkan array: Menggabungkan beberapa array menjadi satu, dan memisahkan satu array menjadi banyak"
      ]
    },
    {
      "cell_type": "markdown",
      "metadata": {
        "id": "rH-hPo3FJuR1"
      },
      "source": [
        "## NumPy Array Attributes"
      ]
    },
    {
      "cell_type": "markdown",
      "metadata": {
        "id": "QWDKUEQNJuR2"
      },
      "source": [
        "membuat 3 buah jenis array dari 1 dimensi, 2 dimensi dan 3 dimensi. kemudian kita lihat apa saja atribut didalam nya"
      ]
    },
    {
      "cell_type": "code",
      "metadata": {
        "id": "WHGWZVYDJuR2",
        "colab": {
          "base_uri": "https://localhost:8080/"
        },
        "outputId": "3832b361-7a77-41b8-aca2-27130063527d"
      },
      "source": [
        "import numpy as np\n",
        "np.random.seed(0)  # seed for reproducibility\n",
        "\n",
        "x1 = np.random.randint(10, size=6)  # One-dimensional array\n",
        "x2 = np.random.randint(10, size=(3, 4))  # Two-dimensional array\n",
        "x3 = np.random.randint(10, size=(3, 4, 5))  # Three-dimensional array\n",
        "\n",
        "print(\"array 1 dimensi\\n\",x1)\n",
        "print(\"array 2 dimensi\\n\",x2)\n",
        "print(\"array 3 dimensi \\n\",x3)"
      ],
      "execution_count": null,
      "outputs": [
        {
          "output_type": "stream",
          "text": [
            "array 1 dimensi\n",
            " [5 0 3 3 7 9]\n",
            "array 2 dimensi\n",
            " [[3 5 2 4]\n",
            " [7 6 8 8]\n",
            " [1 6 7 7]]\n",
            "array 3 dimensi \n",
            " [[[8 1 5 9 8]\n",
            "  [9 4 3 0 3]\n",
            "  [5 0 2 3 8]\n",
            "  [1 3 3 3 7]]\n",
            "\n",
            " [[0 1 9 9 0]\n",
            "  [4 7 3 2 7]\n",
            "  [2 0 0 4 5]\n",
            "  [5 6 8 4 1]]\n",
            "\n",
            " [[4 9 8 1 1]\n",
            "  [7 9 9 3 6]\n",
            "  [7 2 0 3 5]\n",
            "  [9 4 4 6 4]]]\n"
          ],
          "name": "stdout"
        }
      ]
    },
    {
      "cell_type": "markdown",
      "metadata": {
        "id": "DnX1E1tXJuR3"
      },
      "source": [
        "setiap array memeliki beberapa atribut ``ndim`` (jumlah dimensi), ``shape`` (ukuran setiap dimensi), and ``size`` (ukuran total dari array tersebut):"
      ]
    },
    {
      "cell_type": "code",
      "metadata": {
        "id": "pn4qpfhiJuR3",
        "colab": {
          "base_uri": "https://localhost:8080/"
        },
        "outputId": "5285b7c0-890b-4d95-d27a-64af1c347cdf"
      },
      "source": [
        "print(\"x3 ndim: \", x3.ndim)\n",
        "print(\"x3 shape:\", x3.shape)\n",
        "print(\"x3 size: \", x3.size)"
      ],
      "execution_count": null,
      "outputs": [
        {
          "output_type": "stream",
          "text": [
            "x3 ndim:  3\n",
            "x3 shape: (3, 4, 5)\n",
            "x3 size:  60\n"
          ],
          "name": "stdout"
        }
      ]
    },
    {
      "cell_type": "markdown",
      "metadata": {
        "id": "miCXzWQjJuR5"
      },
      "source": [
        "fungsi``dtype``, untuk mengecek type data dari array tsbt"
      ]
    },
    {
      "cell_type": "code",
      "metadata": {
        "id": "1VryxBiNJuR5",
        "colab": {
          "base_uri": "https://localhost:8080/"
        },
        "outputId": "e182192e-5473-4ab2-ff08-df15c4d349c8"
      },
      "source": [
        "print(\"dtype:\", x3.dtype)"
      ],
      "execution_count": null,
      "outputs": [
        {
          "output_type": "stream",
          "text": [
            "dtype: int64\n"
          ],
          "name": "stdout"
        }
      ]
    },
    {
      "cell_type": "markdown",
      "metadata": {
        "id": "F2zE2dLsJuR6"
      },
      "source": [
        "atribut lain spt ``itemsize``, akan menampilkan ukuran aray (dalam bytes), dan ``nbytes``, memuat ukuran total dalam byte dari array:"
      ]
    },
    {
      "cell_type": "code",
      "metadata": {
        "id": "-IWeI4_nJuR6",
        "colab": {
          "base_uri": "https://localhost:8080/"
        },
        "outputId": "11abd5b8-fd9e-4c53-c132-4529c4c7c00d"
      },
      "source": [
        "print(\"itemsize:\", x3.itemsize, \"bytes\")\n",
        "print(\"nbytes:\", x3.nbytes, \"bytes\")"
      ],
      "execution_count": null,
      "outputs": [
        {
          "output_type": "stream",
          "text": [
            "itemsize: 8 bytes\n",
            "nbytes: 480 bytes\n"
          ],
          "name": "stdout"
        }
      ]
    },
    {
      "cell_type": "markdown",
      "metadata": {
        "id": "L2kpMuTQJuR7"
      },
      "source": [
        "## Array Indexing: Accessing Single Elements"
      ]
    },
    {
      "cell_type": "markdown",
      "metadata": {
        "id": "FgL_F2zuY4b6"
      },
      "source": [
        "setiap array pengindeksan nya tetap dimulai dari index-0. bisa dilihat dari output beberpa contoh dibawah"
      ]
    },
    {
      "cell_type": "code",
      "metadata": {
        "id": "dO5ingu7JuR7",
        "colab": {
          "base_uri": "https://localhost:8080/"
        },
        "outputId": "a36145fc-9883-49aa-d89c-07d8ca2aac46"
      },
      "source": [
        "x1"
      ],
      "execution_count": null,
      "outputs": [
        {
          "output_type": "execute_result",
          "data": {
            "text/plain": [
              "array([5, 0, 3, 3, 7, 9])"
            ]
          },
          "metadata": {
            "tags": []
          },
          "execution_count": 6
        }
      ]
    },
    {
      "cell_type": "code",
      "metadata": {
        "id": "nonjs_zAJuR8",
        "colab": {
          "base_uri": "https://localhost:8080/"
        },
        "outputId": "6e1d1cac-7dbd-40ed-82a1-fa139d3d8944"
      },
      "source": [
        "x1[0]"
      ],
      "execution_count": null,
      "outputs": [
        {
          "output_type": "execute_result",
          "data": {
            "text/plain": [
              "5"
            ]
          },
          "metadata": {
            "tags": []
          },
          "execution_count": 7
        }
      ]
    },
    {
      "cell_type": "code",
      "metadata": {
        "id": "hFhip0QWJuR8",
        "colab": {
          "base_uri": "https://localhost:8080/"
        },
        "outputId": "2bbeca78-ceac-4dcc-e8d0-0061f8bf8eca"
      },
      "source": [
        "x1[4]"
      ],
      "execution_count": null,
      "outputs": [
        {
          "output_type": "execute_result",
          "data": {
            "text/plain": [
              "7"
            ]
          },
          "metadata": {
            "tags": []
          },
          "execution_count": 8
        }
      ]
    },
    {
      "cell_type": "markdown",
      "metadata": {
        "id": "WOcB2SC3JuR9"
      },
      "source": [
        "untuk mengindeks dari akhir array bisa dimulai dengan negatif -1"
      ]
    },
    {
      "cell_type": "code",
      "metadata": {
        "id": "KM7TRYUGJuR9",
        "colab": {
          "base_uri": "https://localhost:8080/"
        },
        "outputId": "24d3ff82-1477-40af-ac1e-6bea9bb47d72"
      },
      "source": [
        "x1[-1]"
      ],
      "execution_count": null,
      "outputs": [
        {
          "output_type": "execute_result",
          "data": {
            "text/plain": [
              "9"
            ]
          },
          "metadata": {
            "tags": []
          },
          "execution_count": 9
        }
      ]
    },
    {
      "cell_type": "code",
      "metadata": {
        "id": "fS1yzF7OJuR9",
        "colab": {
          "base_uri": "https://localhost:8080/"
        },
        "outputId": "ddf40622-5f79-4be4-a459-c6cdac235593"
      },
      "source": [
        "x1[-2]"
      ],
      "execution_count": null,
      "outputs": [
        {
          "output_type": "execute_result",
          "data": {
            "text/plain": [
              "7"
            ]
          },
          "metadata": {
            "tags": []
          },
          "execution_count": 10
        }
      ]
    },
    {
      "cell_type": "markdown",
      "metadata": {
        "id": "C-A9oNP9JuR-"
      },
      "source": [
        "di array multidimensi untuk pengindeksan tupel dipisahkan dengan koma"
      ]
    },
    {
      "cell_type": "code",
      "metadata": {
        "id": "ChhwkyCgJuR-",
        "colab": {
          "base_uri": "https://localhost:8080/"
        },
        "outputId": "cf3e5eb7-5a2c-4456-b59c-52752824c26c"
      },
      "source": [
        "x2"
      ],
      "execution_count": null,
      "outputs": [
        {
          "output_type": "execute_result",
          "data": {
            "text/plain": [
              "array([[3, 5, 2, 4],\n",
              "       [7, 6, 8, 8],\n",
              "       [1, 6, 7, 7]])"
            ]
          },
          "metadata": {
            "tags": []
          },
          "execution_count": 11
        }
      ]
    },
    {
      "cell_type": "code",
      "metadata": {
        "id": "ZE-2olgfJuR-",
        "colab": {
          "base_uri": "https://localhost:8080/"
        },
        "outputId": "bc9f85d6-b711-4d01-ec9a-7b9d717b9a9f"
      },
      "source": [
        "x2[0, 0]"
      ],
      "execution_count": null,
      "outputs": [
        {
          "output_type": "execute_result",
          "data": {
            "text/plain": [
              "3"
            ]
          },
          "metadata": {
            "tags": []
          },
          "execution_count": 12
        }
      ]
    },
    {
      "cell_type": "markdown",
      "metadata": {
        "id": "TBYNr3FgZpvb"
      },
      "source": [
        "untuk x2[0,0] artinya array dari baris berindeks 0 dan kolom berindeks 0"
      ]
    },
    {
      "cell_type": "code",
      "metadata": {
        "id": "TNiZf4TnJuR-",
        "colab": {
          "base_uri": "https://localhost:8080/"
        },
        "outputId": "8b9c1028-284a-4f42-8767-cb871a7a37e0"
      },
      "source": [
        "x2[2, 0]"
      ],
      "execution_count": null,
      "outputs": [
        {
          "output_type": "execute_result",
          "data": {
            "text/plain": [
              "1"
            ]
          },
          "metadata": {
            "tags": []
          },
          "execution_count": 13
        }
      ]
    },
    {
      "cell_type": "markdown",
      "metadata": {
        "id": "HYJUq7wGZzrM"
      },
      "source": [
        "untuk x2[2,0] artinya array dari baris berindeks 2 dan kolom berindeks 0"
      ]
    },
    {
      "cell_type": "code",
      "metadata": {
        "id": "LbYdYzOEJuR_",
        "colab": {
          "base_uri": "https://localhost:8080/"
        },
        "outputId": "244844f0-dbb7-41ff-9525-b9abd0fffb56"
      },
      "source": [
        "x2[2, -1]"
      ],
      "execution_count": null,
      "outputs": [
        {
          "output_type": "execute_result",
          "data": {
            "text/plain": [
              "7"
            ]
          },
          "metadata": {
            "tags": []
          },
          "execution_count": 14
        }
      ]
    },
    {
      "cell_type": "markdown",
      "metadata": {
        "id": "iiLYWHNhZ2Ks"
      },
      "source": [
        "untuk x2[2,-1] artinya array dari baris berindeks 2 dan kolom berindeks -1. indek -1 disini berarti array dengan indek terakhir."
      ]
    },
    {
      "cell_type": "markdown",
      "metadata": {
        "id": "CuvplPujJuR_"
      },
      "source": [
        "bisa juga mengubah nilai array dengan cara menulis array keberapa dan dilanjutkan dengan = + berapa nilainya. seperti dibawha ini"
      ]
    },
    {
      "cell_type": "code",
      "metadata": {
        "id": "LkE2vmAhJuR_",
        "colab": {
          "base_uri": "https://localhost:8080/"
        },
        "outputId": "3bf48a43-b97d-422d-94bd-f8621f458c8e"
      },
      "source": [
        "x2[0, 0] = 12\n",
        "x2"
      ],
      "execution_count": null,
      "outputs": [
        {
          "output_type": "execute_result",
          "data": {
            "text/plain": [
              "array([[12,  5,  2,  4],\n",
              "       [ 7,  6,  8,  8],\n",
              "       [ 1,  6,  7,  7]])"
            ]
          },
          "metadata": {
            "tags": []
          },
          "execution_count": 15
        }
      ]
    },
    {
      "cell_type": "markdown",
      "metadata": {
        "id": "2G7dsNtGaPpp"
      },
      "source": [
        "jika kita mengubah nilai tetapi nilai yang kita masukkan tidak sesuai dengan type data sebelumnya. maka aka di truncated menjadi tipe data sebelumnya. misal tipe data sebelumnya int dan kita mengubah salah satu nilai menjadi bilangan berkoma maka nilai berkoma akan dijadikan bilangan bulat dengan algoritma pembulatan normal."
      ]
    },
    {
      "cell_type": "code",
      "metadata": {
        "id": "cDlm3wbNJuSA",
        "colab": {
          "base_uri": "https://localhost:8080/"
        },
        "outputId": "018e417d-7ca6-404d-dd9f-b49f4c5ff262"
      },
      "source": [
        "x1[0] = 3.14159  # this will be truncated!\n",
        "x1"
      ],
      "execution_count": null,
      "outputs": [
        {
          "output_type": "execute_result",
          "data": {
            "text/plain": [
              "array([3, 0, 3, 3, 7, 9])"
            ]
          },
          "metadata": {
            "tags": []
          },
          "execution_count": 16
        }
      ]
    },
    {
      "cell_type": "markdown",
      "metadata": {
        "id": "Ph70mRN6aPRK"
      },
      "source": [
        ""
      ]
    },
    {
      "cell_type": "markdown",
      "metadata": {
        "id": "GRFHoDqbJuSA"
      },
      "source": [
        "## Array Slicing: Accessing Subarrays"
      ]
    },
    {
      "cell_type": "markdown",
      "metadata": {
        "id": "ZwmwQKVEJuSA"
      },
      "source": [
        "kita juga bisa mengakses elemen array dengan notasi  *slice* , atau tanda colon (``:``).\n",
        "penjelasan slice akan dijelaskan seperti dibawah ini\n",
        "``` python\n",
        "x[start:stop:step]\n",
        "```\n",
        "Jika salah satu di antaranya tidak ditentukan, nilai defaultnya start = 0, stop = ukuran dimensi, step = 1. Kita akan melihat mengakses sub-array dalam satu dimensi dan dalam beberapa dimensi."
      ]
    },
    {
      "cell_type": "markdown",
      "metadata": {
        "id": "OBkFFZhtJuSB"
      },
      "source": [
        "### One-dimensional subarrays"
      ]
    },
    {
      "cell_type": "code",
      "metadata": {
        "id": "uAC-RcUeJuSB",
        "colab": {
          "base_uri": "https://localhost:8080/"
        },
        "outputId": "05d15adc-532c-440a-ae48-8f8d0dbe3bcb"
      },
      "source": [
        "x = np.arange(10)\n",
        "x"
      ],
      "execution_count": null,
      "outputs": [
        {
          "output_type": "execute_result",
          "data": {
            "text/plain": [
              "array([0, 1, 2, 3, 4, 5, 6, 7, 8, 9])"
            ]
          },
          "metadata": {
            "tags": []
          },
          "execution_count": 17
        }
      ]
    },
    {
      "cell_type": "markdown",
      "metadata": {
        "id": "-uLSqPr8bYDI"
      },
      "source": [
        "membuat array berjumlah 10 sesuai urutan"
      ]
    },
    {
      "cell_type": "code",
      "metadata": {
        "id": "-E6BmCXRJuSB",
        "colab": {
          "base_uri": "https://localhost:8080/"
        },
        "outputId": "9692f331-8411-42e3-c2ae-580613019613"
      },
      "source": [
        "x[:5]  # first five elements"
      ],
      "execution_count": null,
      "outputs": [
        {
          "output_type": "execute_result",
          "data": {
            "text/plain": [
              "array([0, 1, 2, 3, 4])"
            ]
          },
          "metadata": {
            "tags": []
          },
          "execution_count": 18
        }
      ]
    },
    {
      "cell_type": "markdown",
      "metadata": {
        "id": "J1IGSVc2be2d"
      },
      "source": [
        "kodingan diatas untuk mengabil 5 buah data pertama dari array"
      ]
    },
    {
      "cell_type": "code",
      "metadata": {
        "id": "NtqasWQaJuSC",
        "colab": {
          "base_uri": "https://localhost:8080/"
        },
        "outputId": "d9dd4647-93f3-487c-ba86-8f4b483a6f83"
      },
      "source": [
        "x[5:]  # elements after index 5"
      ],
      "execution_count": null,
      "outputs": [
        {
          "output_type": "execute_result",
          "data": {
            "text/plain": [
              "array([5, 6, 7, 8, 9])"
            ]
          },
          "metadata": {
            "tags": []
          },
          "execution_count": 19
        }
      ]
    },
    {
      "cell_type": "markdown",
      "metadata": {
        "id": "XqzXrFz8bl2B"
      },
      "source": [
        "kodingan diatas untuk mengabil 5 buah data terakhir dari array"
      ]
    },
    {
      "cell_type": "code",
      "metadata": {
        "id": "LgfHm-KHJuSC",
        "colab": {
          "base_uri": "https://localhost:8080/"
        },
        "outputId": "78330bdb-495b-4ab5-de1e-185969814f09"
      },
      "source": [
        "x[4:7]  # middle sub-array"
      ],
      "execution_count": null,
      "outputs": [
        {
          "output_type": "execute_result",
          "data": {
            "text/plain": [
              "array([4, 5, 6])"
            ]
          },
          "metadata": {
            "tags": []
          },
          "execution_count": 20
        }
      ]
    },
    {
      "cell_type": "markdown",
      "metadata": {
        "id": "yGIhubgEboq5"
      },
      "source": [
        "kodingan diatas untuk mengabil nilai dengan index awal yaitu 4 dan batas sebelum index ke -7 yaitu sampai index ke -6"
      ]
    },
    {
      "cell_type": "code",
      "metadata": {
        "id": "mCo-vAjJJuSC",
        "colab": {
          "base_uri": "https://localhost:8080/"
        },
        "outputId": "ec3053aa-3b71-4119-91cf-c241c153f1bc"
      },
      "source": [
        "x[::2]  # every other element"
      ],
      "execution_count": null,
      "outputs": [
        {
          "output_type": "execute_result",
          "data": {
            "text/plain": [
              "array([0, 2, 4, 6, 8])"
            ]
          },
          "metadata": {
            "tags": []
          },
          "execution_count": 21
        }
      ]
    },
    {
      "cell_type": "markdown",
      "metadata": {
        "id": "h1-Hb0TlcGg6"
      },
      "source": [
        "mengabil setiap elemen dengan awal index ke 0 dan langkah 2 dan diakhiri sampai index terakhir"
      ]
    },
    {
      "cell_type": "markdown",
      "metadata": {
        "id": "e7HSOLaIcAGs"
      },
      "source": [
        ""
      ]
    },
    {
      "cell_type": "code",
      "metadata": {
        "id": "QGU_r1-bJuSC",
        "colab": {
          "base_uri": "https://localhost:8080/"
        },
        "outputId": "21b8ffc5-c080-420a-cb1a-ddabe84f1eec"
      },
      "source": [
        "x[1::2]  # every other element, starting at index 1"
      ],
      "execution_count": null,
      "outputs": [
        {
          "output_type": "execute_result",
          "data": {
            "text/plain": [
              "array([1, 3, 5, 7, 9])"
            ]
          },
          "metadata": {
            "tags": []
          },
          "execution_count": 22
        }
      ]
    },
    {
      "cell_type": "markdown",
      "metadata": {
        "id": "19VZGEnIcKYM"
      },
      "source": [
        "mengambil element awal index 1 kemudian step nya 2 sampai habis"
      ]
    },
    {
      "cell_type": "markdown",
      "metadata": {
        "id": "JG3SJXRnJuSD"
      },
      "source": [
        "Kasus yang berpotensi membingungkan adalah ketika nilai `` step ``  negatif.\n",
        "Dalam hal ini, default untuk `` start ``dan `` stop `` ditukar.\n",
        "Ini menjadi cara mudah untuk membalikkan array:"
      ]
    },
    {
      "cell_type": "code",
      "metadata": {
        "id": "yXSrCTBZJuSD",
        "colab": {
          "base_uri": "https://localhost:8080/"
        },
        "outputId": "c8d762d2-9f04-4940-8f74-81ec53459683"
      },
      "source": [
        "x[::-1]  # all elements, reversed"
      ],
      "execution_count": null,
      "outputs": [
        {
          "output_type": "execute_result",
          "data": {
            "text/plain": [
              "array([9, 8, 7, 6, 5, 4, 3, 2, 1, 0])"
            ]
          },
          "metadata": {
            "tags": []
          },
          "execution_count": 23
        }
      ]
    },
    {
      "cell_type": "code",
      "metadata": {
        "id": "pbgvlQXBJuSD",
        "colab": {
          "base_uri": "https://localhost:8080/"
        },
        "outputId": "be291300-0d08-4473-ad34-2d89034b7716"
      },
      "source": [
        "x[5::-2]  # reversed every other from index 5"
      ],
      "execution_count": null,
      "outputs": [
        {
          "output_type": "execute_result",
          "data": {
            "text/plain": [
              "array([5, 3, 1])"
            ]
          },
          "metadata": {
            "tags": []
          },
          "execution_count": 24
        }
      ]
    },
    {
      "cell_type": "markdown",
      "metadata": {
        "id": "e7kGDhkkc0BW"
      },
      "source": [
        "dibalik satu sama lain dari indeks 5 dan stepnya 2"
      ]
    },
    {
      "cell_type": "markdown",
      "metadata": {
        "id": "uREvnmP2JuSD"
      },
      "source": [
        "### Multi-dimensional subarrays\n",
        "\n",
        "Multi-dimensional slices bekerja dengan cara yang sama, dengan beberapa slice dipisahkan oleh koma. Sebagai contoh:"
      ]
    },
    {
      "cell_type": "code",
      "metadata": {
        "id": "ln68TNCcJuSD",
        "colab": {
          "base_uri": "https://localhost:8080/"
        },
        "outputId": "bbf098c8-f94d-46a0-b49b-444dd62572bc"
      },
      "source": [
        "x2"
      ],
      "execution_count": null,
      "outputs": [
        {
          "output_type": "execute_result",
          "data": {
            "text/plain": [
              "array([[12,  5,  2,  4],\n",
              "       [ 7,  6,  8,  8],\n",
              "       [ 1,  6,  7,  7]])"
            ]
          },
          "metadata": {
            "tags": []
          },
          "execution_count": 25
        }
      ]
    },
    {
      "cell_type": "markdown",
      "metadata": {
        "id": "4lfDDdfrdbo9"
      },
      "source": [
        "untuk mengambil array dengan 2x3"
      ]
    },
    {
      "cell_type": "code",
      "metadata": {
        "id": "yEvNYQJoJuSE",
        "colab": {
          "base_uri": "https://localhost:8080/"
        },
        "outputId": "161ad3e3-5454-419b-d5eb-3a7d9d33e148"
      },
      "source": [
        "x2[:2, :3]  # two rows, three columns"
      ],
      "execution_count": null,
      "outputs": [
        {
          "output_type": "execute_result",
          "data": {
            "text/plain": [
              "array([[12,  5,  2],\n",
              "       [ 7,  6,  8]])"
            ]
          },
          "metadata": {
            "tags": []
          },
          "execution_count": 26
        }
      ]
    },
    {
      "cell_type": "markdown",
      "metadata": {
        "id": "oJp88NSHdkPi"
      },
      "source": [
        "untuk mengambil array 3 x 2:"
      ]
    },
    {
      "cell_type": "code",
      "metadata": {
        "id": "v8GKDlVCJuSE",
        "colab": {
          "base_uri": "https://localhost:8080/"
        },
        "outputId": "67431b0d-71c5-4d10-ca9b-6fa95dd34887"
      },
      "source": [
        "x2[:3, ::2]  # all rows, every other column"
      ],
      "execution_count": null,
      "outputs": [
        {
          "output_type": "execute_result",
          "data": {
            "text/plain": [
              "array([[12,  2],\n",
              "       [ 7,  8],\n",
              "       [ 1,  7]])"
            ]
          },
          "metadata": {
            "tags": []
          },
          "execution_count": 27
        }
      ]
    },
    {
      "cell_type": "markdown",
      "metadata": {
        "id": "0xJW1SwzJuSE"
      },
      "source": [
        "Dimensi subarray dapat dibalik bersama:"
      ]
    },
    {
      "cell_type": "code",
      "metadata": {
        "id": "7kOIe6GnJuSF",
        "colab": {
          "base_uri": "https://localhost:8080/"
        },
        "outputId": "e60c8c7e-b201-46f0-a7ce-437e1ed565aa"
      },
      "source": [
        "x2[::-1, ::-1]"
      ],
      "execution_count": null,
      "outputs": [
        {
          "output_type": "execute_result",
          "data": {
            "text/plain": [
              "array([[ 7,  7,  6,  1],\n",
              "       [ 8,  8,  6,  7],\n",
              "       [ 4,  2,  5, 12]])"
            ]
          },
          "metadata": {
            "tags": []
          },
          "execution_count": 28
        }
      ]
    },
    {
      "cell_type": "markdown",
      "metadata": {
        "id": "vbfEJRa2JuSF"
      },
      "source": [
        "#### Accessing array rows and columns\n",
        "\n",
        "Ini dapat dilakukan dengan menggabungkan pengindeksan dan slice, menggunakan slice kosong yang ditandai dengan satu titik dua (``:``):"
      ]
    },
    {
      "cell_type": "markdown",
      "metadata": {
        "id": "9XzjGmemdzNF"
      },
      "source": [
        "mengambil kolom pertama dari x2"
      ]
    },
    {
      "cell_type": "code",
      "metadata": {
        "id": "LKzUsJlrJuSF",
        "colab": {
          "base_uri": "https://localhost:8080/"
        },
        "outputId": "8b399df0-f64a-4c65-e9b8-13ad41437f9e"
      },
      "source": [
        "print(x2[:, 0])  # first column of x2"
      ],
      "execution_count": null,
      "outputs": [
        {
          "output_type": "stream",
          "text": [
            "[12  7  1]\n"
          ],
          "name": "stdout"
        }
      ]
    },
    {
      "cell_type": "markdown",
      "metadata": {
        "id": "MDt7p1-6dzwF"
      },
      "source": [
        "mengambil baris pertama array x2"
      ]
    },
    {
      "cell_type": "code",
      "metadata": {
        "id": "lOC173OiJuSG",
        "colab": {
          "base_uri": "https://localhost:8080/"
        },
        "outputId": "a779960f-97ee-4c81-c364-f4875135d227"
      },
      "source": [
        "print(x2[0, :])  # first row of x2"
      ],
      "execution_count": null,
      "outputs": [
        {
          "output_type": "stream",
          "text": [
            "[12  5  2  4]\n"
          ],
          "name": "stdout"
        }
      ]
    },
    {
      "cell_type": "markdown",
      "metadata": {
        "id": "coy10pn7JuSG"
      },
      "source": [
        "dalam kasus akses baris, potongan kosong dapat dihilangkan untuk sintaks yang lebih ringkas:"
      ]
    },
    {
      "cell_type": "code",
      "metadata": {
        "id": "VngoYWlWJuSG",
        "colab": {
          "base_uri": "https://localhost:8080/"
        },
        "outputId": "5ee35dfb-f079-4e06-e929-9747513ae814"
      },
      "source": [
        "print(x2[0])  # equivalent to x2[0, :]"
      ],
      "execution_count": null,
      "outputs": [
        {
          "output_type": "stream",
          "text": [
            "[12  5  2  4]\n"
          ],
          "name": "stdout"
        }
      ]
    },
    {
      "cell_type": "markdown",
      "metadata": {
        "id": "93QoJEl6JuSH"
      },
      "source": [
        "### Subarrays as no-copy views\n",
        "\n",
        "Satu hal penting untuk diketahui tentang slicing array adalah bahwa numpy akan mengembalikan tampilan dari salinan data array. Ini adalah satu area di mana pengirisan array NumPy berbeda dari pengirisan daftar Python: dalam list, slice akan menjadi salinan. "
      ]
    },
    {
      "cell_type": "code",
      "metadata": {
        "id": "0vByZxqSJuSH",
        "colab": {
          "base_uri": "https://localhost:8080/"
        },
        "outputId": "282ab1c6-f2b3-4254-cfcb-fb63bd10cdc2"
      },
      "source": [
        "print(x2)"
      ],
      "execution_count": null,
      "outputs": [
        {
          "output_type": "stream",
          "text": [
            "[[12  5  2  4]\n",
            " [ 7  6  8  8]\n",
            " [ 1  6  7  7]]\n"
          ],
          "name": "stdout"
        }
      ]
    },
    {
      "cell_type": "markdown",
      "metadata": {
        "id": "Ib6K_xM5JuSH"
      },
      "source": [
        "kita akan mengambil array 2x2 dari array x2 diatas"
      ]
    },
    {
      "cell_type": "code",
      "metadata": {
        "id": "MBuLmfCEJuSH",
        "colab": {
          "base_uri": "https://localhost:8080/"
        },
        "outputId": "738233dd-2eab-416f-d6e1-ba45702efc82"
      },
      "source": [
        "x2_sub = x2[:2, :2]\n",
        "print(x2_sub)"
      ],
      "execution_count": null,
      "outputs": [
        {
          "output_type": "stream",
          "text": [
            "[[12  5]\n",
            " [ 7  6]]\n"
          ],
          "name": "stdout"
        }
      ]
    },
    {
      "cell_type": "markdown",
      "metadata": {
        "id": "SsEJaGrdJuSH"
      },
      "source": [
        "kita coba ganti index [0,0] menjadi 99 maka akan menjadi seperti dibawah ini"
      ]
    },
    {
      "cell_type": "code",
      "metadata": {
        "id": "5MNfe6xkJuSI",
        "colab": {
          "base_uri": "https://localhost:8080/"
        },
        "outputId": "84a9686d-8266-42ea-9389-5f0a74370e34"
      },
      "source": [
        "x2_sub[0, 0] = 99\n",
        "print(x2_sub)"
      ],
      "execution_count": null,
      "outputs": [
        {
          "output_type": "stream",
          "text": [
            "[[99  5]\n",
            " [ 7  6]]\n"
          ],
          "name": "stdout"
        }
      ]
    },
    {
      "cell_type": "code",
      "metadata": {
        "id": "paKih_R9JuSI",
        "colab": {
          "base_uri": "https://localhost:8080/"
        },
        "outputId": "a8619b4d-aa85-4c0d-f4f9-dab77ae3dfc4"
      },
      "source": [
        "print(x2)"
      ],
      "execution_count": null,
      "outputs": [
        {
          "output_type": "stream",
          "text": [
            "[[99  5  2  4]\n",
            " [ 7  6  8  8]\n",
            " [ 1  6  7  7]]\n"
          ],
          "name": "stdout"
        }
      ]
    },
    {
      "cell_type": "markdown",
      "metadata": {
        "id": "byyyfHMGJuSI"
      },
      "source": [
        "ini akan berefek kepada array kita sebelum kita mengabil yang 2x2"
      ]
    },
    {
      "cell_type": "markdown",
      "metadata": {
        "id": "Ypt-QmBMJuSI"
      },
      "source": [
        "### Creating copies of arrays\n",
        "\n",
        "untuk menyalin ke variabel yang lain kita bisa mengguakan syntax ``copy()``. Supaya data sebelumnnya tidak terkena efek ketika kita menmodivikasi nantiknya seperti dibawah ini"
      ]
    },
    {
      "cell_type": "code",
      "metadata": {
        "id": "OUbd9luuJuSI",
        "colab": {
          "base_uri": "https://localhost:8080/"
        },
        "outputId": "5f4f1bde-5d2d-4401-baad-b28b3ea617a7"
      },
      "source": [
        "x2_sub_copy = x2[:2, :2].copy()\n",
        "print(x2_sub_copy)"
      ],
      "execution_count": null,
      "outputs": [
        {
          "output_type": "stream",
          "text": [
            "[[99  5]\n",
            " [ 7  6]]\n"
          ],
          "name": "stdout"
        }
      ]
    },
    {
      "cell_type": "markdown",
      "metadata": {
        "id": "_lnmkK2dJuSJ"
      },
      "source": [
        "nah setelah kita modifikasi subbarray nya. array aslinya yang awal tidak akan termodivikasi, coba kita coba di bawah ini mengubah array index [0,0] menjadi 42"
      ]
    },
    {
      "cell_type": "code",
      "metadata": {
        "id": "icrvXofEJuSJ",
        "colab": {
          "base_uri": "https://localhost:8080/"
        },
        "outputId": "4ecc3bef-6fc4-40b0-8073-1fd9ef730959"
      },
      "source": [
        "x2_sub_copy[0, 0] = 42\n",
        "print(x2_sub_copy)"
      ],
      "execution_count": null,
      "outputs": [
        {
          "output_type": "stream",
          "text": [
            "[[42  5]\n",
            " [ 7  6]]\n"
          ],
          "name": "stdout"
        }
      ]
    },
    {
      "cell_type": "markdown",
      "metadata": {
        "id": "mtW9dSZkGgR8"
      },
      "source": [
        "disini subbarray kita sudah diubah, coba kita cek array awal tadi."
      ]
    },
    {
      "cell_type": "code",
      "metadata": {
        "id": "BqHE1MOiJuSJ",
        "colab": {
          "base_uri": "https://localhost:8080/"
        },
        "outputId": "8efe8cfd-359f-46e3-a457-149d221a3e2a"
      },
      "source": [
        "print(x2)"
      ],
      "execution_count": null,
      "outputs": [
        {
          "output_type": "stream",
          "text": [
            "[[99  5  2  4]\n",
            " [ 7  6  8  8]\n",
            " [ 1  6  7  7]]\n"
          ],
          "name": "stdout"
        }
      ]
    },
    {
      "cell_type": "markdown",
      "metadata": {
        "id": "xjSmSKb0GfVN"
      },
      "source": [
        "maka array awal tadi tidak akan termodifikasi"
      ]
    },
    {
      "cell_type": "markdown",
      "metadata": {
        "id": "Pg4SJ5kAJuSJ"
      },
      "source": [
        "## Reshaping of Arrays\n",
        "\n",
        "Reshaping of array atau pembentukan kembali dari array.\n",
        "dengan fungsi ``reshape`` .\n",
        "Misalnya, jika Anda ingin memasukkan angka 1 hingga 9 dalam array 3 × 3, Anda dapat melakukan hal berikut:"
      ]
    },
    {
      "cell_type": "code",
      "metadata": {
        "id": "9LU5s4H4JuSK",
        "colab": {
          "base_uri": "https://localhost:8080/"
        },
        "outputId": "53d7ef95-454a-4b57-c360-fdf1cee40931"
      },
      "source": [
        "grid = np.arange(1, 10).reshape((3, 3))\n",
        "print(grid)"
      ],
      "execution_count": null,
      "outputs": [
        {
          "output_type": "stream",
          "text": [
            "[[1 2 3]\n",
            " [4 5 6]\n",
            " [7 8 9]]\n"
          ],
          "name": "stdout"
        }
      ]
    },
    {
      "cell_type": "markdown",
      "metadata": {
        "id": "kHSEgXGAJuSK"
      },
      "source": [
        "beriku cara penggunaan fungsi ``reshape`` untuk mengatu atau pembetukan kembali dari array yang sudah dibuat.\n",
        "\n",
        "pertama kita melakukan ``reshape`` kemudian menggunakan keyword ``newaxis`` dengan menggunakan methodh slice dalam pembentukan seperti kodingan dibawah ini"
      ]
    },
    {
      "cell_type": "code",
      "metadata": {
        "id": "reY7-R-eJuSK",
        "colab": {
          "base_uri": "https://localhost:8080/"
        },
        "outputId": "1bd86ab5-850b-417e-b7a2-cc550db4df53"
      },
      "source": [
        "x = np.array([1, 2, 3])\n",
        "\n",
        "# row vector via reshape\n",
        "x.reshape((1, 3))"
      ],
      "execution_count": null,
      "outputs": [
        {
          "output_type": "execute_result",
          "data": {
            "text/plain": [
              "array([[1, 2, 3]])"
            ]
          },
          "metadata": {
            "tags": []
          },
          "execution_count": 40
        }
      ]
    },
    {
      "cell_type": "code",
      "metadata": {
        "id": "CbAXMN9GJuSK",
        "colab": {
          "base_uri": "https://localhost:8080/"
        },
        "outputId": "b4ca0e5f-687c-46f1-a2b3-6bb9d142b552"
      },
      "source": [
        "# row vector via newaxis\n",
        "x[np.newaxis, :]"
      ],
      "execution_count": null,
      "outputs": [
        {
          "output_type": "execute_result",
          "data": {
            "text/plain": [
              "array([[1, 2, 3]])"
            ]
          },
          "metadata": {
            "tags": []
          },
          "execution_count": 41
        }
      ]
    },
    {
      "cell_type": "code",
      "metadata": {
        "id": "2KYJLz8zJuSL",
        "colab": {
          "base_uri": "https://localhost:8080/"
        },
        "outputId": "88b6908f-35ed-4461-c0b4-501c1498343c"
      },
      "source": [
        "# column vector via reshape\n",
        "x.reshape((3, 1))"
      ],
      "execution_count": null,
      "outputs": [
        {
          "output_type": "execute_result",
          "data": {
            "text/plain": [
              "array([[1],\n",
              "       [2],\n",
              "       [3]])"
            ]
          },
          "metadata": {
            "tags": []
          },
          "execution_count": 42
        }
      ]
    },
    {
      "cell_type": "code",
      "metadata": {
        "id": "f5Rx9Ff2JuSL",
        "colab": {
          "base_uri": "https://localhost:8080/"
        },
        "outputId": "060209cd-92e6-498b-f836-4eb9f3c0fc94"
      },
      "source": [
        "# column vector via newaxis\n",
        "x[:, np.newaxis]"
      ],
      "execution_count": null,
      "outputs": [
        {
          "output_type": "execute_result",
          "data": {
            "text/plain": [
              "array([[1],\n",
              "       [2],\n",
              "       [3]])"
            ]
          },
          "metadata": {
            "tags": []
          },
          "execution_count": 43
        }
      ]
    },
    {
      "cell_type": "markdown",
      "metadata": {
        "id": "QKa3dNQjJuSL"
      },
      "source": [
        "## Array Concatenation and Splitting\n",
        "\n",
        "Semua rutinitas sebelumnya bekerja pada single array. Ini juga memungkinkan untuk menggabungkan beberapa array menjadi satu, dan sebaliknya membagi single array  menjadi multiple array. "
      ]
    },
    {
      "cell_type": "markdown",
      "metadata": {
        "id": "8tgOyPOLJuSL"
      },
      "source": [
        "### Concatenation of arrays\n",
        "\n",
        "Concatenation adalah penggabungan 2 arrays di NumPy,dengan fungsi ``np.concatenate``, ``np.vstack``, and ``np.hstack``.\n",
        "``np.concatenate`` menggunakan tuple atau list array sebagai argumen pertamanya, seperti yang bisa kita lihat di sini:"
      ]
    },
    {
      "cell_type": "code",
      "metadata": {
        "id": "128iYuzzJuSM",
        "colab": {
          "base_uri": "https://localhost:8080/"
        },
        "outputId": "49cca8c3-ffcc-4ca6-e92c-7fc832e641ef"
      },
      "source": [
        "x = np.array([1, 2, 3])\n",
        "y = np.array([3, 2, 1])\n",
        "np.concatenate([x, y])"
      ],
      "execution_count": null,
      "outputs": [
        {
          "output_type": "execute_result",
          "data": {
            "text/plain": [
              "array([1, 2, 3, 3, 2, 1])"
            ]
          },
          "metadata": {
            "tags": []
          },
          "execution_count": 44
        }
      ]
    },
    {
      "cell_type": "markdown",
      "metadata": {
        "id": "Mul8dJWjJuSM"
      },
      "source": [
        "Anda juga dapat menggabungkan lebih dari dua array sekaligus:"
      ]
    },
    {
      "cell_type": "code",
      "metadata": {
        "id": "zhsRFWgYJuSM",
        "colab": {
          "base_uri": "https://localhost:8080/"
        },
        "outputId": "3d12ef44-0b9c-4141-fb57-a0acf209d6f9"
      },
      "source": [
        "z = [99, 99, 99]\n",
        "print(np.concatenate([x, y, z]))"
      ],
      "execution_count": null,
      "outputs": [
        {
          "output_type": "stream",
          "text": [
            "[ 1  2  3  3  2  1 99 99 99]\n"
          ],
          "name": "stdout"
        }
      ]
    },
    {
      "cell_type": "markdown",
      "metadata": {
        "id": "1Mf0D8sgJuSM"
      },
      "source": [
        "Ini juga dapat digunakan untuk array dua dimensi:"
      ]
    },
    {
      "cell_type": "code",
      "metadata": {
        "id": "6eq7GWrPJuSN"
      },
      "source": [
        "grid = np.array([[1, 2, 3],\n",
        "                 [4, 5, 6]])"
      ],
      "execution_count": null,
      "outputs": []
    },
    {
      "cell_type": "code",
      "metadata": {
        "id": "i08tUo2vJuSN",
        "colab": {
          "base_uri": "https://localhost:8080/"
        },
        "outputId": "2e93dcf7-d693-4d2e-d154-d8d5c5160ef7"
      },
      "source": [
        "# concatenate along the first axis\n",
        "np.concatenate([grid, grid])"
      ],
      "execution_count": null,
      "outputs": [
        {
          "output_type": "execute_result",
          "data": {
            "text/plain": [
              "array([[1, 2, 3],\n",
              "       [4, 5, 6],\n",
              "       [1, 2, 3],\n",
              "       [4, 5, 6]])"
            ]
          },
          "metadata": {
            "tags": []
          },
          "execution_count": 47
        }
      ]
    },
    {
      "cell_type": "code",
      "metadata": {
        "id": "hapzdko5JuSN",
        "colab": {
          "base_uri": "https://localhost:8080/"
        },
        "outputId": "ca94417f-6d0c-4ee6-f4ea-c0fac7fdefcf"
      },
      "source": [
        "# concatenate along the second axis (zero-indexed)\n",
        "np.concatenate([grid, grid], axis=1)"
      ],
      "execution_count": null,
      "outputs": [
        {
          "output_type": "execute_result",
          "data": {
            "text/plain": [
              "array([[1, 2, 3, 1, 2, 3],\n",
              "       [4, 5, 6, 4, 5, 6]])"
            ]
          },
          "metadata": {
            "tags": []
          },
          "execution_count": 48
        }
      ]
    },
    {
      "cell_type": "markdown",
      "metadata": {
        "id": "7QaruhQ9JuSN"
      },
      "source": [
        "Untuk bekerja dengan array dengan dimensi campuran, akan lebih jelas jika menggunakan fungsi ``np.vstack`` (vertical stack) and ``np.hstack`` (horizontal stack) :"
      ]
    },
    {
      "cell_type": "code",
      "metadata": {
        "id": "LF-1sevRJuSN",
        "colab": {
          "base_uri": "https://localhost:8080/"
        },
        "outputId": "c0765d82-cd5c-464b-fb15-b3ca738c53c0"
      },
      "source": [
        "x = np.array([1, 2, 3])\n",
        "grid = np.array([[9, 8, 7],\n",
        "                 [6, 5, 4]])\n",
        "\n",
        "# vertically stack the arrays\n",
        "np.vstack([x, grid])"
      ],
      "execution_count": null,
      "outputs": [
        {
          "output_type": "execute_result",
          "data": {
            "text/plain": [
              "array([[1, 2, 3],\n",
              "       [9, 8, 7],\n",
              "       [6, 5, 4]])"
            ]
          },
          "metadata": {
            "tags": []
          },
          "execution_count": 49
        }
      ]
    },
    {
      "cell_type": "code",
      "metadata": {
        "id": "3wG8FTeEJuSO",
        "colab": {
          "base_uri": "https://localhost:8080/"
        },
        "outputId": "0791d3e2-0f61-40e7-998a-6c13404999a7"
      },
      "source": [
        "# horizontally stack the arrays\n",
        "y = np.array([[99],\n",
        "              [99]])\n",
        "np.hstack([grid, y])"
      ],
      "execution_count": null,
      "outputs": [
        {
          "output_type": "execute_result",
          "data": {
            "text/plain": [
              "array([[ 9,  8,  7, 99],\n",
              "       [ 6,  5,  4, 99]])"
            ]
          },
          "metadata": {
            "tags": []
          },
          "execution_count": 50
        }
      ]
    },
    {
      "cell_type": "markdown",
      "metadata": {
        "id": "a5jJtnb6JuSO"
      },
      "source": [
        "menggunakan fungsi ``np.dstack`` akan menumpuk array di sepanjang sumbu ketiga."
      ]
    },
    {
      "cell_type": "markdown",
      "metadata": {
        "id": "FU5YUdgVJuSO"
      },
      "source": [
        "### Splitting of arrays\n",
        "\n",
        "Kebalikan dari penggabungan adalah pemisahan, yang diimplementasikan oleh fungsi ``np.split``, ``np.hsplit``, and ``np.vsplit``.  Untuk masing-masing ini, kita dapat memberikan daftar indeks yang memberikan poin perpecahan:"
      ]
    },
    {
      "cell_type": "code",
      "metadata": {
        "id": "ckz2vuqYJuSP",
        "colab": {
          "base_uri": "https://localhost:8080/"
        },
        "outputId": "27b23eeb-262a-4f45-9dbe-24a0ba677174"
      },
      "source": [
        "x = [1, 2, 3, 99, 99, 3, 2, 1]\n",
        "x1, x2, x3 = np.split(x, [3, 5])\n",
        "print(x1, x2, x3)"
      ],
      "execution_count": null,
      "outputs": [
        {
          "output_type": "stream",
          "text": [
            "[1 2 3] [99 99] [3 2 1]\n"
          ],
          "name": "stdout"
        }
      ]
    },
    {
      "cell_type": "markdown",
      "metadata": {
        "id": "mgzghVV1JuSP"
      },
      "source": [
        "Perhatikan bahwa * N * titik pisah, mengarah ke * N + 1 * subarray.\n",
        "Fungsi terkait `` np.hsplit`` dan `` np.vsplit`` serupa:"
      ]
    },
    {
      "cell_type": "code",
      "metadata": {
        "id": "BgmODhLmJuSP",
        "colab": {
          "base_uri": "https://localhost:8080/"
        },
        "outputId": "4ed01cac-707c-4ac8-abde-36aa510b9950"
      },
      "source": [
        "grid = np.arange(16).reshape((4, 4))\n",
        "grid"
      ],
      "execution_count": null,
      "outputs": [
        {
          "output_type": "execute_result",
          "data": {
            "text/plain": [
              "array([[ 0,  1,  2,  3],\n",
              "       [ 4,  5,  6,  7],\n",
              "       [ 8,  9, 10, 11],\n",
              "       [12, 13, 14, 15]])"
            ]
          },
          "metadata": {
            "tags": []
          },
          "execution_count": 52
        }
      ]
    },
    {
      "cell_type": "code",
      "metadata": {
        "id": "bVlmVli7JuSQ",
        "colab": {
          "base_uri": "https://localhost:8080/"
        },
        "outputId": "1b26438a-ded8-4ae0-8703-b937f1f30fc7"
      },
      "source": [
        "upper, lower = np.vsplit(grid, [2])\n",
        "print(upper)\n",
        "print(lower)"
      ],
      "execution_count": null,
      "outputs": [
        {
          "output_type": "stream",
          "text": [
            "[[0 1 2 3]\n",
            " [4 5 6 7]]\n",
            "[[ 8  9 10 11]\n",
            " [12 13 14 15]]\n"
          ],
          "name": "stdout"
        }
      ]
    },
    {
      "cell_type": "code",
      "metadata": {
        "id": "IdTUeFszJuSQ",
        "colab": {
          "base_uri": "https://localhost:8080/"
        },
        "outputId": "eec2c6e3-eafa-4956-b0a9-1e07c13ab772"
      },
      "source": [
        "left, right = np.hsplit(grid, [2])\n",
        "print(left)\n",
        "print(right)"
      ],
      "execution_count": null,
      "outputs": [
        {
          "output_type": "stream",
          "text": [
            "[[ 0  1]\n",
            " [ 4  5]\n",
            " [ 8  9]\n",
            " [12 13]]\n",
            "[[ 2  3]\n",
            " [ 6  7]\n",
            " [10 11]\n",
            " [14 15]]\n"
          ],
          "name": "stdout"
        }
      ]
    },
    {
      "cell_type": "markdown",
      "metadata": {
        "id": "SI1k854nJuSQ"
      },
      "source": [
        "dengan fungsi ``np.dsplit``kan membagi array di sepanjang sumbu ketiga."
      ]
    },
    {
      "cell_type": "markdown",
      "metadata": {
        "id": "T7vPssX6OTLQ"
      },
      "source": [
        "# Computation on NumPy Arrays: Universal Functions"
      ]
    },
    {
      "cell_type": "markdown",
      "metadata": {
        "id": "-tq9Sz6yOTLQ"
      },
      "source": [
        "Up until now, we have been discussing some of the basic nuts and bolts of NumPy; in the next few sections, we will dive into the reasons that NumPy is so important in the Python data science world.\n",
        "Namely, it provides an easy and flexible interface to optimized computation with arrays of data.\n",
        "\n",
        "Computation on NumPy arrays can be very fast, or it can be very slow.\n",
        "The key to making it fast is to use *vectorized* operations, generally implemented through NumPy's *universal functions* (ufuncs).\n",
        "This section motivates the need for NumPy's ufuncs, which can be used to make repeated calculations on array elements much more efficient.\n",
        "It then introduces many of the most common and useful arithmetic ufuncs available in the NumPy package."
      ]
    },
    {
      "cell_type": "markdown",
      "metadata": {
        "id": "vsuA2kfsOTLR"
      },
      "source": [
        "## The Slowness of Loops\n",
        "\n",
        "Python's default implementation (known as CPython) does some operations very slowly.\n",
        "This is in part due to the dynamic, interpreted nature of the language: the fact that types are flexible, so that sequences of operations cannot be compiled down to efficient machine code as in languages like C and Fortran.\n",
        "Recently there have been various attempts to address this weakness: well-known examples are the [PyPy](http://pypy.org/) project, a just-in-time compiled implementation of Python; the [Cython](http://cython.org) project, which converts Python code to compilable C code; and the [Numba](http://numba.pydata.org/) project, which converts snippets of Python code to fast LLVM bytecode.\n",
        "Each of these has its strengths and weaknesses, but it is safe to say that none of the three approaches has yet surpassed the reach and popularity of the standard CPython engine.\n",
        "\n",
        "The relative sluggishness of Python generally manifests itself in situations where many small operations are being repeated – for instance looping over arrays to operate on each element.\n",
        "For example, imagine we have an array of values and we'd like to compute the reciprocal of each.\n",
        "A straightforward approach might look like this:"
      ]
    },
    {
      "cell_type": "code",
      "metadata": {
        "id": "FEDkVsNwOTLT",
        "colab": {
          "base_uri": "https://localhost:8080/"
        },
        "outputId": "cdba39ec-b109-4ca3-9f5a-cf0223d934aa"
      },
      "source": [
        "import numpy as np\n",
        "np.random.seed(0)\n",
        "\n",
        "def compute_reciprocals(values):\n",
        "    output = np.empty(len(values))\n",
        "    for i in range(len(values)):\n",
        "        output[i] = 1.0 / values[i]\n",
        "    return output\n",
        "        \n",
        "values = np.random.randint(1, 10, size=5)\n",
        "compute_reciprocals(values)"
      ],
      "execution_count": null,
      "outputs": [
        {
          "output_type": "execute_result",
          "data": {
            "text/plain": [
              "array([0.16666667, 1.        , 0.25      , 0.25      , 0.125     ])"
            ]
          },
          "metadata": {
            "tags": []
          },
          "execution_count": 58
        }
      ]
    },
    {
      "cell_type": "markdown",
      "metadata": {
        "id": "QeRtnadgOTLV"
      },
      "source": [
        "This implementation probably feels fairly natural to someone from, say, a C or Java background.\n",
        "But if we measure the execution time of this code for a large input, we see that this operation is very slow, perhaps surprisingly so!\n",
        "We'll benchmark this with IPython's ``%timeit`` magic (discussed in [Profiling and Timing Code](01.07-Timing-and-Profiling.ipynb)):"
      ]
    },
    {
      "cell_type": "code",
      "metadata": {
        "id": "hj98BmvIOTLV",
        "colab": {
          "base_uri": "https://localhost:8080/"
        },
        "outputId": "1b69ade9-833c-4661-d114-00a1ba2eb8ea"
      },
      "source": [
        "big_array = np.random.randint(1, 100, size=1000000)\n",
        "%timeit compute_reciprocals(big_array)"
      ],
      "execution_count": null,
      "outputs": [
        {
          "output_type": "stream",
          "text": [
            "1 loop, best of 5: 2.33 s per loop\n"
          ],
          "name": "stdout"
        }
      ]
    },
    {
      "cell_type": "markdown",
      "metadata": {
        "id": "cYF1RoccOTLW"
      },
      "source": [
        "It takes several seconds to compute these million operations and to store the result!\n",
        "When even cell phones have processing speeds measured in Giga-FLOPS (i.e., billions of numerical operations per second), this seems almost absurdly slow.\n",
        "It turns out that the bottleneck here is not the operations themselves, but the type-checking and function dispatches that CPython must do at each cycle of the loop.\n",
        "Each time the reciprocal is computed, Python first examines the object's type and does a dynamic lookup of the correct function to use for that type.\n",
        "If we were working in compiled code instead, this type specification would be known before the code executes and the result could be computed much more efficiently."
      ]
    },
    {
      "cell_type": "markdown",
      "metadata": {
        "id": "gGRFjgguOTLX"
      },
      "source": [
        "## Introducing UFuncs\n",
        "\n",
        "For many types of operations, NumPy provides a convenient interface into just this kind of statically typed, compiled routine. This is known as a *vectorized* operation.\n",
        "This can be accomplished by simply performing an operation on the array, which will then be applied to each element.\n",
        "This vectorized approach is designed to push the loop into the compiled layer that underlies NumPy, leading to much faster execution.\n",
        "\n",
        "Compare the results of the following two:"
      ]
    },
    {
      "cell_type": "code",
      "metadata": {
        "id": "oZuGZAyvOTLX",
        "colab": {
          "base_uri": "https://localhost:8080/"
        },
        "outputId": "b017eaea-d02a-458a-c2b2-7d338697cbbd"
      },
      "source": [
        "print(compute_reciprocals(values))\n",
        "print(1.0 / values)"
      ],
      "execution_count": null,
      "outputs": [
        {
          "output_type": "stream",
          "text": [
            "[0.16666667 1.         0.25       0.25       0.125     ]\n",
            "[0.16666667 1.         0.25       0.25       0.125     ]\n"
          ],
          "name": "stdout"
        }
      ]
    },
    {
      "cell_type": "markdown",
      "metadata": {
        "id": "ptBUK8kMOTLY"
      },
      "source": [
        "Looking at the execution time for our big array, we see that it completes orders of magnitude faster than the Python loop:"
      ]
    },
    {
      "cell_type": "code",
      "metadata": {
        "id": "Yv55ZQjOOTLY",
        "colab": {
          "base_uri": "https://localhost:8080/"
        },
        "outputId": "657551bb-3d3c-4148-c63e-96efb1e5fc9c"
      },
      "source": [
        "%timeit (1.0 / big_array)"
      ],
      "execution_count": null,
      "outputs": [
        {
          "output_type": "stream",
          "text": [
            "1000 loops, best of 5: 1.67 ms per loop\n"
          ],
          "name": "stdout"
        }
      ]
    },
    {
      "cell_type": "markdown",
      "metadata": {
        "id": "1sfydhsUOTLZ"
      },
      "source": [
        "Vectorized operations in NumPy are implemented via *ufuncs*, whose main purpose is to quickly execute repeated operations on values in NumPy arrays.\n",
        "Ufuncs are extremely flexible – before we saw an operation between a scalar and an array, but we can also operate between two arrays:"
      ]
    },
    {
      "cell_type": "code",
      "metadata": {
        "id": "znudPjlQOTLa",
        "colab": {
          "base_uri": "https://localhost:8080/"
        },
        "outputId": "3a0e706b-8292-4346-e9c4-eba3535d1762"
      },
      "source": [
        "np.arange(5) / np.arange(1, 6)"
      ],
      "execution_count": null,
      "outputs": [
        {
          "output_type": "execute_result",
          "data": {
            "text/plain": [
              "array([0.        , 0.5       , 0.66666667, 0.75      , 0.8       ])"
            ]
          },
          "metadata": {
            "tags": []
          },
          "execution_count": 62
        }
      ]
    },
    {
      "cell_type": "markdown",
      "metadata": {
        "id": "MFDZSaWTOTLa"
      },
      "source": [
        "And ufunc operations are not limited to one-dimensional arrays–they can also act on multi-dimensional arrays as well:"
      ]
    },
    {
      "cell_type": "code",
      "metadata": {
        "id": "LNHXZMIAOTLb",
        "colab": {
          "base_uri": "https://localhost:8080/"
        },
        "outputId": "7e4003df-e359-48e3-e6eb-82d0b8f3b555"
      },
      "source": [
        "x = np.arange(9).reshape((3, 3))\n",
        "2 ** x"
      ],
      "execution_count": null,
      "outputs": [
        {
          "output_type": "execute_result",
          "data": {
            "text/plain": [
              "array([[  1,   2,   4],\n",
              "       [  8,  16,  32],\n",
              "       [ 64, 128, 256]])"
            ]
          },
          "metadata": {
            "tags": []
          },
          "execution_count": 63
        }
      ]
    },
    {
      "cell_type": "markdown",
      "metadata": {
        "id": "ukpgRyWCOTLc"
      },
      "source": [
        "Computations using vectorization through ufuncs are nearly always more efficient than their counterpart implemented using Python loops, especially as the arrays grow in size.\n",
        "Any time you see such a loop in a Python script, you should consider whether it can be replaced with a vectorized expression."
      ]
    },
    {
      "cell_type": "markdown",
      "metadata": {
        "id": "-PQ3e_M9OTLc"
      },
      "source": [
        "## Exploring NumPy's UFuncs\n",
        "\n",
        "Ufuncs exist in two flavors: *unary ufuncs*, which operate on a single input, and *binary ufuncs*, which operate on two inputs.\n",
        "We'll see examples of both these types of functions here."
      ]
    },
    {
      "cell_type": "markdown",
      "metadata": {
        "id": "xq4M3HYROTLd"
      },
      "source": [
        "### Array arithmetic\n",
        "\n",
        "NumPy's ufuncs feel very natural to use because they make use of Python's native arithmetic operators.\n",
        "The standard addition, subtraction, multiplication, and division can all be used:"
      ]
    },
    {
      "cell_type": "code",
      "metadata": {
        "id": "6whg8WamOTLd",
        "colab": {
          "base_uri": "https://localhost:8080/"
        },
        "outputId": "aeac6c67-63f8-4a27-9295-6bdb0cb73a44"
      },
      "source": [
        "x = np.arange(4)\n",
        "print(\"x     =\", x)\n",
        "print(\"x + 5 =\", x + 5)\n",
        "print(\"x - 5 =\", x - 5)\n",
        "print(\"x * 2 =\", x * 2)\n",
        "print(\"x / 2 =\", x / 2)\n",
        "print(\"x // 2 =\", x // 2)  # floor division"
      ],
      "execution_count": null,
      "outputs": [
        {
          "output_type": "stream",
          "text": [
            "x     = [0 1 2 3]\n",
            "x + 5 = [5 6 7 8]\n",
            "x - 5 = [-5 -4 -3 -2]\n",
            "x * 2 = [0 2 4 6]\n",
            "x / 2 = [0.  0.5 1.  1.5]\n",
            "x // 2 = [0 0 1 1]\n"
          ],
          "name": "stdout"
        }
      ]
    },
    {
      "cell_type": "markdown",
      "metadata": {
        "id": "y65OMNVyOTLd"
      },
      "source": [
        "There is also a unary ufunc for negation, and a ``**`` operator for exponentiation, and a ``%`` operator for modulus:"
      ]
    },
    {
      "cell_type": "code",
      "metadata": {
        "id": "QdTxQY6mOTLe",
        "colab": {
          "base_uri": "https://localhost:8080/"
        },
        "outputId": "48f2d23e-d51c-4f47-ee38-3037ee38ad7d"
      },
      "source": [
        "print(\"-x     = \", -x)\n",
        "print(\"x ** 2 = \", x ** 2)\n",
        "print(\"x % 2  = \", x % 2)"
      ],
      "execution_count": null,
      "outputs": [
        {
          "output_type": "stream",
          "text": [
            "-x     =  [ 0 -1 -2 -3]\n",
            "x ** 2 =  [0 1 4 9]\n",
            "x % 2  =  [0 1 0 1]\n"
          ],
          "name": "stdout"
        }
      ]
    },
    {
      "cell_type": "markdown",
      "metadata": {
        "id": "c3BhsjZxOTLe"
      },
      "source": [
        "In addition, these can be strung together however you wish, and the standard order of operations is respected:"
      ]
    },
    {
      "cell_type": "code",
      "metadata": {
        "id": "ibIKYDo6OTLf",
        "colab": {
          "base_uri": "https://localhost:8080/"
        },
        "outputId": "4196f076-7de1-42fc-e779-5133b4197e83"
      },
      "source": [
        "-(0.5*x + 1) ** 2"
      ],
      "execution_count": null,
      "outputs": [
        {
          "output_type": "execute_result",
          "data": {
            "text/plain": [
              "array([-1.  , -2.25, -4.  , -6.25])"
            ]
          },
          "metadata": {
            "tags": []
          },
          "execution_count": 66
        }
      ]
    },
    {
      "cell_type": "markdown",
      "metadata": {
        "id": "HxCsl2OWOTLf"
      },
      "source": [
        "Each of these arithmetic operations are simply convenient wrappers around specific functions built into NumPy; for example, the ``+`` operator is a wrapper for the ``add`` function:"
      ]
    },
    {
      "cell_type": "code",
      "metadata": {
        "id": "4RzUjBhlOTLg",
        "colab": {
          "base_uri": "https://localhost:8080/"
        },
        "outputId": "1918dff4-9f9f-4d31-f13b-c7d41cfbc31a"
      },
      "source": [
        "np.add(x, 2)"
      ],
      "execution_count": null,
      "outputs": [
        {
          "output_type": "execute_result",
          "data": {
            "text/plain": [
              "array([2, 3, 4, 5])"
            ]
          },
          "metadata": {
            "tags": []
          },
          "execution_count": 67
        }
      ]
    },
    {
      "cell_type": "markdown",
      "metadata": {
        "id": "9sxnSJD2OTLg"
      },
      "source": [
        "The following table lists the arithmetic operators implemented in NumPy:\n",
        "\n",
        "| Operator\t    | Equivalent ufunc    | Description                           |\n",
        "|---------------|---------------------|---------------------------------------|\n",
        "|``+``          |``np.add``           |Addition (e.g., ``1 + 1 = 2``)         |\n",
        "|``-``          |``np.subtract``      |Subtraction (e.g., ``3 - 2 = 1``)      |\n",
        "|``-``          |``np.negative``      |Unary negation (e.g., ``-2``)          |\n",
        "|``*``          |``np.multiply``      |Multiplication (e.g., ``2 * 3 = 6``)   |\n",
        "|``/``          |``np.divide``        |Division (e.g., ``3 / 2 = 1.5``)       |\n",
        "|``//``         |``np.floor_divide``  |Floor division (e.g., ``3 // 2 = 1``)  |\n",
        "|``**``         |``np.power``         |Exponentiation (e.g., ``2 ** 3 = 8``)  |\n",
        "|``%``          |``np.mod``           |Modulus/remainder (e.g., ``9 % 4 = 1``)|\n",
        "\n",
        "Additionally there are Boolean/bitwise operators; we will explore these in [Comparisons, Masks, and Boolean Logic](02.06-Boolean-Arrays-and-Masks.ipynb)."
      ]
    },
    {
      "cell_type": "markdown",
      "metadata": {
        "id": "f2pNG5JfOTLh"
      },
      "source": [
        "### Absolute value\n",
        "\n",
        "Just as NumPy understands Python's built-in arithmetic operators, it also understands Python's built-in absolute value function:"
      ]
    },
    {
      "cell_type": "code",
      "metadata": {
        "id": "6JijLxbDOTLh",
        "colab": {
          "base_uri": "https://localhost:8080/"
        },
        "outputId": "888c21a4-7eab-427a-9c70-fba09a640d78"
      },
      "source": [
        "x = np.array([-2, -1, 0, 1, 2])\n",
        "abs(x)"
      ],
      "execution_count": null,
      "outputs": [
        {
          "output_type": "execute_result",
          "data": {
            "text/plain": [
              "array([2, 1, 0, 1, 2])"
            ]
          },
          "metadata": {
            "tags": []
          },
          "execution_count": 68
        }
      ]
    },
    {
      "cell_type": "markdown",
      "metadata": {
        "id": "1CpMT9vMOTLh"
      },
      "source": [
        "The corresponding NumPy ufunc is ``np.absolute``, which is also available under the alias ``np.abs``:"
      ]
    },
    {
      "cell_type": "code",
      "metadata": {
        "id": "_ZqWsz8yOTLi",
        "colab": {
          "base_uri": "https://localhost:8080/"
        },
        "outputId": "4ecefeef-99b2-42c0-9ae5-5388e245f5d6"
      },
      "source": [
        "np.absolute(x)"
      ],
      "execution_count": null,
      "outputs": [
        {
          "output_type": "execute_result",
          "data": {
            "text/plain": [
              "array([2, 1, 0, 1, 2])"
            ]
          },
          "metadata": {
            "tags": []
          },
          "execution_count": 69
        }
      ]
    },
    {
      "cell_type": "code",
      "metadata": {
        "id": "xrYC8qxXOTLi",
        "colab": {
          "base_uri": "https://localhost:8080/"
        },
        "outputId": "d7f47a36-ad84-4f2c-b808-fbe99bbb1461"
      },
      "source": [
        "np.abs(x)"
      ],
      "execution_count": null,
      "outputs": [
        {
          "output_type": "execute_result",
          "data": {
            "text/plain": [
              "array([2, 1, 0, 1, 2])"
            ]
          },
          "metadata": {
            "tags": []
          },
          "execution_count": 70
        }
      ]
    },
    {
      "cell_type": "markdown",
      "metadata": {
        "id": "oSI26J5MOTLj"
      },
      "source": [
        "This ufunc can also handle complex data, in which the absolute value returns the magnitude:"
      ]
    },
    {
      "cell_type": "code",
      "metadata": {
        "id": "wYe7LyG8OTLj",
        "colab": {
          "base_uri": "https://localhost:8080/"
        },
        "outputId": "72bb831c-e3fc-439c-a037-f4ad83812b02"
      },
      "source": [
        "x = np.array([3 - 4j, 4 - 3j, 2 + 0j, 0 + 1j])\n",
        "np.abs(x)"
      ],
      "execution_count": null,
      "outputs": [
        {
          "output_type": "execute_result",
          "data": {
            "text/plain": [
              "array([5., 5., 2., 1.])"
            ]
          },
          "metadata": {
            "tags": []
          },
          "execution_count": 71
        }
      ]
    },
    {
      "cell_type": "markdown",
      "metadata": {
        "id": "o_TErW93OTLj"
      },
      "source": [
        "### Trigonometric functions\n",
        "\n",
        "NumPy provides a large number of useful ufuncs, and some of the most useful for the data scientist are the trigonometric functions.\n",
        "We'll start by defining an array of angles:"
      ]
    },
    {
      "cell_type": "code",
      "metadata": {
        "id": "7TK2M2KXOTLk"
      },
      "source": [
        "theta = np.linspace(0, np.pi, 3)"
      ],
      "execution_count": null,
      "outputs": []
    },
    {
      "cell_type": "markdown",
      "metadata": {
        "id": "1bCoeMt0OTLk"
      },
      "source": [
        "Now we can compute some trigonometric functions on these values:"
      ]
    },
    {
      "cell_type": "code",
      "metadata": {
        "id": "VaMi5VifOTLk",
        "colab": {
          "base_uri": "https://localhost:8080/"
        },
        "outputId": "e2e04b5b-55d9-4d33-a6b4-250cbf622ce3"
      },
      "source": [
        "print(\"theta      = \", theta)\n",
        "print(\"sin(theta) = \", np.sin(theta))\n",
        "print(\"cos(theta) = \", np.cos(theta))\n",
        "print(\"tan(theta) = \", np.tan(theta))"
      ],
      "execution_count": null,
      "outputs": [
        {
          "output_type": "stream",
          "text": [
            "theta      =  [0.         1.57079633 3.14159265]\n",
            "sin(theta) =  [0.0000000e+00 1.0000000e+00 1.2246468e-16]\n",
            "cos(theta) =  [ 1.000000e+00  6.123234e-17 -1.000000e+00]\n",
            "tan(theta) =  [ 0.00000000e+00  1.63312394e+16 -1.22464680e-16]\n"
          ],
          "name": "stdout"
        }
      ]
    },
    {
      "cell_type": "markdown",
      "metadata": {
        "id": "eAeX990qOTLl"
      },
      "source": [
        "The values are computed to within machine precision, which is why values that should be zero do not always hit exactly zero.\n",
        "Inverse trigonometric functions are also available:"
      ]
    },
    {
      "cell_type": "code",
      "metadata": {
        "id": "cBmoMhEKOTLl",
        "colab": {
          "base_uri": "https://localhost:8080/"
        },
        "outputId": "d560b71c-aa95-4f1f-d219-c233128985c3"
      },
      "source": [
        "x = [-1, 0, 1]\n",
        "print(\"x         = \", x)\n",
        "print(\"arcsin(x) = \", np.arcsin(x))\n",
        "print(\"arccos(x) = \", np.arccos(x))\n",
        "print(\"arctan(x) = \", np.arctan(x))"
      ],
      "execution_count": null,
      "outputs": [
        {
          "output_type": "stream",
          "text": [
            "x         =  [-1, 0, 1]\n",
            "arcsin(x) =  [-1.57079633  0.          1.57079633]\n",
            "arccos(x) =  [3.14159265 1.57079633 0.        ]\n",
            "arctan(x) =  [-0.78539816  0.          0.78539816]\n"
          ],
          "name": "stdout"
        }
      ]
    },
    {
      "cell_type": "markdown",
      "metadata": {
        "id": "T0ipVE_7OTLl"
      },
      "source": [
        "### Exponents and logarithms\n",
        "\n",
        "Another common type of operation available in a NumPy ufunc are the exponentials:"
      ]
    },
    {
      "cell_type": "code",
      "metadata": {
        "id": "U8QKw8fsOTLm",
        "colab": {
          "base_uri": "https://localhost:8080/"
        },
        "outputId": "58199a59-f17f-46a9-e7b1-99f9ad6a02da"
      },
      "source": [
        "x = [1, 2, 3]\n",
        "print(\"x     =\", x)\n",
        "print(\"e^x   =\", np.exp(x))\n",
        "print(\"2^x   =\", np.exp2(x))\n",
        "print(\"3^x   =\", np.power(3, x))"
      ],
      "execution_count": null,
      "outputs": [
        {
          "output_type": "stream",
          "text": [
            "x     = [1, 2, 3]\n",
            "e^x   = [ 2.71828183  7.3890561  20.08553692]\n",
            "2^x   = [2. 4. 8.]\n",
            "3^x   = [ 3  9 27]\n"
          ],
          "name": "stdout"
        }
      ]
    },
    {
      "cell_type": "markdown",
      "metadata": {
        "id": "s8gB_dkCOTLm"
      },
      "source": [
        "The inverse of the exponentials, the logarithms, are also available.\n",
        "The basic ``np.log`` gives the natural logarithm; if you prefer to compute the base-2 logarithm or the base-10 logarithm, these are available as well:"
      ]
    },
    {
      "cell_type": "code",
      "metadata": {
        "id": "OHF1u0rQOTLm",
        "colab": {
          "base_uri": "https://localhost:8080/"
        },
        "outputId": "7838dcdd-2158-4035-f02f-542a259df334"
      },
      "source": [
        "x = [1, 2, 4, 10]\n",
        "print(\"x        =\", x)\n",
        "print(\"ln(x)    =\", np.log(x))\n",
        "print(\"log2(x)  =\", np.log2(x))\n",
        "print(\"log10(x) =\", np.log10(x))"
      ],
      "execution_count": null,
      "outputs": [
        {
          "output_type": "stream",
          "text": [
            "x        = [1, 2, 4, 10]\n",
            "ln(x)    = [0.         0.69314718 1.38629436 2.30258509]\n",
            "log2(x)  = [0.         1.         2.         3.32192809]\n",
            "log10(x) = [0.         0.30103    0.60205999 1.        ]\n"
          ],
          "name": "stdout"
        }
      ]
    },
    {
      "cell_type": "markdown",
      "metadata": {
        "id": "fqNhA_OROTLn"
      },
      "source": [
        "There are also some specialized versions that are useful for maintaining precision with very small input:"
      ]
    },
    {
      "cell_type": "code",
      "metadata": {
        "id": "6XilTJK9OTLn",
        "colab": {
          "base_uri": "https://localhost:8080/"
        },
        "outputId": "44bd0fc4-31f0-4396-a688-cddd11a9034b"
      },
      "source": [
        "x = [0, 0.001, 0.01, 0.1]\n",
        "print(\"exp(x) - 1 =\", np.expm1(x))\n",
        "print(\"log(1 + x) =\", np.log1p(x))"
      ],
      "execution_count": null,
      "outputs": [
        {
          "output_type": "stream",
          "text": [
            "exp(x) - 1 = [0.         0.0010005  0.01005017 0.10517092]\n",
            "log(1 + x) = [0.         0.0009995  0.00995033 0.09531018]\n"
          ],
          "name": "stdout"
        }
      ]
    },
    {
      "cell_type": "markdown",
      "metadata": {
        "id": "LUJEK6rOOTLo"
      },
      "source": [
        "When ``x`` is very small, these functions give more precise values than if the raw ``np.log`` or ``np.exp`` were to be used."
      ]
    },
    {
      "cell_type": "markdown",
      "metadata": {
        "id": "3VS92relOTLo"
      },
      "source": [
        "### Specialized ufuncs\n",
        "\n",
        "NumPy has many more ufuncs available, including hyperbolic trig functions, bitwise arithmetic, comparison operators, conversions from radians to degrees, rounding and remainders, and much more.\n",
        "A look through the NumPy documentation reveals a lot of interesting functionality.\n",
        "\n",
        "Another excellent source for more specialized and obscure ufuncs is the submodule ``scipy.special``.\n",
        "If you want to compute some obscure mathematical function on your data, chances are it is implemented in ``scipy.special``.\n",
        "There are far too many functions to list them all, but the following snippet shows a couple that might come up in a statistics context:"
      ]
    },
    {
      "cell_type": "code",
      "metadata": {
        "id": "02m958ApOTLo"
      },
      "source": [
        "from scipy import special"
      ],
      "execution_count": null,
      "outputs": []
    },
    {
      "cell_type": "code",
      "metadata": {
        "id": "n4754K2lOTLp",
        "colab": {
          "base_uri": "https://localhost:8080/"
        },
        "outputId": "5822fe5b-0637-48ec-a04a-f16bae99651d"
      },
      "source": [
        "# Gamma functions (generalized factorials) and related functions\n",
        "x = [1, 5, 10]\n",
        "print(\"gamma(x)     =\", special.gamma(x))\n",
        "print(\"ln|gamma(x)| =\", special.gammaln(x))\n",
        "print(\"beta(x, 2)   =\", special.beta(x, 2))"
      ],
      "execution_count": null,
      "outputs": [
        {
          "output_type": "stream",
          "text": [
            "gamma(x)     = [1.0000e+00 2.4000e+01 3.6288e+05]\n",
            "ln|gamma(x)| = [ 0.          3.17805383 12.80182748]\n",
            "beta(x, 2)   = [0.5        0.03333333 0.00909091]\n"
          ],
          "name": "stdout"
        }
      ]
    },
    {
      "cell_type": "code",
      "metadata": {
        "id": "k61LAlbuOTLp",
        "colab": {
          "base_uri": "https://localhost:8080/"
        },
        "outputId": "8872341f-6d9d-4e9a-ed49-b16dc86c3a2f"
      },
      "source": [
        "# Error function (integral of Gaussian)\n",
        "# its complement, and its inverse\n",
        "x = np.array([0, 0.3, 0.7, 1.0])\n",
        "print(\"erf(x)  =\", special.erf(x))\n",
        "print(\"erfc(x) =\", special.erfc(x))\n",
        "print(\"erfinv(x) =\", special.erfinv(x))"
      ],
      "execution_count": null,
      "outputs": [
        {
          "output_type": "stream",
          "text": [
            "erf(x)  = [0.         0.32862676 0.67780119 0.84270079]\n",
            "erfc(x) = [1.         0.67137324 0.32219881 0.15729921]\n",
            "erfinv(x) = [0.         0.27246271 0.73286908        inf]\n"
          ],
          "name": "stdout"
        }
      ]
    },
    {
      "cell_type": "markdown",
      "metadata": {
        "id": "2KihBUtPOTLp"
      },
      "source": [
        "There are many, many more ufuncs available in both NumPy and ``scipy.special``.\n",
        "Because the documentation of these packages is available online, a web search along the lines of \"gamma function python\" will generally find the relevant information."
      ]
    },
    {
      "cell_type": "markdown",
      "metadata": {
        "id": "PgK1_kAUOTLq"
      },
      "source": [
        "## Advanced Ufunc Features\n",
        "\n",
        "Many NumPy users make use of ufuncs without ever learning their full set of features.\n",
        "We'll outline a few specialized features of ufuncs here."
      ]
    },
    {
      "cell_type": "markdown",
      "metadata": {
        "id": "Kyf4N35fOTLq"
      },
      "source": [
        "### Specifying output\n",
        "\n",
        "For large calculations, it is sometimes useful to be able to specify the array where the result of the calculation will be stored.\n",
        "Rather than creating a temporary array, this can be used to write computation results directly to the memory location where you'd like them to be.\n",
        "For all ufuncs, this can be done using the ``out`` argument of the function:"
      ]
    },
    {
      "cell_type": "code",
      "metadata": {
        "id": "LcBA5NVhOTLq",
        "colab": {
          "base_uri": "https://localhost:8080/"
        },
        "outputId": "bcafdf43-d296-434a-b0e8-2cf572bc31f1"
      },
      "source": [
        "x = np.arange(5)\n",
        "y = np.empty(5)\n",
        "np.multiply(x, 10, out=y)\n",
        "print(y)"
      ],
      "execution_count": null,
      "outputs": [
        {
          "output_type": "stream",
          "text": [
            "[ 0. 10. 20. 30. 40.]\n"
          ],
          "name": "stdout"
        }
      ]
    },
    {
      "cell_type": "markdown",
      "metadata": {
        "id": "qjcQGzjbOTLr"
      },
      "source": [
        "This can even be used with array views. For example, we can write the results of a computation to every other element of a specified array:"
      ]
    },
    {
      "cell_type": "code",
      "metadata": {
        "id": "Hbxu-vthOTLr",
        "colab": {
          "base_uri": "https://localhost:8080/"
        },
        "outputId": "531e8e61-205b-4d75-be26-cfe1cf77c2b9"
      },
      "source": [
        "y = np.zeros(10)\n",
        "np.power(2, x, out=y[::2])\n",
        "print(y)"
      ],
      "execution_count": null,
      "outputs": [
        {
          "output_type": "stream",
          "text": [
            "[ 1.  0.  2.  0.  4.  0.  8.  0. 16.  0.]\n"
          ],
          "name": "stdout"
        }
      ]
    },
    {
      "cell_type": "markdown",
      "metadata": {
        "id": "KcSR9izAOTLs"
      },
      "source": [
        "If we had instead written ``y[::2] = 2 ** x``, this would have resulted in the creation of a temporary array to hold the results of ``2 ** x``, followed by a second operation copying those values into the ``y`` array.\n",
        "This doesn't make much of a difference for such a small computation, but for very large arrays the memory savings from careful use of the ``out`` argument can be significant."
      ]
    },
    {
      "cell_type": "markdown",
      "metadata": {
        "id": "cOVMXCSbOTLs"
      },
      "source": [
        "### Aggregates\n",
        "\n",
        "For binary ufuncs, there are some interesting aggregates that can be computed directly from the object.\n",
        "For example, if we'd like to *reduce* an array with a particular operation, we can use the ``reduce`` method of any ufunc.\n",
        "A reduce repeatedly applies a given operation to the elements of an array until only a single result remains.\n",
        "\n",
        "For example, calling ``reduce`` on the ``add`` ufunc returns the sum of all elements in the array:"
      ]
    },
    {
      "cell_type": "code",
      "metadata": {
        "id": "OPIr35B1OTLt",
        "colab": {
          "base_uri": "https://localhost:8080/"
        },
        "outputId": "45f9ee19-4773-4ead-97c2-e0be38aa2dec"
      },
      "source": [
        "x = np.arange(1, 6)\n",
        "np.add.reduce(x)"
      ],
      "execution_count": null,
      "outputs": [
        {
          "output_type": "execute_result",
          "data": {
            "text/plain": [
              "15"
            ]
          },
          "metadata": {
            "tags": []
          },
          "execution_count": 83
        }
      ]
    },
    {
      "cell_type": "markdown",
      "metadata": {
        "id": "Ix1XKnZcOTLt"
      },
      "source": [
        "Similarly, calling ``reduce`` on the ``multiply`` ufunc results in the product of all array elements:"
      ]
    },
    {
      "cell_type": "code",
      "metadata": {
        "id": "NC6N7_RfOTLt",
        "colab": {
          "base_uri": "https://localhost:8080/"
        },
        "outputId": "cc0495b9-fa21-4bd5-8720-1a5a0057807a"
      },
      "source": [
        "np.multiply.reduce(x)"
      ],
      "execution_count": null,
      "outputs": [
        {
          "output_type": "execute_result",
          "data": {
            "text/plain": [
              "120"
            ]
          },
          "metadata": {
            "tags": []
          },
          "execution_count": 84
        }
      ]
    },
    {
      "cell_type": "markdown",
      "metadata": {
        "id": "mvBn4s1XOTLu"
      },
      "source": [
        "If we'd like to store all the intermediate results of the computation, we can instead use ``accumulate``:"
      ]
    },
    {
      "cell_type": "code",
      "metadata": {
        "id": "_Ka7p00eOTLu",
        "colab": {
          "base_uri": "https://localhost:8080/"
        },
        "outputId": "bcc00d0d-03fa-427b-ddb7-9cda8bac5d8f"
      },
      "source": [
        "np.add.accumulate(x)"
      ],
      "execution_count": null,
      "outputs": [
        {
          "output_type": "execute_result",
          "data": {
            "text/plain": [
              "array([ 1,  3,  6, 10, 15])"
            ]
          },
          "metadata": {
            "tags": []
          },
          "execution_count": 85
        }
      ]
    },
    {
      "cell_type": "code",
      "metadata": {
        "id": "NFOtLD5eOTLu",
        "colab": {
          "base_uri": "https://localhost:8080/"
        },
        "outputId": "0d43aeb7-89c1-4c80-f067-e6535eaa3ee3"
      },
      "source": [
        "np.multiply.accumulate(x)"
      ],
      "execution_count": null,
      "outputs": [
        {
          "output_type": "execute_result",
          "data": {
            "text/plain": [
              "array([  1,   2,   6,  24, 120])"
            ]
          },
          "metadata": {
            "tags": []
          },
          "execution_count": 86
        }
      ]
    },
    {
      "cell_type": "markdown",
      "metadata": {
        "id": "w91OGuCiOTLv"
      },
      "source": [
        "Note that for these particular cases, there are dedicated NumPy functions to compute the results (``np.sum``, ``np.prod``, ``np.cumsum``, ``np.cumprod``), which we'll explore in [Aggregations: Min, Max, and Everything In Between](02.04-Computation-on-arrays-aggregates.ipynb)."
      ]
    },
    {
      "cell_type": "markdown",
      "metadata": {
        "id": "W89dsV8JOTLv"
      },
      "source": [
        "### Outer products\n",
        "\n",
        "Finally, any ufunc can compute the output of all pairs of two different inputs using the ``outer`` method.\n",
        "This allows you, in one line, to do things like create a multiplication table:"
      ]
    },
    {
      "cell_type": "code",
      "metadata": {
        "scrolled": true,
        "id": "EUSlVQKYOTLw",
        "colab": {
          "base_uri": "https://localhost:8080/"
        },
        "outputId": "33d66fd9-e85d-487e-ed57-902bb2ceb378"
      },
      "source": [
        "x = np.arange(1, 6)\n",
        "np.multiply.outer(x, x)"
      ],
      "execution_count": null,
      "outputs": [
        {
          "output_type": "execute_result",
          "data": {
            "text/plain": [
              "array([[ 1,  2,  3,  4,  5],\n",
              "       [ 2,  4,  6,  8, 10],\n",
              "       [ 3,  6,  9, 12, 15],\n",
              "       [ 4,  8, 12, 16, 20],\n",
              "       [ 5, 10, 15, 20, 25]])"
            ]
          },
          "metadata": {
            "tags": []
          },
          "execution_count": 87
        }
      ]
    },
    {
      "cell_type": "markdown",
      "metadata": {
        "id": "l-0QTXOgOTLw"
      },
      "source": [
        "The ``ufunc.at`` and ``ufunc.reduceat`` methods, which we'll explore in [Fancy Indexing](02.07-Fancy-Indexing.ipynb), are very helpful as well.\n",
        "\n",
        "Another extremely useful feature of ufuncs is the ability to operate between arrays of different sizes and shapes, a set of operations known as *broadcasting*.\n",
        "This subject is important enough that we will devote a whole section to it (see [Computation on Arrays: Broadcasting](02.05-Computation-on-arrays-broadcasting.ipynb))."
      ]
    },
    {
      "cell_type": "markdown",
      "metadata": {
        "id": "FUS15penOTLw"
      },
      "source": [
        "## Ufuncs: Learning More"
      ]
    },
    {
      "cell_type": "markdown",
      "metadata": {
        "id": "NBtzQ48xOTLx"
      },
      "source": [
        "More information on universal functions (including the full list of available functions) can be found on the [NumPy](http://www.numpy.org) and [SciPy](http://www.scipy.org) documentation websites.\n",
        "\n",
        "Recall that you can also access information directly from within IPython by importing the packages and using IPython's tab-completion and help (``?``) functionality, as described in [Help and Documentation in IPython](01.01-Help-And-Documentation.ipynb)."
      ]
    },
    {
      "cell_type": "markdown",
      "metadata": {
        "id": "fnHswpRQOTLy"
      },
      "source": [
        "<!--NAVIGATION-->\n",
        "< [The Basics of NumPy Arrays](02.02-The-Basics-Of-NumPy-Arrays.ipynb) | [Contents](Index.ipynb) | [Aggregations: Min, Max, and Everything In Between](02.04-Computation-on-arrays-aggregates.ipynb) >\n",
        "\n",
        "<a href=\"https://colab.research.google.com/github/jakevdp/PythonDataScienceHandbook/blob/master/notebooks/02.03-Computation-on-arrays-ufuncs.ipynb\"><img align=\"left\" src=\"https://colab.research.google.com/assets/colab-badge.svg\" alt=\"Open in Colab\" title=\"Open and Execute in Google Colaboratory\"></a>\n"
      ]
    }
  ]
}