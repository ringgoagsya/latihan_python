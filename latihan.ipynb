{
  "nbformat": 4,
  "nbformat_minor": 0,
  "metadata": {
    "colab": {
      "name": "latihan.ipynb",
      "provenance": [],
      "authorship_tag": "ABX9TyNQH368hsUbxUZ1jO5SscM0",
      "include_colab_link": true
    },
    "kernelspec": {
      "name": "python3",
      "display_name": "Python 3"
    },
    "language_info": {
      "name": "python"
    }
  },
  "cells": [
    {
      "cell_type": "markdown",
      "metadata": {
        "id": "view-in-github",
        "colab_type": "text"
      },
      "source": [
        "<a href=\"https://colab.research.google.com/github/ringgoagsya/latihan_python/blob/main/latihan.ipynb\" target=\"_parent\"><img src=\"https://colab.research.google.com/assets/colab-badge.svg\" alt=\"Open In Colab\"/></a>"
      ]
    },
    {
      "cell_type": "markdown",
      "metadata": {
        "id": "d598CoDFJc40"
      },
      "source": [
        "# IPhyton Magic Commands"
      ]
    },
    {
      "cell_type": "markdown",
      "metadata": {
        "id": "MIYQ1ZQKHHau"
      },
      "source": [
        "## Pasting Code Blocks: %paste and %cpaste"
      ]
    },
    {
      "cell_type": "code",
      "metadata": {
        "id": "S46y-k5D5MSt"
      },
      "source": [
        "def donothing(x):\n",
        "  return x"
      ],
      "execution_count": 1,
      "outputs": []
    },
    {
      "cell_type": "markdown",
      "metadata": {
        "id": "kUjKVrKnC4ow"
      },
      "source": [
        ""
      ]
    },
    {
      "cell_type": "code",
      "metadata": {
        "colab": {
          "base_uri": "https://localhost:8080/",
          "height": 129
        },
        "id": "c4qADFY_8mAz",
        "outputId": "87fbdad1-7040-4f80-fa3d-5fb1736a3171"
      },
      "source": [
        ">>> def donothing(x):\n",
        "... return x"
      ],
      "execution_count": 2,
      "outputs": [
        {
          "output_type": "error",
          "ename": "IndentationError",
          "evalue": "ignored",
          "traceback": [
            "\u001b[0;36m  File \u001b[0;32m\"<ipython-input-2-9cd11e388a18>\"\u001b[0;36m, line \u001b[0;32m2\u001b[0m\n\u001b[0;31m    return x\u001b[0m\n\u001b[0m         ^\u001b[0m\n\u001b[0;31mIndentationError\u001b[0m\u001b[0;31m:\u001b[0m expected an indented block\n"
          ]
        }
      ]
    },
    {
      "cell_type": "markdown",
      "metadata": {
        "id": "Rs5CcC7vDC78"
      },
      "source": [
        "kalau langsung copy paste akan salah inden nya. sehingga harus d edit dan di enter setelah mendefinisikan suatu fungsi"
      ]
    },
    {
      "cell_type": "code",
      "metadata": {
        "colab": {
          "base_uri": "https://localhost:8080/"
        },
        "id": "S5eiGqr48z7m",
        "outputId": "24ebe8eb-3a2e-4c1c-fbae-217b1549d74f"
      },
      "source": [
        "%paste\n",
        "def donothing(x):\n",
        "  return x\n",
        "## -- End pasted text --"
      ],
      "execution_count": 7,
      "outputs": [
        {
          "output_type": "stream",
          "text": [
            "UsageError: Line magic function `%paste` not found.\n"
          ],
          "name": "stderr"
        }
      ]
    },
    {
      "cell_type": "markdown",
      "metadata": {
        "id": "RVQL8sdyDR9L"
      },
      "source": [
        "magic function %paste tidak ditemukan di library google colab"
      ]
    },
    {
      "cell_type": "code",
      "metadata": {
        "colab": {
          "base_uri": "https://localhost:8080/"
        },
        "id": "5pnZYTk39Bjh",
        "outputId": "443670d4-09c7-41ab-efad-4f2e60851d96"
      },
      "source": [
        "donothing(10)"
      ],
      "execution_count": 5,
      "outputs": [
        {
          "output_type": "execute_result",
          "data": {
            "text/plain": [
              "10"
            ]
          },
          "metadata": {
            "tags": []
          },
          "execution_count": 5
        }
      ]
    },
    {
      "cell_type": "code",
      "metadata": {
        "colab": {
          "base_uri": "https://localhost:8080/"
        },
        "id": "cv_hk7ui-L8H",
        "outputId": "587848b9-edf7-4b22-e681-b9074d8ef135"
      },
      "source": [
        "%cpaste\n",
        "def donothing(x):\n",
        "  return x"
      ],
      "execution_count": 13,
      "outputs": [
        {
          "output_type": "stream",
          "text": [
            "UsageError: Line magic function `%cpaste` not found.\n"
          ],
          "name": "stderr"
        }
      ]
    },
    {
      "cell_type": "markdown",
      "metadata": {
        "id": "LVBcCNZxDZFZ"
      },
      "source": [
        "magic function %paste tidak ditemukan di library google colab"
      ]
    },
    {
      "cell_type": "markdown",
      "metadata": {
        "id": "8KmMz49IHQ2O"
      },
      "source": [
        "## Running External Code: %run\n"
      ]
    },
    {
      "cell_type": "code",
      "metadata": {
        "colab": {
          "base_uri": "https://localhost:8080/"
        },
        "id": "2ugNVSBtD6aV",
        "outputId": "b2380746-da9d-4263-9d87-a51c352d2f9c"
      },
      "source": [
        "#-------------------------------------\n",
        "# file: myscript.py\n",
        "%%writefile myscript.py\n",
        "def square(x):\n",
        "  return x ** 2\n",
        "for N in range(1, 4):\n",
        "  print(N, \"squared is\", square(N))"
      ],
      "execution_count": 16,
      "outputs": [
        {
          "output_type": "stream",
          "text": [
            "Overwriting myscript.py\n"
          ],
          "name": "stdout"
        }
      ]
    },
    {
      "cell_type": "markdown",
      "metadata": {
        "id": "8j8wFGgxF6_s"
      },
      "source": [
        "Kodingan diatas untuk membuat file myscript.py dengan kodingan mencari kuadrat dari suatu bilangan dengan syntax X ** 2 artinya x dipangkatkan 2. untuk menjalankan nya menggunakan syntax  %run"
      ]
    },
    {
      "cell_type": "code",
      "metadata": {
        "colab": {
          "base_uri": "https://localhost:8080/"
        },
        "id": "y1DgkJSlGFjN",
        "outputId": "fa298fd3-6319-40ff-c28f-f5017eb7d781"
      },
      "source": [
        "%run myscript.py"
      ],
      "execution_count": 17,
      "outputs": [
        {
          "output_type": "stream",
          "text": [
            "1 squared is 1\n",
            "2 squared is 4\n",
            "3 squared is 9\n"
          ],
          "name": "stdout"
        }
      ]
    },
    {
      "cell_type": "code",
      "metadata": {
        "colab": {
          "base_uri": "https://localhost:8080/"
        },
        "id": "P05wZlmRGPcs",
        "outputId": "8ee082a1-5fc0-4825-e40a-fc1fb7c9929c"
      },
      "source": [
        "square(5)"
      ],
      "execution_count": 18,
      "outputs": [
        {
          "output_type": "execute_result",
          "data": {
            "text/plain": [
              "25"
            ]
          },
          "metadata": {
            "tags": []
          },
          "execution_count": 18
        }
      ]
    },
    {
      "cell_type": "markdown",
      "metadata": {
        "id": "tTiWgdREGWUw"
      },
      "source": [
        "untuk menampilkan hasil kuadrat dari suatu bilangan kita bisa memasukkan fungsi square() dan diisi dengan angka yang kita inginkan."
      ]
    },
    {
      "cell_type": "markdown",
      "metadata": {
        "id": "JEjOkMZ8HVjO"
      },
      "source": [
        "## Timing Code Execution: %timeit\n"
      ]
    },
    {
      "cell_type": "code",
      "metadata": {
        "colab": {
          "base_uri": "https://localhost:8080/"
        },
        "id": "2IjtWUjYGtMD",
        "outputId": "94e55e74-88f2-4d33-826a-2b92bf1bdd8a"
      },
      "source": [
        "%timeit L = [n ** 2 for n in range(1000)]"
      ],
      "execution_count": 20,
      "outputs": [
        {
          "output_type": "stream",
          "text": [
            "1000 loops, best of 5: 313 µs per loop\n"
          ],
          "name": "stdout"
        }
      ]
    },
    {
      "cell_type": "markdown",
      "metadata": {
        "id": "Nf7SvAA0Fpw1"
      },
      "source": [
        "magic comand  %timeit untuk membandingkan kecepatan waktu eksekusi dari sebuah kode menggunakan list komprehensif."
      ]
    },
    {
      "cell_type": "code",
      "metadata": {
        "colab": {
          "base_uri": "https://localhost:8080/"
        },
        "id": "62fu0J6MHlBL",
        "outputId": "a2a09182-04b7-4ab1-d78e-dac339eb68a3"
      },
      "source": [
        "%%timeit\n",
        "L = []\n",
        "for n in range(1000):\n",
        "  L.append(n ** 2)"
      ],
      "execution_count": 24,
      "outputs": [
        {
          "output_type": "stream",
          "text": [
            "1000 loops, best of 5: 382 µs per loop\n"
          ],
          "name": "stdout"
        }
      ]
    },
    {
      "cell_type": "markdown",
      "metadata": {
        "id": "xjmsb634IHFn"
      },
      "source": [
        "magic comand  %timeit untuk membandingkan kecepatan waktu eksekusi dari sebuah kode menggunakan for looping."
      ]
    },
    {
      "cell_type": "markdown",
      "metadata": {
        "id": "0AqwXLn0IKGZ"
      },
      "source": [
        "kita bisa lihat setiap 1000 loop dari list komprehensif membutuhkan waktu 313 microsecond sedangkan untuk loop 382 microsecond setiap loop itu bisa berbeda setiap device. tapi bisa kita lihat bahwa list komprehensif butuh waktu singkat dari looping"
      ]
    },
    {
      "cell_type": "markdown",
      "metadata": {
        "id": "vj-wwjhgItRT"
      },
      "source": [
        "## Help on Magic Functions: ?, %magic, and %lsmagic"
      ]
    },
    {
      "cell_type": "code",
      "metadata": {
        "id": "gi-oRqNlIu7S"
      },
      "source": [
        "$timeit?"
      ],
      "execution_count": 25,
      "outputs": []
    },
    {
      "cell_type": "markdown",
      "metadata": {
        "id": "cZkCQtQSI5KI"
      },
      "source": [
        "untuk menampilkan help atau bantuan dari command timeit apa saja yang dapat kita gunakan"
      ]
    },
    {
      "cell_type": "code",
      "metadata": {
        "id": "POYq882SI_H6"
      },
      "source": [
        "%magic"
      ],
      "execution_count": 26,
      "outputs": []
    },
    {
      "cell_type": "markdown",
      "metadata": {
        "id": "hP3UkfXfJIGA"
      },
      "source": [
        "untuk menampilkan help atau bantuan dari command magic apa saja yang dapat kita gunakan"
      ]
    },
    {
      "cell_type": "code",
      "metadata": {
        "colab": {
          "base_uri": "https://localhost:8080/",
          "height": 156
        },
        "id": "DNvlAY2dJLUU",
        "outputId": "5768fbe3-d186-440b-82b8-c04e2036587f"
      },
      "source": [
        "%lsmagic"
      ],
      "execution_count": 27,
      "outputs": [
        {
          "output_type": "execute_result",
          "data": {
            "application/json": {
              "cell": {
                "prun": "ExecutionMagics",
                "file": "Other",
                "!": "OSMagics",
                "capture": "ExecutionMagics",
                "timeit": "ExecutionMagics",
                "script": "ScriptMagics",
                "pypy": "Other",
                "system": "OSMagics",
                "perl": "Other",
                "html": "DisplayMagics",
                "bash": "Other",
                "shell": "Other",
                "HTML": "Other",
                "python": "Other",
                "SVG": "Other",
                "javascript": "DisplayMagics",
                "bigquery": "Other",
                "js": "DisplayMagics",
                "writefile": "OSMagics",
                "ruby": "Other",
                "python3": "Other",
                "python2": "Other",
                "latex": "DisplayMagics",
                "sx": "OSMagics",
                "svg": "DisplayMagics",
                "sh": "Other",
                "time": "ExecutionMagics",
                "debug": "ExecutionMagics"
              },
              "line": {
                "psource": "NamespaceMagics",
                "logstart": "LoggingMagics",
                "popd": "OSMagics",
                "tensorflow_version": "Other",
                "loadpy": "CodeMagics",
                "colors": "BasicMagics",
                "who_ls": "NamespaceMagics",
                "lf": "Other",
                "ll": "Other",
                "pprint": "BasicMagics",
                "lk": "Other",
                "ls": "Other",
                "save": "CodeMagics",
                "tb": "ExecutionMagics",
                "lx": "Other",
                "pylab": "PylabMagics",
                "killbgscripts": "ScriptMagics",
                "quickref": "BasicMagics",
                "magic": "BasicMagics",
                "dhist": "OSMagics",
                "edit": "KernelMagics",
                "logstop": "LoggingMagics",
                "gui": "BasicMagics",
                "prun": "ExecutionMagics",
                "debug": "ExecutionMagics",
                "page": "BasicMagics",
                "logstate": "LoggingMagics",
                "ed": "Other",
                "pushd": "OSMagics",
                "timeit": "ExecutionMagics",
                "set_env": "OSMagics",
                "rehashx": "OSMagics",
                "hist": "Other",
                "qtconsole": "KernelMagics",
                "rm": "Other",
                "dirs": "OSMagics",
                "run": "ExecutionMagics",
                "reset_selective": "NamespaceMagics",
                "pinfo2": "NamespaceMagics",
                "matplotlib": "PylabMagics",
                "unload_ext": "ExtensionMagics",
                "doctest_mode": "BasicMagics",
                "logoff": "LoggingMagics",
                "reload_ext": "ExtensionMagics",
                "pdb": "ExecutionMagics",
                "load": "CodeMagics",
                "lsmagic": "BasicMagics",
                "autosave": "KernelMagics",
                "cd": "OSMagics",
                "pastebin": "CodeMagics",
                "alias_magic": "BasicMagics",
                "cp": "Other",
                "autocall": "AutoMagics",
                "ldir": "Other",
                "bookmark": "OSMagics",
                "connect_info": "KernelMagics",
                "mkdir": "Other",
                "system": "OSMagics",
                "whos": "NamespaceMagics",
                "rmdir": "Other",
                "automagic": "AutoMagics",
                "store": "StoreMagics",
                "more": "KernelMagics",
                "shell": "Other",
                "pdef": "NamespaceMagics",
                "precision": "BasicMagics",
                "pinfo": "NamespaceMagics",
                "pwd": "OSMagics",
                "psearch": "NamespaceMagics",
                "reset": "NamespaceMagics",
                "recall": "HistoryMagics",
                "xdel": "NamespaceMagics",
                "xmode": "BasicMagics",
                "cat": "Other",
                "mv": "Other",
                "rerun": "HistoryMagics",
                "logon": "LoggingMagics",
                "history": "HistoryMagics",
                "pycat": "OSMagics",
                "pip": "Other",
                "unalias": "OSMagics",
                "env": "OSMagics",
                "load_ext": "ExtensionMagics",
                "config": "ConfigMagics",
                "profile": "BasicMagics",
                "pfile": "NamespaceMagics",
                "less": "KernelMagics",
                "who": "NamespaceMagics",
                "notebook": "BasicMagics",
                "man": "KernelMagics",
                "sx": "OSMagics",
                "macro": "ExecutionMagics",
                "clear": "KernelMagics",
                "alias": "OSMagics",
                "time": "ExecutionMagics",
                "sc": "OSMagics",
                "rep": "Other",
                "pdoc": "NamespaceMagics"
              }
            },
            "text/plain": [
              "Available line magics:\n",
              "%alias  %alias_magic  %autocall  %automagic  %autosave  %bookmark  %cat  %cd  %clear  %colors  %config  %connect_info  %cp  %debug  %dhist  %dirs  %doctest_mode  %ed  %edit  %env  %gui  %hist  %history  %killbgscripts  %ldir  %less  %lf  %lk  %ll  %load  %load_ext  %loadpy  %logoff  %logon  %logstart  %logstate  %logstop  %ls  %lsmagic  %lx  %macro  %magic  %man  %matplotlib  %mkdir  %more  %mv  %notebook  %page  %pastebin  %pdb  %pdef  %pdoc  %pfile  %pinfo  %pinfo2  %pip  %popd  %pprint  %precision  %profile  %prun  %psearch  %psource  %pushd  %pwd  %pycat  %pylab  %qtconsole  %quickref  %recall  %rehashx  %reload_ext  %rep  %rerun  %reset  %reset_selective  %rm  %rmdir  %run  %save  %sc  %set_env  %shell  %store  %sx  %system  %tb  %tensorflow_version  %time  %timeit  %unalias  %unload_ext  %who  %who_ls  %whos  %xdel  %xmode\n",
              "\n",
              "Available cell magics:\n",
              "%%!  %%HTML  %%SVG  %%bash  %%bigquery  %%capture  %%debug  %%file  %%html  %%javascript  %%js  %%latex  %%perl  %%prun  %%pypy  %%python  %%python2  %%python3  %%ruby  %%script  %%sh  %%shell  %%svg  %%sx  %%system  %%time  %%timeit  %%writefile\n",
              "\n",
              "Automagic is ON, % prefix IS NOT needed for line magics."
            ]
          },
          "metadata": {
            "tags": []
          },
          "execution_count": 27
        }
      ]
    },
    {
      "cell_type": "markdown",
      "metadata": {
        "id": "faI81iomJOEg"
      },
      "source": [
        "list magic functuion yang tersedia dan bisa langsung digunakan"
      ]
    },
    {
      "cell_type": "markdown",
      "metadata": {
        "id": "gdmRxh2Czcxg"
      },
      "source": [
        "# Input and Output History"
      ]
    },
    {
      "cell_type": "markdown",
      "metadata": {
        "id": "0ZER88hTzf6N"
      },
      "source": [
        "## 1. IPython's In and Out Objects."
      ]
    },
    {
      "cell_type": "code",
      "metadata": {
        "id": "UdrajeJe05ip"
      },
      "source": [
        "import math"
      ],
      "execution_count": 28,
      "outputs": []
    },
    {
      "cell_type": "markdown",
      "metadata": {
        "id": "mm3dKhTKKY44"
      },
      "source": [
        "untuk mengimport library dari math. library math berisikan library tentang matematika"
      ]
    },
    {
      "cell_type": "code",
      "metadata": {
        "colab": {
          "base_uri": "https://localhost:8080/"
        },
        "id": "yHbdmmh308-G",
        "outputId": "bf694819-c43a-4549-c15e-135370260559"
      },
      "source": [
        "math.sin(2)"
      ],
      "execution_count": 29,
      "outputs": [
        {
          "output_type": "execute_result",
          "data": {
            "text/plain": [
              "0.9092974268256817"
            ]
          },
          "metadata": {
            "tags": []
          },
          "execution_count": 29
        }
      ]
    },
    {
      "cell_type": "markdown",
      "metadata": {
        "id": "bxZJWItbKfLX"
      },
      "source": [
        "math.sin() merupakan fungsi untuk menampilkan hasil sinus dari suatu bilangan."
      ]
    },
    {
      "cell_type": "code",
      "metadata": {
        "colab": {
          "base_uri": "https://localhost:8080/"
        },
        "id": "zSnvYWSD0_JP",
        "outputId": "c57ad848-bc30-4260-99bc-1c85544cc047"
      },
      "source": [
        "math.cos(2)"
      ],
      "execution_count": 30,
      "outputs": [
        {
          "output_type": "execute_result",
          "data": {
            "text/plain": [
              "-0.4161468365471424"
            ]
          },
          "metadata": {
            "tags": []
          },
          "execution_count": 30
        }
      ]
    },
    {
      "cell_type": "markdown",
      "metadata": {
        "id": "M0wVVEP2KoMf"
      },
      "source": [
        "math.cos() merupakan fungsi untuk menampilkan hasil cosinus dari suatu bilangan."
      ]
    },
    {
      "cell_type": "code",
      "metadata": {
        "colab": {
          "base_uri": "https://localhost:8080/"
        },
        "id": "t8AokEzC13A8",
        "outputId": "e62dea1f-1cd0-452c-ee51-8cc891126899"
      },
      "source": [
        "print(In)"
      ],
      "execution_count": 31,
      "outputs": [
        {
          "output_type": "stream",
          "text": [
            "['', 'def donothing(x):\\n  return x', 'def donothing(x):\\nreturn x', \"get_ipython().magic('paste')\\n>>> def donothing(x):\\n... return x\\n## -- End pasted text --\", \"get_ipython().magic('paste')\\ndef donothing(x):\\n  return x\\n## -- End pasted text --\", 'donothing(10)', \"get_ipython().magic('paste')\", \"get_ipython().magic('paste')\\ndef donothing(x):\\n  return x\\n## -- End pasted text --\", \"get_ipython().magic('cpaste')\\nPasting code; enter '--' alone on the line to stop or use Ctrl-D.\\n:>>> def donothing(x):\\n:... return x\", \"get_ipython().magic('cpaste')\\nPasting code; enter '--' alone on the line to stop or use Ctrl-D.\\ndef donothing(x):\\n  return x\", \"get_ipython().magic('cpaste --')\\ndef donothing(x):\\n  return x\", '__%cpaste__\\ndef donothing(x):\\n  return x', 'def __%cpaste__\\ndef donothing(x):\\n  return x', \"get_ipython().magic('cpaste')\\ndef donothing(x):\\n  return x\", 'get_ipython().run_cell_magic(\\'writefile\\', \\'myscript.py\\', \\'def square(x):\\\\n  return x ** 2\\\\nfor N in range(1, 4):\\\\n  print(N, \"squared is\", square(N))\\')', 'def square(x):\\n  return x ** 2\\nfor N in range(1, 4):\\n  print(N, \"squared is\", square(N))', 'get_ipython().run_cell_magic(\\'writefile\\', \\'myscript.py\\', \\'def square(x):\\\\n  return x ** 2\\\\nfor N in range(1, 4):\\\\n  print(N, \"squared is\", square(N))\\')', \"get_ipython().magic('run myscript.py')\", 'square(5)', \"get_ipython().magic('timeit L = [n ** 2 for n in range(1000)]')\\n1000 loops, best of 3: 325 µs per loop\", \"get_ipython().magic('timeit L = [n ** 2 for n in range(1000)]')\", \"get_ipython().run_cell_magic('timeit', '', '...: L = []\\\\n...: for n in range(1000):\\\\n...:  L.append(n ** 2)')\", \"get_ipython().run_cell_magic('timeit', '', 'L = []\\\\nfor n in range(1000):\\\\nL.append(n ** 2)')\", \"get_ipython().run_cell_magic('timeit', '', 'L = []\\\\nfor n in range(1000):\\\\nL.append(n ** 2)')\", \"get_ipython().run_cell_magic('timeit', '', 'L = []\\\\nfor n in range(1000):\\\\n  L.append(n ** 2)')\", \"get_ipython().set_next_input('$timeit');get_ipython().magic('pinfo timeit')\", \"get_ipython().magic('magic')\", \"get_ipython().magic('lsmagic')\", 'import math', 'math.sin(2)', 'math.cos(2)', 'print(In)']\n"
          ],
          "name": "stdout"
        }
      ]
    },
    {
      "cell_type": "markdown",
      "metadata": {
        "id": "zo9QD5YoLAOu"
      },
      "source": [
        "Menampilkan semua input yang kita input di atas. Yang objeknya digambarkan dengan sebuah list."
      ]
    },
    {
      "cell_type": "code",
      "metadata": {
        "colab": {
          "base_uri": "https://localhost:8080/"
        },
        "id": "qb4FC1DA2Qbm",
        "outputId": "440ac3d7-51a7-4365-d982-e71316624d21"
      },
      "source": [
        "Out"
      ],
      "execution_count": 32,
      "outputs": [
        {
          "output_type": "execute_result",
          "data": {
            "text/plain": [
              "{5: 10,\n",
              " 18: 25,\n",
              " 27: Available line magics:\n",
              "%alias  %alias_magic  %autocall  %automagic  %autosave  %bookmark  %cat  %cd  %clear  %colors  %config  %connect_info  %cp  %debug  %dhist  %dirs  %doctest_mode  %ed  %edit  %env  %gui  %hist  %history  %killbgscripts  %ldir  %less  %lf  %lk  %ll  %load  %load_ext  %loadpy  %logoff  %logon  %logstart  %logstate  %logstop  %ls  %lsmagic  %lx  %macro  %magic  %man  %matplotlib  %mkdir  %more  %mv  %notebook  %page  %pastebin  %pdb  %pdef  %pdoc  %pfile  %pinfo  %pinfo2  %pip  %popd  %pprint  %precision  %profile  %prun  %psearch  %psource  %pushd  %pwd  %pycat  %pylab  %qtconsole  %quickref  %recall  %rehashx  %reload_ext  %rep  %rerun  %reset  %reset_selective  %rm  %rmdir  %run  %save  %sc  %set_env  %shell  %store  %sx  %system  %tb  %tensorflow_version  %time  %timeit  %unalias  %unload_ext  %who  %who_ls  %whos  %xdel  %xmode\n",
              "\n",
              "Available cell magics:\n",
              "%%!  %%HTML  %%SVG  %%bash  %%bigquery  %%capture  %%debug  %%file  %%html  %%javascript  %%js  %%latex  %%perl  %%prun  %%pypy  %%python  %%python2  %%python3  %%ruby  %%script  %%sh  %%shell  %%svg  %%sx  %%system  %%time  %%timeit  %%writefile\n",
              "\n",
              "Automagic is ON, % prefix IS NOT needed for line magics.,\n",
              " 29: 0.9092974268256817,\n",
              " 30: -0.4161468365471424}"
            ]
          },
          "metadata": {
            "tags": []
          },
          "execution_count": 32
        }
      ]
    },
    {
      "cell_type": "markdown",
      "metadata": {
        "id": "1CO7F-UILEzq"
      },
      "source": [
        "menampilkan semua output kita dari awal program. Yang objeknya digambarkan dengan sebuah array"
      ]
    },
    {
      "cell_type": "code",
      "metadata": {
        "colab": {
          "base_uri": "https://localhost:8080/"
        },
        "id": "4w8HIy5t3yyW",
        "outputId": "34c40435-9106-4117-8c85-5898cf233ce5"
      },
      "source": [
        "print(In[28])"
      ],
      "execution_count": 34,
      "outputs": [
        {
          "output_type": "stream",
          "text": [
            "import math\n"
          ],
          "name": "stdout"
        }
      ]
    },
    {
      "cell_type": "markdown",
      "metadata": {
        "id": "MYDS6DVfLW12"
      },
      "source": [
        "untuk set input ke berapa kita bisa set In[x]. x disini sesuai angka eksekusinya. misalnya saya ingin menampilkan import math dimana import math saya di eksekusi ke 28 maka saya akan menuliskan In[28] dan untuk mencetaknya kita masukkan ke syntax print -> print(In[28])"
      ]
    },
    {
      "cell_type": "code",
      "metadata": {
        "colab": {
          "base_uri": "https://localhost:8080/"
        },
        "id": "wMcliZqp4GMl",
        "outputId": "3adfa48d-455d-4bfe-b4bd-0a85e6492964"
      },
      "source": [
        "print(Out[29])"
      ],
      "execution_count": 35,
      "outputs": [
        {
          "output_type": "stream",
          "text": [
            "0.9092974268256817\n"
          ],
          "name": "stdout"
        }
      ]
    },
    {
      "cell_type": "markdown",
      "metadata": {
        "id": "-CMlRDpt4Ste"
      },
      "source": [
        "Fungsi ini dapat digunakan jika kita ingin melihat outpu suatu eksekusi tadi."
      ]
    },
    {
      "cell_type": "code",
      "metadata": {
        "colab": {
          "base_uri": "https://localhost:8080/"
        },
        "id": "Iwf8-Get4qg1",
        "outputId": "d6bbc041-39e4-4607-e865-9f5c125170cd"
      },
      "source": [
        "Out[29] ** 2 + Out[30] ** 2"
      ],
      "execution_count": 37,
      "outputs": [
        {
          "output_type": "execute_result",
          "data": {
            "text/plain": [
              "1.0"
            ]
          },
          "metadata": {
            "tags": []
          },
          "execution_count": 37
        }
      ]
    },
    {
      "cell_type": "markdown",
      "metadata": {
        "id": "ynd2Qbca4568"
      },
      "source": [
        "## 2. Underscore Shortcuts and Previous Outputs"
      ]
    },
    {
      "cell_type": "code",
      "metadata": {
        "colab": {
          "base_uri": "https://localhost:8080/"
        },
        "id": "T6xB0NAy56bG",
        "outputId": "bae7d0b3-74ff-4f88-9f7e-64261503f6a5"
      },
      "source": [
        "print(_)"
      ],
      "execution_count": 44,
      "outputs": [
        {
          "output_type": "stream",
          "text": [
            "0.9092974268256817\n"
          ],
          "name": "stdout"
        }
      ]
    },
    {
      "cell_type": "markdown",
      "metadata": {
        "id": "Sf_aqndM59R9"
      },
      "source": [
        "Shell Python standar hanya memiliki satu pintasan untuk mengakses output sebelumnya yaitu dengan _"
      ]
    },
    {
      "cell_type": "code",
      "metadata": {
        "colab": {
          "base_uri": "https://localhost:8080/"
        },
        "id": "LpO3CKIH6PdZ",
        "outputId": "8a71c392-4844-4cf3-da2a-bc214d33c9cd"
      },
      "source": [
        "print(__)"
      ],
      "execution_count": 45,
      "outputs": [
        {
          "output_type": "stream",
          "text": [
            "1.0\n"
          ],
          "name": "stdout"
        }
      ]
    },
    {
      "cell_type": "markdown",
      "metadata": {
        "id": "zK2v2gDETVu5"
      },
      "source": [
        "untuk mengambil output dari 2 data sebelumnya menggunakan 2 underscore (__)"
      ]
    },
    {
      "cell_type": "code",
      "metadata": {
        "colab": {
          "base_uri": "https://localhost:8080/"
        },
        "id": "GdVe06c46TJH",
        "outputId": "1097c06e-57b1-4a13-d3a4-be938a2d1005"
      },
      "source": [
        "print(___)"
      ],
      "execution_count": 46,
      "outputs": [
        {
          "output_type": "stream",
          "text": [
            "-0.4161468365471424\n"
          ],
          "name": "stdout"
        }
      ]
    },
    {
      "cell_type": "markdown",
      "metadata": {
        "id": "neL_fWFDTgH6"
      },
      "source": [
        "untuk mengambil output dari 3 data sebelum_nya menggunakan 3 underscore (___)"
      ]
    },
    {
      "cell_type": "code",
      "metadata": {
        "colab": {
          "base_uri": "https://localhost:8080/"
        },
        "id": "Rk2OmAyv6x4k",
        "outputId": "e1d06a37-c558-4dbf-9354-87a7d2e16aef"
      },
      "source": [
        "Out[29]"
      ],
      "execution_count": 47,
      "outputs": [
        {
          "output_type": "execute_result",
          "data": {
            "text/plain": [
              "0.9092974268256817"
            ]
          },
          "metadata": {
            "tags": []
          },
          "execution_count": 47
        }
      ]
    },
    {
      "cell_type": "markdown",
      "metadata": {
        "id": "uKK5GjMiTou8"
      },
      "source": [
        "Untuk custom output kita bisa menggunakan angka eksekusi untuk menampilkan outpu pada eksekusi ke berapa yang kita inginkan. digunakan dengan Out[X] atau _X dimana X adalah nomor baris yang ingin kita akses"
      ]
    },
    {
      "cell_type": "code",
      "metadata": {
        "colab": {
          "base_uri": "https://localhost:8080/"
        },
        "id": "SwNZlGAy7Oct",
        "outputId": "14627675-eb8c-4ebd-b61e-8f2628cd1290"
      },
      "source": [
        "_29"
      ],
      "execution_count": 49,
      "outputs": [
        {
          "output_type": "execute_result",
          "data": {
            "text/plain": [
              "0.9092974268256817"
            ]
          },
          "metadata": {
            "tags": []
          },
          "execution_count": 49
        }
      ]
    },
    {
      "cell_type": "markdown",
      "metadata": {
        "id": "QEOKmS2h7Qrb"
      },
      "source": [
        "## 3. Suppressing Output"
      ]
    },
    {
      "cell_type": "code",
      "metadata": {
        "id": "EUYvpV3e70uA"
      },
      "source": [
        "math.sin(2) + math.cos(2);"
      ],
      "execution_count": 50,
      "outputs": []
    },
    {
      "cell_type": "markdown",
      "metadata": {
        "id": "KCZAtpmHUmId"
      },
      "source": [
        "Dari syntax diatas diketahui bahwa hasilnya dihitung secara diam-diam dan hasilnya tidak ditampilkan dilayar atau disimpan dalam Out dictionary. Tetapi datanya sudah disimpan\n"
      ]
    },
    {
      "cell_type": "code",
      "metadata": {
        "colab": {
          "base_uri": "https://localhost:8080/"
        },
        "id": "fUjrMjS58Vac",
        "outputId": "7fcc3e1c-cf4b-4202-e01c-558b026f2c98"
      },
      "source": [
        "50 in Out"
      ],
      "execution_count": 51,
      "outputs": [
        {
          "output_type": "execute_result",
          "data": {
            "text/plain": [
              "False"
            ]
          },
          "metadata": {
            "tags": []
          },
          "execution_count": 51
        }
      ]
    },
    {
      "cell_type": "markdown",
      "metadata": {
        "id": "dpvf55xBULt3"
      },
      "source": [
        "maka dihasilkan hasilnya  \"False\" berarti ouput dari eksekusi ke 50 belum ada sebelumnnya"
      ]
    },
    {
      "cell_type": "markdown",
      "metadata": {
        "id": "nXIxG7pI8Z9V"
      },
      "source": [
        "## 4. Related Magic Commands"
      ]
    },
    {
      "cell_type": "code",
      "metadata": {
        "colab": {
          "base_uri": "https://localhost:8080/"
        },
        "id": "E0nJ2KBX9G9C",
        "outputId": "59545f2a-6870-4059-e79f-c1d2846cdda8"
      },
      "source": [
        "%history -n 28-50"
      ],
      "execution_count": 53,
      "outputs": [
        {
          "output_type": "stream",
          "text": [
            "  28: import math\n",
            "  29: math.sin(2)\n",
            "  30: math.cos(2)\n",
            "  31: print(In)\n",
            "  32: Out\n",
            "  33: print(In[22])\n",
            "  34: print(In[28])\n",
            "  35: print(Out[29])\n",
            "  36: Out[29] ** 2 + Out[2430] ** 2\n",
            "  37: Out[29] ** 2 + Out[30] ** 2\n",
            "  38: print(_)\n",
            "  39: Out[23]\n",
            "  40: Out[29]\n",
            "  41: print(___)\n",
            "  42: print(__)\n",
            "  43: _23\n",
            "  44: print(_)\n",
            "  45: print(__)\n",
            "  46: print(___)\n",
            "  47: Out[29]\n",
            "  48: _23\n",
            "  49: _29\n",
            "  50: math.sin(2) + math.cos(2);\n"
          ],
          "name": "stdout"
        }
      ]
    },
    {
      "cell_type": "markdown",
      "metadata": {
        "id": "1ZL7-hC7UtIa"
      },
      "source": [
        "Untuk mengakses sekumpulan input sebelumnya sekaligus, magic functions %history menampilkan hystori kita"
      ]
    },
    {
      "cell_type": "code",
      "metadata": {
        "id": "CdnZQNbnJwSn"
      },
      "source": [
        ""
      ],
      "execution_count": null,
      "outputs": []
    },
    {
      "cell_type": "code",
      "metadata": {
        "id": "zRsVZHJoVGdS"
      },
      "source": [
        ""
      ],
      "execution_count": null,
      "outputs": []
    },
    {
      "cell_type": "markdown",
      "metadata": {
        "id": "TEmQCKLl9j4b"
      },
      "source": [
        "# IPython and Shell Commands"
      ]
    },
    {
      "cell_type": "markdown",
      "metadata": {
        "id": "N353pigb9mFK"
      },
      "source": [
        "## 1. Shell Commands in IPython"
      ]
    },
    {
      "cell_type": "markdown",
      "metadata": {
        "id": "E7mjJCZk-Wpn"
      },
      "source": [
        "Kita dapat menggunakan berbagai command line di IPython dengan menggunakan karakter ! diawalnya"
      ]
    },
    {
      "cell_type": "code",
      "metadata": {
        "colab": {
          "base_uri": "https://localhost:8080/"
        },
        "id": "GBioEZ7q-2iz",
        "outputId": "f5115dc7-c867-4433-8439-da425a047b21"
      },
      "source": [
        "!ls"
      ],
      "execution_count": null,
      "outputs": [
        {
          "output_type": "stream",
          "text": [
            "myscript.py  sample_data\n"
          ],
          "name": "stdout"
        }
      ]
    },
    {
      "cell_type": "code",
      "metadata": {
        "colab": {
          "base_uri": "https://localhost:8080/"
        },
        "id": "s2pT2m5U-5tr",
        "outputId": "4249793a-9baf-4950-e9d6-c57115858c01"
      },
      "source": [
        "!pwd"
      ],
      "execution_count": null,
      "outputs": [
        {
          "output_type": "stream",
          "text": [
            "/content\n"
          ],
          "name": "stdout"
        }
      ]
    },
    {
      "cell_type": "code",
      "metadata": {
        "colab": {
          "base_uri": "https://localhost:8080/"
        },
        "id": "SyNvH_nJ-8BZ",
        "outputId": "ac86cab4-73fa-4a3f-9eb7-b7ffe25fd941"
      },
      "source": [
        "!echo \"printing from the shell\""
      ],
      "execution_count": null,
      "outputs": [
        {
          "output_type": "stream",
          "text": [
            "printing from the shell\n"
          ],
          "name": "stdout"
        }
      ]
    },
    {
      "cell_type": "markdown",
      "metadata": {
        "id": "lGafikJf_Ati"
      },
      "source": [
        "## 2. Passing Values to and from the Shell"
      ]
    },
    {
      "cell_type": "markdown",
      "metadata": {
        "id": "y1pguyZs_Mpb"
      },
      "source": [
        "Perintah shell tidak hanya dapat dipanggil dari IPython, tetapi juga dapat dibuat untuk berinteraksi\n",
        "dengan namespace IPython. Misalnya, kita dapat menyimpan keluaran dari command shell apa pun ke daftar Python menggunakan operator penugasan"
      ]
    },
    {
      "cell_type": "code",
      "metadata": {
        "id": "twCz9UDf_ZEB"
      },
      "source": [
        "contents = !ls"
      ],
      "execution_count": null,
      "outputs": []
    },
    {
      "cell_type": "code",
      "metadata": {
        "colab": {
          "base_uri": "https://localhost:8080/"
        },
        "id": "hsxOvrWb_b1R",
        "outputId": "9e41e583-350b-4cc1-9264-f728038a47c6"
      },
      "source": [
        "print(contents)"
      ],
      "execution_count": null,
      "outputs": [
        {
          "output_type": "stream",
          "text": [
            "['myscript.py  sample_data']\n"
          ],
          "name": "stdout"
        }
      ]
    },
    {
      "cell_type": "code",
      "metadata": {
        "id": "omKGfy9t_ebi"
      },
      "source": [
        "directory = !pwd"
      ],
      "execution_count": null,
      "outputs": []
    },
    {
      "cell_type": "code",
      "metadata": {
        "colab": {
          "base_uri": "https://localhost:8080/"
        },
        "id": "aGTqJzCo_heA",
        "outputId": "ee94ab5e-a289-4dc1-d63c-594b13f54d5a"
      },
      "source": [
        "print(directory)"
      ],
      "execution_count": null,
      "outputs": [
        {
          "output_type": "stream",
          "text": [
            "['/content']\n"
          ],
          "name": "stdout"
        }
      ]
    },
    {
      "cell_type": "markdown",
      "metadata": {
        "id": "ViDJD04J_3-T"
      },
      "source": [
        "Perhatikan bahwa hasil tersebut tidak dikembalikan dalam bentuk list, tetapi sebagai tipe return shell yang khusus didefinisikan dalam IPython"
      ]
    },
    {
      "cell_type": "code",
      "metadata": {
        "colab": {
          "base_uri": "https://localhost:8080/"
        },
        "id": "RoAqHQeeAT5k",
        "outputId": "69ef124d-b9d9-412a-cf8b-102d9d9d3ff4"
      },
      "source": [
        "type(directory)"
      ],
      "execution_count": null,
      "outputs": [
        {
          "output_type": "execute_result",
          "data": {
            "text/plain": [
              "IPython.utils.text.SList"
            ]
          },
          "metadata": {
            "tags": []
          },
          "execution_count": 49
        }
      ]
    },
    {
      "cell_type": "markdown",
      "metadata": {
        "id": "EwhUgKUKAb2i"
      },
      "source": [
        "Komunikasi ke arah lain atau meneruskan variabel Python ke dalam shell dapat dilakukan dengan syntax {varname}"
      ]
    },
    {
      "cell_type": "code",
      "metadata": {
        "id": "ID61oLr7AzyM"
      },
      "source": [
        "message = \"hello from Python\""
      ],
      "execution_count": null,
      "outputs": []
    },
    {
      "cell_type": "code",
      "metadata": {
        "colab": {
          "base_uri": "https://localhost:8080/"
        },
        "id": "iQOVyvO9A3n_",
        "outputId": "903fecd7-2767-4c6d-80c2-edb07753af99"
      },
      "source": [
        "!echo {message}"
      ],
      "execution_count": null,
      "outputs": [
        {
          "output_type": "stream",
          "text": [
            "hello from Python\n"
          ],
          "name": "stdout"
        }
      ]
    },
    {
      "cell_type": "code",
      "metadata": {
        "id": "QpsEsjBBVRwn"
      },
      "source": [
        ""
      ],
      "execution_count": null,
      "outputs": []
    },
    {
      "cell_type": "markdown",
      "metadata": {
        "id": "kge5h7wbBPPy"
      },
      "source": [
        "# Shell-Related Magic Commands"
      ]
    },
    {
      "cell_type": "markdown",
      "metadata": {
        "id": "PdNUIYVaDQmE"
      },
      "source": [
        "Jika kita menggunakan IPython shell command dalam beberapa waktu, kita dapat menyadari bahwa tidak bisa menggunakan !cd untuk navigasi file sistem"
      ]
    },
    {
      "cell_type": "code",
      "metadata": {
        "colab": {
          "base_uri": "https://localhost:8080/"
        },
        "id": "2YiK0y_xDW4e",
        "outputId": "a0df4f40-7737-470c-c0ea-33eaa933f280"
      },
      "source": [
        "!pwd"
      ],
      "execution_count": null,
      "outputs": [
        {
          "output_type": "stream",
          "text": [
            "/content\n"
          ],
          "name": "stdout"
        }
      ]
    },
    {
      "cell_type": "code",
      "metadata": {
        "id": "m3X7wIv-DY1v"
      },
      "source": [
        "!cd .."
      ],
      "execution_count": null,
      "outputs": []
    },
    {
      "cell_type": "code",
      "metadata": {
        "colab": {
          "base_uri": "https://localhost:8080/"
        },
        "id": "FKg5aAxcDbMV",
        "outputId": "a8e3f064-0b65-4dec-e32b-fbb2773038a9"
      },
      "source": [
        "!pwd"
      ],
      "execution_count": null,
      "outputs": [
        {
          "output_type": "stream",
          "text": [
            "/content\n"
          ],
          "name": "stdout"
        }
      ]
    },
    {
      "cell_type": "markdown",
      "metadata": {
        "id": "2yYaLufRDda5"
      },
      "source": [
        "Alasannya adalah karena shell command di notebook mengeksekusi dalam sub-shell sementara. Jika kita ingin mengubah direktori kita dapat menggunakan %magic command"
      ]
    },
    {
      "cell_type": "code",
      "metadata": {
        "colab": {
          "base_uri": "https://localhost:8080/"
        },
        "id": "s9ZeATrwDycK",
        "outputId": "efeb7040-b012-4eba-a50b-85974668a17b"
      },
      "source": [
        "%cd"
      ],
      "execution_count": null,
      "outputs": [
        {
          "output_type": "stream",
          "text": [
            "/root\n"
          ],
          "name": "stdout"
        }
      ]
    },
    {
      "cell_type": "markdown",
      "metadata": {
        "id": "bo-L-n8xD1Jm"
      },
      "source": [
        "Faktanya, kita bahkan bisa menggunakannya tanpa %"
      ]
    },
    {
      "cell_type": "code",
      "metadata": {
        "colab": {
          "base_uri": "https://localhost:8080/"
        },
        "id": "-tHPv8BuD8oN",
        "outputId": "129c8928-4365-4485-febd-ad3cc8e544ef"
      },
      "source": [
        "cd /content"
      ],
      "execution_count": null,
      "outputs": [
        {
          "output_type": "stream",
          "text": [
            "/content\n"
          ],
          "name": "stdout"
        }
      ]
    },
    {
      "cell_type": "markdown",
      "metadata": {
        "id": "5K3zTXqHBbr-"
      },
      "source": [
        "Ini dikenal dengan nama automagic functions. Dimana kita dapat menuliskan command tanpa menggunakan ! dan % seperti untuk fungsi cd,cat,cp,env,ls,man,mkdir,more,mv,pwd,rm, dan rmdir yang mana dapat kita gunakan langsung seolah-olah itu adalah shell biasa"
      ]
    },
    {
      "cell_type": "code",
      "metadata": {
        "id": "Iy34vq8VEc_J"
      },
      "source": [
        "mkdir tmp"
      ],
      "execution_count": null,
      "outputs": []
    },
    {
      "cell_type": "code",
      "metadata": {
        "colab": {
          "base_uri": "https://localhost:8080/"
        },
        "id": "zaweaaTgEnl8",
        "outputId": "9741f874-f8d6-4e19-ecdf-8491d6c9e041"
      },
      "source": [
        "ls"
      ],
      "execution_count": null,
      "outputs": [
        {
          "output_type": "stream",
          "text": [
            "myscript.py  \u001b[0m\u001b[01;34msample_data\u001b[0m/  \u001b[01;34mtmp\u001b[0m/\n"
          ],
          "name": "stdout"
        }
      ]
    },
    {
      "cell_type": "code",
      "metadata": {
        "id": "TqWsxlDREo9f"
      },
      "source": [
        "cp myscript.py tmp/"
      ],
      "execution_count": null,
      "outputs": []
    },
    {
      "cell_type": "code",
      "metadata": {
        "colab": {
          "base_uri": "https://localhost:8080/"
        },
        "id": "Zkl1ME82E4Tp",
        "outputId": "6cccd479-2d14-4fc2-c41d-f4333d17fb33"
      },
      "source": [
        "ls tmp/"
      ],
      "execution_count": null,
      "outputs": [
        {
          "output_type": "stream",
          "text": [
            "myscript.py\n"
          ],
          "name": "stdout"
        }
      ]
    },
    {
      "cell_type": "code",
      "metadata": {
        "id": "rSjizVpxE9uY"
      },
      "source": [
        "rm -r tmp/"
      ],
      "execution_count": null,
      "outputs": []
    }
  ]
}