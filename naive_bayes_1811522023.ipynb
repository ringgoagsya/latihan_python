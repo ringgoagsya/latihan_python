{
  "nbformat": 4,
  "nbformat_minor": 0,
  "metadata": {
    "colab": {
      "name": "naive-bayes-1811522023.ipynb",
      "provenance": [],
      "authorship_tag": "ABX9TyMCFVTk5BqvAwMGsQqedOC0",
      "include_colab_link": true
    },
    "kernelspec": {
      "name": "python3",
      "display_name": "Python 3"
    },
    "language_info": {
      "name": "python"
    }
  },
  "cells": [
    {
      "cell_type": "markdown",
      "metadata": {
        "id": "view-in-github",
        "colab_type": "text"
      },
      "source": [
        "<a href=\"https://colab.research.google.com/github/ringgoagsya/latihan_python/blob/main/naive_bayes_1811522023.ipynb\" target=\"_parent\"><img src=\"https://colab.research.google.com/assets/colab-badge.svg\" alt=\"Open In Colab\"/></a>"
      ]
    },
    {
      "cell_type": "markdown",
      "metadata": {
        "id": "1TdxKrYOdelS"
      },
      "source": [
        "#**Naive Bayes Classification**"
      ]
    },
    {
      "cell_type": "code",
      "metadata": {
        "id": "ygsnhEkFUM1v"
      },
      "source": [
        "# import library standar untuk melakukan classification\n",
        "import pandas as pd\n",
        "import string\n",
        "import numpy as np\n",
        "import nltk"
      ],
      "execution_count": null,
      "outputs": []
    },
    {
      "cell_type": "code",
      "metadata": {
        "id": "i6Bwxa2gVPNj"
      },
      "source": [
        "# import untuk mesin Learning naive bayes\n",
        "from sklearn.naive_bayes import MultinomialNB\n",
        "from sklearn import model_selection\n",
        "from sklearn. feature_extraction.text import CountVectorizer\n",
        "from sklearn. feature_extraction. text import TfidfTransformer\n",
        "from sklearn. model_selection import train_test_split\n",
        "from sklearn.utils.multiclass import unique_labels\n",
        "from sklearn. preprocessing import LabelBinarizer, OrdinalEncoder, OneHotEncoder"
      ],
      "execution_count": null,
      "outputs": []
    },
    {
      "cell_type": "code",
      "metadata": {
        "id": "A8bTyVzpWdzd"
      },
      "source": [
        "# visualisasi hasil\n",
        "from sklearn.metrics import classification_report, accuracy_score, confusion_matrix\n",
        "import seaborn as sns\n",
        "import matplotlib.pyplot as plt\n"
      ],
      "execution_count": null,
      "outputs": []
    },
    {
      "cell_type": "code",
      "metadata": {
        "id": "j1-nkM6CW8Xc",
        "colab": {
          "base_uri": "https://localhost:8080/"
        },
        "outputId": "d43ba5ac-5a10-4d06-fc3d-ea91c688913e"
      },
      "source": [
        "from google.colab import drive\n",
        "drive.mount(\"/content/gdrive\")"
      ],
      "execution_count": 4,
      "outputs": [
        {
          "output_type": "stream",
          "text": [
            "Go to this URL in a browser: https://accounts.google.com/o/oauth2/auth?client_id=947318989803-6bn6qk8qdgf4n4g3pfee6491hc0brc4i.apps.googleusercontent.com&redirect_uri=urn%3aietf%3awg%3aoauth%3a2.0%3aoob&scope=email%20https%3a%2f%2fwww.googleapis.com%2fauth%2fdocs.test%20https%3a%2f%2fwww.googleapis.com%2fauth%2fdrive%20https%3a%2f%2fwww.googleapis.com%2fauth%2fdrive.photos.readonly%20https%3a%2f%2fwww.googleapis.com%2fauth%2fpeopleapi.readonly%20https%3a%2f%2fwww.googleapis.com%2fauth%2fdrive.activity.readonly%20https%3a%2f%2fwww.googleapis.com%2fauth%2fexperimentsandconfigs%20https%3a%2f%2fwww.googleapis.com%2fauth%2fphotos.native&response_type=code\n",
            "\n",
            "Enter your authorization code:\n",
            "4/1AY0e-g6BXFBy7THiSyAqWGGYwikBA5boLTfFeJQ806QU5sYd8gIrIcMC9ns\n",
            "Mounted at /content/gdrive\n"
          ],
          "name": "stdout"
        }
      ]
    },
    {
      "cell_type": "code",
      "metadata": {
        "id": "dd94udauWzTk",
        "colab": {
          "base_uri": "https://localhost:8080/"
        },
        "outputId": "35495f39-6fd6-4676-e2dd-16ad010f2b7a"
      },
      "source": [
        "# untuk memanggil dataset yang digunakan yaitu pada file bank.csv\n",
        "filecsv = '/content/gdrive/My Drive/bank.csv'\n",
        "teks = pd.read_csv(filecsv, header=0, delimiter=';', encoding= 'utf-8')\n",
        "df = pd.DataFrame(teks)\n",
        "print(df)"
      ],
      "execution_count": 5,
      "outputs": [
        {
          "output_type": "stream",
          "text": [
            "      age            job  marital  education  ... pdays  previous poutcome   y\n",
            "0      30     unemployed  married    primary  ...    -1         0  unknown  no\n",
            "1      33       services  married  secondary  ...   339         4  failure  no\n",
            "2      35     management   single   tertiary  ...   330         1  failure  no\n",
            "3      30     management  married   tertiary  ...    -1         0  unknown  no\n",
            "4      59    blue-collar  married  secondary  ...    -1         0  unknown  no\n",
            "...   ...            ...      ...        ...  ...   ...       ...      ...  ..\n",
            "4516   33       services  married  secondary  ...    -1         0  unknown  no\n",
            "4517   57  self-employed  married   tertiary  ...    -1         0  unknown  no\n",
            "4518   57     technician  married  secondary  ...    -1         0  unknown  no\n",
            "4519   28    blue-collar  married  secondary  ...   211         3    other  no\n",
            "4520   44   entrepreneur   single   tertiary  ...   249         7    other  no\n",
            "\n",
            "[4521 rows x 17 columns]\n"
          ],
          "name": "stdout"
        }
      ]
    },
    {
      "cell_type": "code",
      "metadata": {
        "id": "iI1Jx735XyAH",
        "colab": {
          "base_uri": "https://localhost:8080/"
        },
        "outputId": "fa8ee2e5-dd37-46b1-ee6f-d4e8e834907d"
      },
      "source": [
        "# input parameter untuk prediksi class\n",
        "xtarget = df.drop(['y'], axis = 1)\n",
        "print(xtarget)"
      ],
      "execution_count": 6,
      "outputs": [
        {
          "output_type": "stream",
          "text": [
            "      age            job  marital  ... pdays previous  poutcome\n",
            "0      30     unemployed  married  ...    -1        0   unknown\n",
            "1      33       services  married  ...   339        4   failure\n",
            "2      35     management   single  ...   330        1   failure\n",
            "3      30     management  married  ...    -1        0   unknown\n",
            "4      59    blue-collar  married  ...    -1        0   unknown\n",
            "...   ...            ...      ...  ...   ...      ...       ...\n",
            "4516   33       services  married  ...    -1        0   unknown\n",
            "4517   57  self-employed  married  ...    -1        0   unknown\n",
            "4518   57     technician  married  ...    -1        0   unknown\n",
            "4519   28    blue-collar  married  ...   211        3     other\n",
            "4520   44   entrepreneur   single  ...   249        7     other\n",
            "\n",
            "[4521 rows x 16 columns]\n"
          ],
          "name": "stdout"
        }
      ]
    },
    {
      "cell_type": "code",
      "metadata": {
        "id": "ofGN45bPYITk",
        "colab": {
          "base_uri": "https://localhost:8080/"
        },
        "outputId": "3880773a-9323-4e20-fc19-708bfd99ca48"
      },
      "source": [
        "# target classification dari accepted\n",
        "ytarget = df['y']\n",
        "print(ytarget)"
      ],
      "execution_count": 7,
      "outputs": [
        {
          "output_type": "stream",
          "text": [
            "0       no\n",
            "1       no\n",
            "2       no\n",
            "3       no\n",
            "4       no\n",
            "        ..\n",
            "4516    no\n",
            "4517    no\n",
            "4518    no\n",
            "4519    no\n",
            "4520    no\n",
            "Name: y, Length: 4521, dtype: object\n"
          ],
          "name": "stdout"
        }
      ]
    },
    {
      "cell_type": "code",
      "metadata": {
        "id": "RgHgLOQRYkmE",
        "colab": {
          "base_uri": "https://localhost:8080/"
        },
        "outputId": "2614b373-5a94-4fe2-ff3e-25f8f8f6c55c"
      },
      "source": [
        "# merubah nilai ytarget menjadi dua class yaitu 1 atau 0\n",
        "encoder = LabelBinarizer()\n",
        "y = encoder.fit_transform(ytarget)\n",
        "print(y)"
      ],
      "execution_count": 8,
      "outputs": [
        {
          "output_type": "stream",
          "text": [
            "[[0]\n",
            " [0]\n",
            " [0]\n",
            " ...\n",
            " [0]\n",
            " [0]\n",
            " [0]]\n"
          ],
          "name": "stdout"
        }
      ]
    },
    {
      "cell_type": "code",
      "metadata": {
        "id": "Mhi1kZ4-Y8qb",
        "colab": {
          "base_uri": "https://localhost:8080/"
        },
        "outputId": "713b3a4a-9a05-4d28-935f-7db8f1926767"
      },
      "source": [
        "#Merubah nilai atribut menjadi index nilai\n",
        "tfidf_transformer = OneHotEncoder()\n",
        "x = tfidf_transformer.fit_transform(xtarget)\n",
        "print(x)\n",
        "print(x.shape)"
      ],
      "execution_count": 9,
      "outputs": [
        {
          "output_type": "stream",
          "text": [
            "  (0, 11)\t1.0\n",
            "  (0, 77)\t1.0\n",
            "  (0, 80)\t1.0\n",
            "  (0, 82)\t1.0\n",
            "  (0, 86)\t1.0\n",
            "  (0, 1563)\t1.0\n",
            "  (0, 2441)\t1.0\n",
            "  (0, 2443)\t1.0\n",
            "  (0, 2445)\t1.0\n",
            "  (0, 2466)\t1.0\n",
            "  (0, 2489)\t1.0\n",
            "  (0, 2566)\t1.0\n",
            "  (0, 3366)\t1.0\n",
            "  (0, 3398)\t1.0\n",
            "  (0, 3690)\t1.0\n",
            "  (0, 3717)\t1.0\n",
            "  (1, 14)\t1.0\n",
            "  (1, 74)\t1.0\n",
            "  (1, 80)\t1.0\n",
            "  (1, 83)\t1.0\n",
            "  (1, 86)\t1.0\n",
            "  (1, 2118)\t1.0\n",
            "  (1, 2442)\t1.0\n",
            "  (1, 2444)\t1.0\n",
            "  (1, 2445)\t1.0\n",
            "  :\t:\n",
            "  (4519, 2443)\t1.0\n",
            "  (4519, 2445)\t1.0\n",
            "  (4519, 2453)\t1.0\n",
            "  (4519, 2482)\t1.0\n",
            "  (4519, 2616)\t1.0\n",
            "  (4519, 3369)\t1.0\n",
            "  (4519, 3538)\t1.0\n",
            "  (4519, 3693)\t1.0\n",
            "  (4519, 3715)\t1.0\n",
            "  (4520, 25)\t1.0\n",
            "  (4520, 69)\t1.0\n",
            "  (4520, 81)\t1.0\n",
            "  (4520, 84)\t1.0\n",
            "  (4520, 86)\t1.0\n",
            "  (4520, 1274)\t1.0\n",
            "  (4520, 2442)\t1.0\n",
            "  (4520, 2444)\t1.0\n",
            "  (4520, 2445)\t1.0\n",
            "  (4520, 2450)\t1.0\n",
            "  (4520, 2479)\t1.0\n",
            "  (4520, 2832)\t1.0\n",
            "  (4520, 3367)\t1.0\n",
            "  (4520, 3559)\t1.0\n",
            "  (4520, 3697)\t1.0\n",
            "  (4520, 3715)\t1.0\n",
            "(4521, 3718)\n"
          ],
          "name": "stdout"
        }
      ]
    },
    {
      "cell_type": "code",
      "metadata": {
        "id": "6XcLzfjTZW7Z",
        "colab": {
          "base_uri": "https://localhost:8080/"
        },
        "outputId": "295b44fe-2ad2-4b4d-ac3a-8044fda3827c"
      },
      "source": [
        "#Membuat data training dan data testing dari dataset data test = 30% dari jumlah instance\n",
        "x_train, x_test, y_train, y_test = train_test_split(x,y, test_size = 0.3, random_state = 1)\n",
        "print(x_train.shape)\n",
        "print(y_train.shape)\n",
        "print(x_test.shape)\n",
        "print(y_test.shape)"
      ],
      "execution_count": 10,
      "outputs": [
        {
          "output_type": "stream",
          "text": [
            "(3164, 3718)\n",
            "(3164, 1)\n",
            "(1357, 3718)\n",
            "(1357, 1)\n"
          ],
          "name": "stdout"
        }
      ]
    },
    {
      "cell_type": "code",
      "metadata": {
        "id": "aYBnfI22aJq6",
        "colab": {
          "base_uri": "https://localhost:8080/"
        },
        "outputId": "79e337fb-8f2f-4826-e9ea-d0629e2cb989"
      },
      "source": [
        "#Melakukan pembuatan model training dengan Naive Bayes\n",
        "NaiveBayes = MultinomialNB(). fit(x_train, np.ravel(y_train, order = 'C'))\n",
        "print(NaiveBayes)"
      ],
      "execution_count": 11,
      "outputs": [
        {
          "output_type": "stream",
          "text": [
            "MultinomialNB(alpha=1.0, class_prior=None, fit_prior=True)\n"
          ],
          "name": "stdout"
        }
      ]
    },
    {
      "cell_type": "code",
      "metadata": {
        "id": "5TeFYJ0Lalv1",
        "colab": {
          "base_uri": "https://localhost:8080/"
        },
        "outputId": "eb72a4c5-5f50-4094-9e2f-0dd6dba0d477"
      },
      "source": [
        "#Prediksi terhadap model training yang telah dibuat\n",
        "prediction = NaiveBayes.predict(x_test)\n",
        "accuracies = accuracy_score(y_test, prediction)\n",
        "\n",
        "print(prediction)\n",
        "print(accuracies)"
      ],
      "execution_count": 12,
      "outputs": [
        {
          "output_type": "stream",
          "text": [
            "[0 0 0 ... 0 0 0]\n",
            "0.8754605747973471\n"
          ],
          "name": "stdout"
        }
      ]
    },
    {
      "cell_type": "code",
      "metadata": {
        "id": "uVmtSp0FbHFs",
        "colab": {
          "base_uri": "https://localhost:8080/"
        },
        "outputId": "179ccaa4-a10f-45dc-e313-81aa1e3e835f"
      },
      "source": [
        "#Menampilkan matrik konfusi\n",
        "print (confusion_matrix(y_test, prediction))"
      ],
      "execution_count": 13,
      "outputs": [
        {
          "output_type": "stream",
          "text": [
            "[[1165   17]\n",
            " [ 152   23]]\n"
          ],
          "name": "stdout"
        }
      ]
    },
    {
      "cell_type": "code",
      "metadata": {
        "id": "ys3qmKt7bXnQ"
      },
      "source": [
        "#Procedure untuk memetakan matrik konfusi\n",
        "def plot_confusion_matrix(y_true, y_pred, classes, \n",
        "                          normalize=False, \n",
        "                          title=None, \n",
        "                          cmap=plt.cm.Blues):\n",
        "  if not title :\n",
        "    if normalize:\n",
        "      title = 'Normalize confusion matrix'\n",
        "    else:\n",
        "      title = 'confusion matrix, without normalization'\n",
        "  #Compute confusion matrix\n",
        "  cm = confusion_matrix(y_true, y_pred)\n",
        "  #only use labels that appear in the data\n",
        "  classes = classes[unique_labels(y_true, y_pred)]\n",
        "  if normalize:\n",
        "    cm = cm.astype('float') / cm.sum(axis=1)[:, np.newaxis]\n",
        "    print(\"Normalized Confusion Matrix\")\n",
        "  else:\n",
        "    print('Confusion Matrix, without normalization')\n",
        "\n",
        "  print(cm)\n",
        "\n",
        "  fig, ax = plt.subplots()\n",
        "  im = ax.imshow(cm, interpolation='nearest', cmap=cmap)\n",
        "\n",
        "  #we want to show all tickets\n",
        "  ax.set(xticks=np.arange(cm.shape[1]), \n",
        "        yticks=np.arange(cm.shape[0]),\n",
        "        #... and label them with the respective list entries\n",
        "        xticklabels=classes, yticklabels=classes,\n",
        "        title=title,\n",
        "        ylabel='True Label',\n",
        "        xlabel='Predicted Label')\n",
        "\n",
        "  #Rotate the tick Labels and set Their aligment.\n",
        "  plt.setp(ax.get_xticklabels(), rotation=45, ha=\"right\", \n",
        "           rotation_mode=\"anchor\")\n",
        "\n",
        "  #Loop over data dimensions and create text annocations\n",
        "  fmt = '.2f' if normalize else 'd'\n",
        "  thresh = cm.max() / 2.\n",
        "  for i in range(cm.shape[0]):\n",
        "   for j in range(cm.shape[1]):\n",
        "      ax.text(j,i, format(cm[i,j], fmt),\n",
        "              ha=\"center\", va=\"center\",\n",
        "              color=\"black\" if cm[i,j] > thresh else \"black\")\n",
        "    \n",
        "  fig.tight_layout()\n",
        "  return ax\n",
        "\n"
      ],
      "execution_count": 18,
      "outputs": []
    },
    {
      "cell_type": "code",
      "metadata": {
        "id": "2I2nzuLpe3n0",
        "colab": {
          "base_uri": "https://localhost:8080/",
          "height": 679
        },
        "outputId": "f2552356-8333-4c81-9244-cab5c3693bba"
      },
      "source": [
        "#visualisasi hasil\n",
        "class_names = ytarget\n",
        "np.set_printoptions(precision=2)\n",
        "\n",
        "#plot non-normalized confusion matrix\n",
        "plot_confusion_matrix(y_test, prediction, classes=class_names,\n",
        "                      title='Confusion matrix, without normalization')\n",
        "\n",
        "#Plot normalized confusion matrix\n",
        "plot_confusion_matrix(y_test, prediction, classes=class_names, normalize=True,\n",
        "                      title='Normalized Confusion matrix')\n",
        "\n",
        "plt.show()"
      ],
      "execution_count": 19,
      "outputs": [
        {
          "output_type": "stream",
          "text": [
            "Confusion Matrix, without normalization\n",
            "[[1165   17]\n",
            " [ 152   23]]\n",
            "Normalized Confusion Matrix\n",
            "[[0.99 0.01]\n",
            " [0.87 0.13]]\n"
          ],
          "name": "stdout"
        },
        {
          "output_type": "display_data",
          "data": {
            "image/png": "[encoded data removed]",
            "text/plain": [
              "<Figure size 432x288 with 1 Axes>"
            ]
          },
          "metadata": {
            "tags": [],
            "needs_background": "light"
          }
        },
        {
          "output_type": "display_data",
          "data": {
            "image/png": "[encoded data removed]",
            "text/plain": [
              "<Figure size 432x288 with 1 Axes>"
            ]
          },
          "metadata": {
            "tags": [],
            "needs_background": "light"
          }
        }
      ]
    }
  ]
}