{
  "nbformat": 4,
  "nbformat_minor": 0,
  "metadata": {
    "colab": {
      "name": "naive-bayes-1811522023.ipynb",
      "provenance": [],
      "authorship_tag": "ABX9TyNT7yYo/GTeYVxh8nMDd378",
      "include_colab_link": true
    },
    "kernelspec": {
      "name": "python3",
      "display_name": "Python 3"
    },
    "language_info": {
      "name": "python"
    }
  },
  "cells": [
    {
      "cell_type": "markdown",
      "metadata": {
        "id": "view-in-github",
        "colab_type": "text"
      },
      "source": [
        "<a href=\"https://colab.research.google.com/github/ringgoagsya/latihan_python/blob/main/naive_bayes_1811522023.ipynb\" target=\"_parent\"><img src=\"https://colab.research.google.com/assets/colab-badge.svg\" alt=\"Open In Colab\"/></a>"
      ]
    },
    {
      "cell_type": "markdown",
      "metadata": {
        "id": "1TdxKrYOdelS"
      },
      "source": [
        "#**Naive Bayes Classification**"
      ]
    },
    {
      "cell_type": "markdown",
      "metadata": {
        "id": "VVKamYsV3SJd"
      },
      "source": [
        "Menginisialisasi dengan menghubungkan file google colab dengan gdrive"
      ]
    },
    {
      "cell_type": "code",
      "metadata": {
        "id": "j1-nkM6CW8Xc",
        "colab": {
          "base_uri": "https://localhost:8080/"
        },
        "outputId": "fce472da-3f0a-4808-a33d-e67ee51993e8"
      },
      "source": [
        "from google.colab import drive\n",
        "drive.mount(\"/content/gdrive\")"
      ],
      "execution_count": 6,
      "outputs": [
        {
          "output_type": "stream",
          "text": [
            "Mounted at /content/gdrive\n"
          ],
          "name": "stdout"
        }
      ]
    },
    {
      "cell_type": "code",
      "metadata": {
        "id": "i6Bwxa2gVPNj"
      },
      "source": [
        "# import library yang dibtuhkan\n",
        "import pandas as pd\n",
        "import numpy as np\n",
        "from sklearn.metrics import classification_report, accuracy_score, confusion_matrix\n",
        "import seaborn as sns\n",
        "import matplotlib.pyplot as plt\n",
        "from sklearn.naive_bayes import MultinomialNB\n",
        "from sklearn import model_selection\n",
        "from sklearn. feature_extraction.text import CountVectorizer\n",
        "from sklearn. feature_extraction. text import TfidfTransformer\n",
        "from sklearn. model_selection import train_test_split\n",
        "from sklearn.utils.multiclass import unique_labels\n",
        "from sklearn. preprocessing import LabelBinarizer, OrdinalEncoder, OneHotEncoder"
      ],
      "execution_count": 3,
      "outputs": []
    },
    {
      "cell_type": "markdown",
      "metadata": {
        "id": "RPL-YUJo3jFT"
      },
      "source": [
        "seperti diatas untuk library yang akan digunakan pada naive-bayes"
      ]
    },
    {
      "cell_type": "code",
      "metadata": {
        "id": "dd94udauWzTk",
        "colab": {
          "base_uri": "https://localhost:8080/"
        },
        "outputId": "77541afc-a672-4052-d57e-2237f9510c01"
      },
      "source": [
        "# membaca file bank.csv\n",
        "filecsv = '/content/gdrive/My Drive/bank.csv'\n",
        "data = pd.read_csv(filecsv, header=0, delimiter=';')\n",
        "df = pd.DataFrame(data)\n",
        "print(df)"
      ],
      "execution_count": 7,
      "outputs": [
        {
          "output_type": "stream",
          "text": [
            "      age            job  marital  education  ... pdays  previous poutcome   y\n",
            "0      30     unemployed  married    primary  ...    -1         0  unknown  no\n",
            "1      33       services  married  secondary  ...   339         4  failure  no\n",
            "2      35     management   single   tertiary  ...   330         1  failure  no\n",
            "3      30     management  married   tertiary  ...    -1         0  unknown  no\n",
            "4      59    blue-collar  married  secondary  ...    -1         0  unknown  no\n",
            "...   ...            ...      ...        ...  ...   ...       ...      ...  ..\n",
            "4516   33       services  married  secondary  ...    -1         0  unknown  no\n",
            "4517   57  self-employed  married   tertiary  ...    -1         0  unknown  no\n",
            "4518   57     technician  married  secondary  ...    -1         0  unknown  no\n",
            "4519   28    blue-collar  married  secondary  ...   211         3    other  no\n",
            "4520   44   entrepreneur   single   tertiary  ...   249         7    other  no\n",
            "\n",
            "[4521 rows x 17 columns]\n"
          ],
          "name": "stdout"
        }
      ]
    },
    {
      "cell_type": "code",
      "metadata": {
        "id": "iI1Jx735XyAH",
        "colab": {
          "base_uri": "https://localhost:8080/"
        },
        "outputId": "4088f92f-abd4-4790-fd85-07609a10e0bc"
      },
      "source": [
        "# memilih nilai x dengan mendrop kolom y\n",
        "xtarget = df.drop(['y'], axis = 1)\n",
        "print(xtarget)"
      ],
      "execution_count": 8,
      "outputs": [
        {
          "output_type": "stream",
          "text": [
            "      age            job  marital  ... pdays previous  poutcome\n",
            "0      30     unemployed  married  ...    -1        0   unknown\n",
            "1      33       services  married  ...   339        4   failure\n",
            "2      35     management   single  ...   330        1   failure\n",
            "3      30     management  married  ...    -1        0   unknown\n",
            "4      59    blue-collar  married  ...    -1        0   unknown\n",
            "...   ...            ...      ...  ...   ...      ...       ...\n",
            "4516   33       services  married  ...    -1        0   unknown\n",
            "4517   57  self-employed  married  ...    -1        0   unknown\n",
            "4518   57     technician  married  ...    -1        0   unknown\n",
            "4519   28    blue-collar  married  ...   211        3     other\n",
            "4520   44   entrepreneur   single  ...   249        7     other\n",
            "\n",
            "[4521 rows x 16 columns]\n"
          ],
          "name": "stdout"
        }
      ]
    },
    {
      "cell_type": "code",
      "metadata": {
        "id": "ofGN45bPYITk",
        "colab": {
          "base_uri": "https://localhost:8080/"
        },
        "outputId": "62dd185b-6c7e-4b28-fc28-53eeb1dcbf59"
      },
      "source": [
        "# memilih target dengan kolom y\n",
        "ytarget = df['y']\n",
        "print(ytarget)"
      ],
      "execution_count": 9,
      "outputs": [
        {
          "output_type": "stream",
          "text": [
            "0       no\n",
            "1       no\n",
            "2       no\n",
            "3       no\n",
            "4       no\n",
            "        ..\n",
            "4516    no\n",
            "4517    no\n",
            "4518    no\n",
            "4519    no\n",
            "4520    no\n",
            "Name: y, Length: 4521, dtype: object\n"
          ],
          "name": "stdout"
        }
      ]
    },
    {
      "cell_type": "code",
      "metadata": {
        "id": "RgHgLOQRYkmE",
        "colab": {
          "base_uri": "https://localhost:8080/"
        },
        "outputId": "42b2e291-80a4-4ed4-c9a5-b096ef9109c9"
      },
      "source": [
        "# mengubah data binomial menjadi 1 dan 0\n",
        "encoder = LabelBinarizer()\n",
        "y = encoder.fit_transform(ytarget)\n",
        "print(y)"
      ],
      "execution_count": 10,
      "outputs": [
        {
          "output_type": "stream",
          "text": [
            "[[0]\n",
            " [0]\n",
            " [0]\n",
            " ...\n",
            " [0]\n",
            " [0]\n",
            " [0]]\n"
          ],
          "name": "stdout"
        }
      ]
    },
    {
      "cell_type": "code",
      "metadata": {
        "id": "Mhi1kZ4-Y8qb",
        "colab": {
          "base_uri": "https://localhost:8080/"
        },
        "outputId": "c31f601f-003b-4d9a-d9af-237385ba824c"
      },
      "source": [
        "#Mengubah data untuk di transform\n",
        "tfidf_transformer = OneHotEncoder()\n",
        "x = tfidf_transformer.fit_transform(xtarget)\n",
        "print(x)\n",
        "print(x.shape)"
      ],
      "execution_count": 11,
      "outputs": [
        {
          "output_type": "stream",
          "text": [
            "  (0, 11)\t1.0\n",
            "  (0, 77)\t1.0\n",
            "  (0, 80)\t1.0\n",
            "  (0, 82)\t1.0\n",
            "  (0, 86)\t1.0\n",
            "  (0, 1563)\t1.0\n",
            "  (0, 2441)\t1.0\n",
            "  (0, 2443)\t1.0\n",
            "  (0, 2445)\t1.0\n",
            "  (0, 2466)\t1.0\n",
            "  (0, 2489)\t1.0\n",
            "  (0, 2566)\t1.0\n",
            "  (0, 3366)\t1.0\n",
            "  (0, 3398)\t1.0\n",
            "  (0, 3690)\t1.0\n",
            "  (0, 3717)\t1.0\n",
            "  (1, 14)\t1.0\n",
            "  (1, 74)\t1.0\n",
            "  (1, 80)\t1.0\n",
            "  (1, 83)\t1.0\n",
            "  (1, 86)\t1.0\n",
            "  (1, 2118)\t1.0\n",
            "  (1, 2442)\t1.0\n",
            "  (1, 2444)\t1.0\n",
            "  (1, 2445)\t1.0\n",
            "  :\t:\n",
            "  (4519, 2443)\t1.0\n",
            "  (4519, 2445)\t1.0\n",
            "  (4519, 2453)\t1.0\n",
            "  (4519, 2482)\t1.0\n",
            "  (4519, 2616)\t1.0\n",
            "  (4519, 3369)\t1.0\n",
            "  (4519, 3538)\t1.0\n",
            "  (4519, 3693)\t1.0\n",
            "  (4519, 3715)\t1.0\n",
            "  (4520, 25)\t1.0\n",
            "  (4520, 69)\t1.0\n",
            "  (4520, 81)\t1.0\n",
            "  (4520, 84)\t1.0\n",
            "  (4520, 86)\t1.0\n",
            "  (4520, 1274)\t1.0\n",
            "  (4520, 2442)\t1.0\n",
            "  (4520, 2444)\t1.0\n",
            "  (4520, 2445)\t1.0\n",
            "  (4520, 2450)\t1.0\n",
            "  (4520, 2479)\t1.0\n",
            "  (4520, 2832)\t1.0\n",
            "  (4520, 3367)\t1.0\n",
            "  (4520, 3559)\t1.0\n",
            "  (4520, 3697)\t1.0\n",
            "  (4520, 3715)\t1.0\n",
            "(4521, 3718)\n"
          ],
          "name": "stdout"
        }
      ]
    },
    {
      "cell_type": "code",
      "metadata": {
        "id": "6XcLzfjTZW7Z",
        "colab": {
          "base_uri": "https://localhost:8080/"
        },
        "outputId": "ff4b9ca2-0dd0-4724-b956-230a58f5e912"
      },
      "source": [
        "#membagi data train dan split\n",
        "x_train, x_test, y_train, y_test = train_test_split(x,y, test_size = 0.2, random_state = 1)\n",
        "print(x_train.shape)\n",
        "print(y_train.shape)\n",
        "print(x_test.shape)\n",
        "print(y_test.shape)"
      ],
      "execution_count": 12,
      "outputs": [
        {
          "output_type": "stream",
          "text": [
            "(3616, 3718)\n",
            "(3616, 1)\n",
            "(905, 3718)\n",
            "(905, 1)\n"
          ],
          "name": "stdout"
        }
      ]
    },
    {
      "cell_type": "markdown",
      "metadata": {
        "id": "rFp3TNBP4hIA"
      },
      "source": [
        "ukuran data_test dengan 0.2 dan data_train 0.8"
      ]
    },
    {
      "cell_type": "code",
      "metadata": {
        "id": "aYBnfI22aJq6",
        "colab": {
          "base_uri": "https://localhost:8080/"
        },
        "outputId": "f911bb21-06db-4078-e092-1dee794788cb"
      },
      "source": [
        "#Memasukkan model naive bayes ke data train\n",
        "NaiveBayes = MultinomialNB(). fit(x_train, np.ravel(y_train, order = 'C'))\n",
        "print(NaiveBayes)"
      ],
      "execution_count": 13,
      "outputs": [
        {
          "output_type": "stream",
          "text": [
            "MultinomialNB(alpha=1.0, class_prior=None, fit_prior=True)\n"
          ],
          "name": "stdout"
        }
      ]
    },
    {
      "cell_type": "code",
      "metadata": {
        "id": "5TeFYJ0Lalv1",
        "colab": {
          "base_uri": "https://localhost:8080/"
        },
        "outputId": "84ad66a2-0ba5-4a6d-968a-61cac8aaaa0e"
      },
      "source": [
        "#melihat prediksi data train\n",
        "prediction = NaiveBayes.predict(x_test)\n",
        "accuracies = accuracy_score(y_test, prediction)\n",
        "\n",
        "print(prediction)\n",
        "print(accuracies)"
      ],
      "execution_count": 14,
      "outputs": [
        {
          "output_type": "stream",
          "text": [
            "[0 0 0 0 0 0 0 0 0 1 0 1 0 0 0 0 0 0 0 0 0 0 0 0 0 0 0 0 0 0 0 0 0 0 0 0 0\n",
            " 0 0 0 1 1 0 0 0 0 0 0 0 0 0 0 1 0 0 0 0 0 0 0 1 0 0 0 0 0 0 0 0 0 0 0 0 0\n",
            " 0 0 0 0 1 0 0 0 0 0 0 0 0 0 0 0 0 0 0 0 0 0 0 0 0 0 0 0 0 0 0 0 0 0 0 1 0\n",
            " 0 0 0 0 0 0 0 0 0 0 0 0 0 0 0 0 0 0 0 0 0 0 0 0 0 0 0 0 0 0 0 0 0 0 0 0 0\n",
            " 1 0 0 0 0 0 0 0 0 0 0 0 0 0 0 0 1 0 0 0 0 0 0 0 0 0 0 0 0 0 0 0 0 0 0 0 0\n",
            " 0 0 0 0 0 0 0 0 0 0 0 0 0 0 0 0 0 0 0 0 0 0 0 0 1 0 0 0 0 0 0 0 0 0 0 0 0\n",
            " 0 0 0 0 0 0 1 0 0 0 0 0 0 0 0 0 0 0 0 0 0 0 0 0 0 0 0 0 0 0 0 0 0 0 0 0 0\n",
            " 0 0 0 0 0 0 0 0 0 0 0 1 0 0 0 0 0 0 0 0 0 0 0 0 0 0 0 0 0 0 0 0 0 0 0 0 0\n",
            " 0 0 0 0 0 0 0 0 0 0 0 0 0 0 0 0 0 0 1 0 0 0 0 0 0 0 0 0 0 0 0 0 0 0 0 0 0\n",
            " 0 0 0 0 0 0 0 0 0 0 0 0 0 0 0 0 0 0 0 0 0 0 0 0 0 0 0 0 0 0 0 0 0 0 0 1 0\n",
            " 0 0 0 0 0 0 0 0 0 0 0 0 0 0 0 0 0 0 0 1 0 0 0 0 0 0 0 0 0 0 0 0 0 0 0 0 0\n",
            " 0 0 0 0 0 0 0 0 0 0 0 0 0 0 0 0 0 0 0 0 0 0 0 0 0 0 0 0 0 0 0 0 0 0 0 0 0\n",
            " 0 0 0 0 0 0 0 0 0 0 0 0 0 0 0 0 0 0 0 0 0 0 0 0 0 0 0 0 0 0 0 0 0 0 0 0 0\n",
            " 0 0 0 0 0 0 0 0 0 0 0 0 0 0 0 0 0 0 0 0 0 0 0 0 0 0 0 0 0 0 0 0 0 0 0 0 0\n",
            " 0 0 0 0 1 0 0 0 0 0 0 0 0 0 0 0 0 0 0 0 0 0 0 0 0 0 0 0 0 0 0 0 0 0 0 0 0\n",
            " 0 0 0 0 1 0 0 0 0 0 0 0 0 0 0 0 0 0 0 0 0 0 0 0 0 0 0 0 0 0 0 0 0 0 0 0 0\n",
            " 0 0 0 0 0 0 0 0 0 0 0 0 0 0 0 0 0 0 0 0 0 0 0 0 0 0 0 0 0 0 0 0 0 0 0 0 0\n",
            " 0 0 0 0 0 0 0 0 0 0 0 1 0 0 0 0 0 0 0 0 0 0 0 0 0 0 0 0 0 0 0 0 0 0 0 0 0\n",
            " 0 0 0 0 0 0 0 1 0 0 0 0 0 0 0 0 0 0 0 0 0 0 0 0 0 0 0 0 0 0 0 0 0 0 0 0 0\n",
            " 0 0 0 0 0 0 0 0 0 0 0 0 0 0 0 0 0 0 0 0 0 0 0 0 0 0 0 0 0 0 0 1 0 0 0 0 0\n",
            " 0 0 0 0 0 0 0 0 0 0 0 0 0 0 0 0 0 0 0 0 0 0 0 0 0 0 1 0 0 0 0 0 0 0 0 0 0\n",
            " 0 0 0 0 0 0 0 0 0 0 0 0 0 0 1 0 0 0 0 0 0 0 0 0 0 0 0 0 0 0 0 0 0 0 0 1 0\n",
            " 0 0 0 0 0 0 0 0 0 0 0 0 0 0 0 0 1 0 0 0 0 0 0 0 0 0 0 0 0 0 0 1 0 0 0 0 0\n",
            " 0 0 0 0 0 0 0 0 0 0 0 0 0 0 0 0 0 0 0 0 0 0 0 0 0 0 0 0 0 0 0 0 0 0 0 0 0\n",
            " 0 0 0 0 0 0 0 0 0 0 0 0 0 1 0 0 0]\n",
            "0.8784530386740331\n"
          ],
          "name": "stdout"
        }
      ]
    },
    {
      "cell_type": "code",
      "metadata": {
        "id": "uVmtSp0FbHFs",
        "colab": {
          "base_uri": "https://localhost:8080/"
        },
        "outputId": "96f1b575-2aa6-4d18-c14b-55b6e4ed1feb"
      },
      "source": [
        "#untuk melihat konfusi matrix\n",
        "print (confusion_matrix(y_test, prediction))"
      ],
      "execution_count": 15,
      "outputs": [
        {
          "output_type": "stream",
          "text": [
            "[[779  11]\n",
            " [ 99  16]]\n"
          ],
          "name": "stdout"
        }
      ]
    },
    {
      "cell_type": "code",
      "metadata": {
        "id": "ys3qmKt7bXnQ"
      },
      "source": [
        "#visualisasi konfusi matrix\n",
        "def plot_confusion_matrix(y_true, prediction, classes, \n",
        "                          normalize=False, \n",
        "                          title=None, \n",
        "                          cmap=plt.cm.Blues):\n",
        "  if not title :\n",
        "    if normalize:\n",
        "      title = 'Normalize confusion matrix'\n",
        "    else:\n",
        "      title = 'confusion matrix, without normalization'\n",
        "  #Compute confusion matrix\n",
        "  cm = confusion_matrix(y_true, y_pred)\n",
        "  #only use labels that appear in the data\n",
        "  classes = classes[unique_labels(y_true, y_pred)]\n",
        "  if normalize:\n",
        "    cm = cm.astype('float') / cm.sum(axis=1)[:, np.newaxis]\n",
        "    print(\"Normalized Confusion Matrix\")\n",
        "  else:\n",
        "    print('Confusion Matrix, without normalization')\n",
        "\n",
        "  print(cm)\n",
        "\n",
        "  fig, ax = plt.subplots()\n",
        "  im = ax.imshow(cm, interpolation='nearest', cmap=cmap)\n",
        "\n",
        "  #we want to show all tickets\n",
        "  ax.set(xticks=np.arange(cm.shape[1]), \n",
        "        yticks=np.arange(cm.shape[0]),\n",
        "        #... and label them with the respective list entries\n",
        "        xticklabels=classes, yticklabels=classes,\n",
        "        title=title,\n",
        "        ylabel='True Label',\n",
        "        xlabel='Predicted Label')\n",
        "\n",
        "  #Rotate the tick Labels and set Their aligment.\n",
        "  plt.setp(ax.get_xticklabels(), rotation=45, ha=\"right\", \n",
        "           rotation_mode=\"anchor\")\n",
        "\n",
        "  #Loop over data dimensions and create text annocations\n",
        "  fmt = '.2f' if normalize else 'd'\n",
        "  thresh = cm.max() / 2.\n",
        "  for i in range(cm.shape[0]):\n",
        "   for j in range(cm.shape[1]):\n",
        "      ax.text(j,i, format(cm[i,j], fmt),\n",
        "              ha=\"center\", va=\"center\",\n",
        "              color=\"black\" if cm[i,j] > thresh else \"black\")\n",
        "    \n",
        "  fig.tight_layout()\n",
        "  return ax\n",
        "\n"
      ],
      "execution_count": 20,
      "outputs": []
    },
    {
      "cell_type": "code",
      "metadata": {
        "id": "2I2nzuLpe3n0",
        "colab": {
          "base_uri": "https://localhost:8080/",
          "height": 679
        },
        "outputId": "1aaee014-b814-44eb-abd1-99c71d5eeb4d"
      },
      "source": [
        "#visualisasi matrix\n",
        "class_names = ytarget\n",
        "np.set_printoptions(precision=2)\n",
        "\n",
        "plot_confusion_matrix(y_test, prediction, classes=class_names,\n",
        "                      title='Confusion matrix, without normalization')\n",
        "\n",
        "plot_confusion_matrix(y_test, prediction, classes=class_names, normalize=True,\n",
        "                      title='Normalized Confusion matrix')\n",
        "\n",
        "plt.show()"
      ],
      "execution_count": 21,
      "outputs": [
        {
          "output_type": "stream",
          "text": [
            "Confusion Matrix, without normalization\n",
            "[[779  11]\n",
            " [ 99  16]]\n",
            "Normalized Confusion Matrix\n",
            "[[0.99 0.01]\n",
            " [0.86 0.14]]\n"
          ],
          "name": "stdout"
        },
        {
          "output_type": "display_data",
          "data": {
            "image/png": "[encoded data removed]",
            "text/plain": [
              "<Figure size 432x288 with 1 Axes>"
            ]
          },
          "metadata": {
            "tags": [],
            "needs_background": "light"
          }
        },
        {
          "output_type": "display_data",
          "data": {
            "image/png": "[encoded data removed]",
            "text/plain": [
              "<Figure size 432x288 with 1 Axes>"
            ]
          },
          "metadata": {
            "tags": [],
            "needs_background": "light"
          }
        }
      ]
    },
    {
      "cell_type": "markdown",
      "metadata": {
        "id": "7-THQnVW6X40"
      },
      "source": [
        "Melihat akurasi dari prediksi"
      ]
    },
    {
      "cell_type": "code",
      "metadata": {
        "colab": {
          "base_uri": "https://localhost:8080/"
        },
        "id": "u4eZ_wbcGhmC",
        "outputId": "aaf0f785-db37-43d7-89a9-703c7cdc5221"
      },
      "source": [
        "from sklearn.metrics import accuracy_score\n",
        "\n",
        "accuracy_score(y_test, prediction)"
      ],
      "execution_count": 24,
      "outputs": [
        {
          "output_type": "execute_result",
          "data": {
            "text/plain": [
              "0.8784530386740331"
            ]
          },
          "metadata": {
            "tags": []
          },
          "execution_count": 24
        }
      ]
    },
    {
      "cell_type": "markdown",
      "metadata": {
        "id": "B_Qll8fD6aJ4"
      },
      "source": [
        "melihat nilai recall"
      ]
    },
    {
      "cell_type": "code",
      "metadata": {
        "colab": {
          "base_uri": "https://localhost:8080/"
        },
        "id": "67dgofJQI9HT",
        "outputId": "9cc67721-cab6-41da-bdb9-b93683f90193"
      },
      "source": [
        "from sklearn.metrics import precision_score, recall_score\n",
        "\n",
        "print(recall_score(y_test, prediction))\n",
        "print(precision_score(y_test, prediction))"
      ],
      "execution_count": 25,
      "outputs": [
        {
          "output_type": "stream",
          "text": [
            "0.1391304347826087\n",
            "0.5925925925925926\n"
          ],
          "name": "stdout"
        }
      ]
    },
    {
      "cell_type": "markdown",
      "metadata": {
        "id": "5-OaTomA6cmZ"
      },
      "source": [
        "melihat f1_score"
      ]
    },
    {
      "cell_type": "code",
      "metadata": {
        "colab": {
          "base_uri": "https://localhost:8080/"
        },
        "id": "7cTWIqNXJME6",
        "outputId": "f6de185e-a1da-4dd5-d931-c1c7c9b3ae17"
      },
      "source": [
        "from sklearn.metrics import f1_score\n",
        "f1_score(y_test, prediction)"
      ],
      "execution_count": 26,
      "outputs": [
        {
          "output_type": "execute_result",
          "data": {
            "text/plain": [
              "0.22535211267605637"
            ]
          },
          "metadata": {
            "tags": []
          },
          "execution_count": 26
        }
      ]
    }
  ]
}